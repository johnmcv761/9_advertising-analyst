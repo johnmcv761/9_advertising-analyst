{
  "cells": [
    {
      "cell_type": "markdown",
      "metadata": {
        "id": "Ecj4t6ANtQ50"
      },
      "source": [
        "# Задание по анализу данных"
      ]
    },
    {
      "cell_type": "markdown",
      "metadata": {
        "id": "dPUFkNuYwa0S"
      },
      "source": [
        "## Описание задания\n",
        "\n",
        "Рекламодатель Сигма жалуется на постоянный рост CPA по своим рекламным кампаниям в последние 4 месяца (с июня по сент 2022).\n"
      ]
    },
    {
      "cell_type": "markdown",
      "metadata": {
        "id": "gIi-lZyzxnxa"
      },
      "source": [
        "### Задача\n",
        "\n",
        "Проанализировать его размещение с целью:  \n",
        "1) Выяснить причину растущего CPA  \n",
        "2) Дать рекомендации по снижению и стабилизации CPA до целевого значения (380 руб)  "
      ]
    },
    {
      "cell_type": "markdown",
      "metadata": {
        "id": "56CBEAPuSvnv"
      },
      "source": [
        "### Используемый стек технологий\n",
        "\n",
        "•\tPython  \n",
        "•\tPandas  \n",
        "•\tNumpy  \n",
        "•\tMatplotlib, seaborn  \n",
        "•\tScikit-learn   \n"
      ]
    },
    {
      "cell_type": "markdown",
      "metadata": {
        "id": "P2MRtOMA55wV"
      },
      "source": [
        "## Описание данных\n",
        "\n",
        "Client – название клиента  \n",
        "Device – тип устройства  \n",
        "Place – тип площадки  \n",
        "BannerType – тип объявления  \n",
        "QueryType – тип запроса  \n",
        "TargetingType – тип таргетинга  \n",
        "Cost - расходы рекламодателя  \n",
        "Conversions – целевые визиты  \n"
      ]
    },
    {
      "cell_type": "markdown",
      "source": [
        "## Ожидаемый результат\n",
        "\n",
        "- Презентация в ppt с выводами и графиками  \n",
        "- Исходники с расчетами в свободном, но структурированном и читаемом формате (на ваше усмотрение - ссылки на xlsx-файл, data studio, bi и тд)  \n"
      ],
      "metadata": {
        "id": "AZczWJ14YI_B"
      }
    },
    {
      "cell_type": "markdown",
      "metadata": {
        "id": "59Q7N_bVtQ52"
      },
      "source": [
        "### План"
      ]
    },
    {
      "cell_type": "markdown",
      "metadata": {
        "id": "tV8JtuKztQ52"
      },
      "source": [
        "**1. Знакомство с данными**\n",
        " - загрузка\n",
        " - общая информация\n",
        " - исследовательский анализ, характер данных, специфика объектов\n",
        "    \n",
        "**2. Анализ роста CPA, визуализация**\n",
        "    \n",
        "**3. Пути решения, визуализация, вывод**"
      ]
    },
    {
      "cell_type": "markdown",
      "metadata": {
        "id": "Q2RxYkXDtQ52"
      },
      "source": [
        "**************"
      ]
    },
    {
      "cell_type": "markdown",
      "metadata": {
        "id": "qbSyl_aVtQ52"
      },
      "source": [
        "## **1. Знакомство с данными**"
      ]
    },
    {
      "cell_type": "code",
      "execution_count": 1,
      "metadata": {
        "id": "EN3H_waODkD5"
      },
      "outputs": [],
      "source": [
        "import pandas as pd\n",
        "import numpy as np\n",
        "import datetime\n",
        "import matplotlib.pyplot as plt\n",
        "import seaborn as sns\n",
        "\n",
        "import warnings\n",
        "warnings.filterwarnings(\"ignore\")\n",
        "warnings.simplefilter(action='ignore', category=FutureWarning)\n",
        "\n",
        "pd.options.display.max_columns = 200\n",
        "pd.options.display.max_rows = 200\n",
        "pd.options.display.float_format = '{:.2f}'.format\n",
        "pd.options.mode.chained_assignment = None"
      ]
    },
    {
      "cell_type": "markdown",
      "metadata": {
        "id": "_AYdlxsYtQ53"
      },
      "source": [
        "### Загрузка данных"
      ]
    },
    {
      "cell_type": "code",
      "execution_count": 2,
      "metadata": {
        "id": "AJsIYAHGjNPo"
      },
      "outputs": [],
      "source": [
        "df = pd.read_excel('//content/data.xlsx')"
      ]
    },
    {
      "cell_type": "markdown",
      "metadata": {
        "id": "7LHbBU1htQ56"
      },
      "source": [
        "### Общая информация"
      ]
    },
    {
      "cell_type": "markdown",
      "source": [
        "Размер таблицы"
      ],
      "metadata": {
        "id": "AoxsXD91raKG"
      }
    },
    {
      "cell_type": "code",
      "source": [
        "df.shape"
      ],
      "metadata": {
        "colab": {
          "base_uri": "https://localhost:8080/"
        },
        "id": "8tLjoqzkpjdi",
        "outputId": "0d930c11-1c73-4365-b4da-d8015b85c97d"
      },
      "execution_count": 3,
      "outputs": [
        {
          "output_type": "execute_result",
          "data": {
            "text/plain": [
              "(10478, 12)"
            ]
          },
          "metadata": {},
          "execution_count": 3
        }
      ]
    },
    {
      "cell_type": "markdown",
      "source": [
        "Имеем 12 признаков у 10478 объектов"
      ],
      "metadata": {
        "id": "ULdKks3bsr4A"
      }
    },
    {
      "cell_type": "code",
      "execution_count": 4,
      "metadata": {
        "id": "4h6E5zb_HtAh",
        "colab": {
          "base_uri": "https://localhost:8080/",
          "height": 434
        },
        "outputId": "71f45c9f-9ff5-4a0f-a92f-ed66212ab2a7"
      },
      "outputs": [
        {
          "output_type": "execute_result",
          "data": {
            "text/plain": [
              "   Client      Month                        Category   Device     Place  \\\n",
              "0  Псилон 2021-04-01  РАСЧЕТНО-КАССОВОЕ ОБСЛУЖИВАНИЕ  Desktop  Networks   \n",
              "1  Псилон 2021-04-01  РАСЧЕТНО-КАССОВОЕ ОБСЛУЖИВАНИЕ  Desktop  Networks   \n",
              "2  Псилон 2021-04-01  РАСЧЕТНО-КАССОВОЕ ОБСЛУЖИВАНИЕ   Mobile  Networks   \n",
              "3   Гамма 2021-04-01  РАСЧЕТНО-КАССОВОЕ ОБСЛУЖИВАНИЕ  Desktop  Networks   \n",
              "4   Гамма 2021-04-01  РАСЧЕТНО-КАССОВОЕ ОБСЛУЖИВАНИЕ   Mobile  Networks   \n",
              "\n",
              "  BannerType QueryType (search only) TargetingType  Shows  Clicks    Cost  \\\n",
              "0  cpc_video                    none        Phrase      0       0    0.00   \n",
              "1  cpc_video                    none   Retargeting   5949      41 1666.84   \n",
              "2  cpc_video                    none   Retargeting    191       6   40.64   \n",
              "3   image_ad                    none   Retargeting    227       1   45.75   \n",
              "4   image_ad                    none   Retargeting     18       0    0.00   \n",
              "\n",
              "   Conversions  \n",
              "0            0  \n",
              "1            0  \n",
              "2            0  \n",
              "3            0  \n",
              "4            0  "
            ],
            "text/html": [
              "\n",
              "  <div id=\"df-d80c598c-ee2c-4e43-ac07-ee2a171fa65b\" class=\"colab-df-container\">\n",
              "    <div>\n",
              "<style scoped>\n",
              "    .dataframe tbody tr th:only-of-type {\n",
              "        vertical-align: middle;\n",
              "    }\n",
              "\n",
              "    .dataframe tbody tr th {\n",
              "        vertical-align: top;\n",
              "    }\n",
              "\n",
              "    .dataframe thead th {\n",
              "        text-align: right;\n",
              "    }\n",
              "</style>\n",
              "<table border=\"1\" class=\"dataframe\">\n",
              "  <thead>\n",
              "    <tr style=\"text-align: right;\">\n",
              "      <th></th>\n",
              "      <th>Client</th>\n",
              "      <th>Month</th>\n",
              "      <th>Category</th>\n",
              "      <th>Device</th>\n",
              "      <th>Place</th>\n",
              "      <th>BannerType</th>\n",
              "      <th>QueryType (search only)</th>\n",
              "      <th>TargetingType</th>\n",
              "      <th>Shows</th>\n",
              "      <th>Clicks</th>\n",
              "      <th>Cost</th>\n",
              "      <th>Conversions</th>\n",
              "    </tr>\n",
              "  </thead>\n",
              "  <tbody>\n",
              "    <tr>\n",
              "      <th>0</th>\n",
              "      <td>Псилон</td>\n",
              "      <td>2021-04-01</td>\n",
              "      <td>РАСЧЕТНО-КАССОВОЕ ОБСЛУЖИВАНИЕ</td>\n",
              "      <td>Desktop</td>\n",
              "      <td>Networks</td>\n",
              "      <td>cpc_video</td>\n",
              "      <td>none</td>\n",
              "      <td>Phrase</td>\n",
              "      <td>0</td>\n",
              "      <td>0</td>\n",
              "      <td>0.00</td>\n",
              "      <td>0</td>\n",
              "    </tr>\n",
              "    <tr>\n",
              "      <th>1</th>\n",
              "      <td>Псилон</td>\n",
              "      <td>2021-04-01</td>\n",
              "      <td>РАСЧЕТНО-КАССОВОЕ ОБСЛУЖИВАНИЕ</td>\n",
              "      <td>Desktop</td>\n",
              "      <td>Networks</td>\n",
              "      <td>cpc_video</td>\n",
              "      <td>none</td>\n",
              "      <td>Retargeting</td>\n",
              "      <td>5949</td>\n",
              "      <td>41</td>\n",
              "      <td>1666.84</td>\n",
              "      <td>0</td>\n",
              "    </tr>\n",
              "    <tr>\n",
              "      <th>2</th>\n",
              "      <td>Псилон</td>\n",
              "      <td>2021-04-01</td>\n",
              "      <td>РАСЧЕТНО-КАССОВОЕ ОБСЛУЖИВАНИЕ</td>\n",
              "      <td>Mobile</td>\n",
              "      <td>Networks</td>\n",
              "      <td>cpc_video</td>\n",
              "      <td>none</td>\n",
              "      <td>Retargeting</td>\n",
              "      <td>191</td>\n",
              "      <td>6</td>\n",
              "      <td>40.64</td>\n",
              "      <td>0</td>\n",
              "    </tr>\n",
              "    <tr>\n",
              "      <th>3</th>\n",
              "      <td>Гамма</td>\n",
              "      <td>2021-04-01</td>\n",
              "      <td>РАСЧЕТНО-КАССОВОЕ ОБСЛУЖИВАНИЕ</td>\n",
              "      <td>Desktop</td>\n",
              "      <td>Networks</td>\n",
              "      <td>image_ad</td>\n",
              "      <td>none</td>\n",
              "      <td>Retargeting</td>\n",
              "      <td>227</td>\n",
              "      <td>1</td>\n",
              "      <td>45.75</td>\n",
              "      <td>0</td>\n",
              "    </tr>\n",
              "    <tr>\n",
              "      <th>4</th>\n",
              "      <td>Гамма</td>\n",
              "      <td>2021-04-01</td>\n",
              "      <td>РАСЧЕТНО-КАССОВОЕ ОБСЛУЖИВАНИЕ</td>\n",
              "      <td>Mobile</td>\n",
              "      <td>Networks</td>\n",
              "      <td>image_ad</td>\n",
              "      <td>none</td>\n",
              "      <td>Retargeting</td>\n",
              "      <td>18</td>\n",
              "      <td>0</td>\n",
              "      <td>0.00</td>\n",
              "      <td>0</td>\n",
              "    </tr>\n",
              "  </tbody>\n",
              "</table>\n",
              "</div>\n",
              "    <div class=\"colab-df-buttons\">\n",
              "\n",
              "  <div class=\"colab-df-container\">\n",
              "    <button class=\"colab-df-convert\" onclick=\"convertToInteractive('df-d80c598c-ee2c-4e43-ac07-ee2a171fa65b')\"\n",
              "            title=\"Convert this dataframe to an interactive table.\"\n",
              "            style=\"display:none;\">\n",
              "\n",
              "  <svg xmlns=\"http://www.w3.org/2000/svg\" height=\"24px\" viewBox=\"0 -960 960 960\">\n",
              "    <path d=\"M120-120v-720h720v720H120Zm60-500h600v-160H180v160Zm220 220h160v-160H400v160Zm0 220h160v-160H400v160ZM180-400h160v-160H180v160Zm440 0h160v-160H620v160ZM180-180h160v-160H180v160Zm440 0h160v-160H620v160Z\"/>\n",
              "  </svg>\n",
              "    </button>\n",
              "\n",
              "  <style>\n",
              "    .colab-df-container {\n",
              "      display:flex;\n",
              "      gap: 12px;\n",
              "    }\n",
              "\n",
              "    .colab-df-convert {\n",
              "      background-color: #E8F0FE;\n",
              "      border: none;\n",
              "      border-radius: 50%;\n",
              "      cursor: pointer;\n",
              "      display: none;\n",
              "      fill: #1967D2;\n",
              "      height: 32px;\n",
              "      padding: 0 0 0 0;\n",
              "      width: 32px;\n",
              "    }\n",
              "\n",
              "    .colab-df-convert:hover {\n",
              "      background-color: #E2EBFA;\n",
              "      box-shadow: 0px 1px 2px rgba(60, 64, 67, 0.3), 0px 1px 3px 1px rgba(60, 64, 67, 0.15);\n",
              "      fill: #174EA6;\n",
              "    }\n",
              "\n",
              "    .colab-df-buttons div {\n",
              "      margin-bottom: 4px;\n",
              "    }\n",
              "\n",
              "    [theme=dark] .colab-df-convert {\n",
              "      background-color: #3B4455;\n",
              "      fill: #D2E3FC;\n",
              "    }\n",
              "\n",
              "    [theme=dark] .colab-df-convert:hover {\n",
              "      background-color: #434B5C;\n",
              "      box-shadow: 0px 1px 3px 1px rgba(0, 0, 0, 0.15);\n",
              "      filter: drop-shadow(0px 1px 2px rgba(0, 0, 0, 0.3));\n",
              "      fill: #FFFFFF;\n",
              "    }\n",
              "  </style>\n",
              "\n",
              "    <script>\n",
              "      const buttonEl =\n",
              "        document.querySelector('#df-d80c598c-ee2c-4e43-ac07-ee2a171fa65b button.colab-df-convert');\n",
              "      buttonEl.style.display =\n",
              "        google.colab.kernel.accessAllowed ? 'block' : 'none';\n",
              "\n",
              "      async function convertToInteractive(key) {\n",
              "        const element = document.querySelector('#df-d80c598c-ee2c-4e43-ac07-ee2a171fa65b');\n",
              "        const dataTable =\n",
              "          await google.colab.kernel.invokeFunction('convertToInteractive',\n",
              "                                                    [key], {});\n",
              "        if (!dataTable) return;\n",
              "\n",
              "        const docLinkHtml = 'Like what you see? Visit the ' +\n",
              "          '<a target=\"_blank\" href=https://colab.research.google.com/notebooks/data_table.ipynb>data table notebook</a>'\n",
              "          + ' to learn more about interactive tables.';\n",
              "        element.innerHTML = '';\n",
              "        dataTable['output_type'] = 'display_data';\n",
              "        await google.colab.output.renderOutput(dataTable, element);\n",
              "        const docLink = document.createElement('div');\n",
              "        docLink.innerHTML = docLinkHtml;\n",
              "        element.appendChild(docLink);\n",
              "      }\n",
              "    </script>\n",
              "  </div>\n",
              "\n",
              "\n",
              "<div id=\"df-30af4875-e9c3-4a34-b857-c4585bdbc9f7\">\n",
              "  <button class=\"colab-df-quickchart\" onclick=\"quickchart('df-30af4875-e9c3-4a34-b857-c4585bdbc9f7')\"\n",
              "            title=\"Suggest charts\"\n",
              "            style=\"display:none;\">\n",
              "\n",
              "<svg xmlns=\"http://www.w3.org/2000/svg\" height=\"24px\"viewBox=\"0 0 24 24\"\n",
              "     width=\"24px\">\n",
              "    <g>\n",
              "        <path d=\"M19 3H5c-1.1 0-2 .9-2 2v14c0 1.1.9 2 2 2h14c1.1 0 2-.9 2-2V5c0-1.1-.9-2-2-2zM9 17H7v-7h2v7zm4 0h-2V7h2v10zm4 0h-2v-4h2v4z\"/>\n",
              "    </g>\n",
              "</svg>\n",
              "  </button>\n",
              "\n",
              "<style>\n",
              "  .colab-df-quickchart {\n",
              "      --bg-color: #E8F0FE;\n",
              "      --fill-color: #1967D2;\n",
              "      --hover-bg-color: #E2EBFA;\n",
              "      --hover-fill-color: #174EA6;\n",
              "      --disabled-fill-color: #AAA;\n",
              "      --disabled-bg-color: #DDD;\n",
              "  }\n",
              "\n",
              "  [theme=dark] .colab-df-quickchart {\n",
              "      --bg-color: #3B4455;\n",
              "      --fill-color: #D2E3FC;\n",
              "      --hover-bg-color: #434B5C;\n",
              "      --hover-fill-color: #FFFFFF;\n",
              "      --disabled-bg-color: #3B4455;\n",
              "      --disabled-fill-color: #666;\n",
              "  }\n",
              "\n",
              "  .colab-df-quickchart {\n",
              "    background-color: var(--bg-color);\n",
              "    border: none;\n",
              "    border-radius: 50%;\n",
              "    cursor: pointer;\n",
              "    display: none;\n",
              "    fill: var(--fill-color);\n",
              "    height: 32px;\n",
              "    padding: 0;\n",
              "    width: 32px;\n",
              "  }\n",
              "\n",
              "  .colab-df-quickchart:hover {\n",
              "    background-color: var(--hover-bg-color);\n",
              "    box-shadow: 0 1px 2px rgba(60, 64, 67, 0.3), 0 1px 3px 1px rgba(60, 64, 67, 0.15);\n",
              "    fill: var(--button-hover-fill-color);\n",
              "  }\n",
              "\n",
              "  .colab-df-quickchart-complete:disabled,\n",
              "  .colab-df-quickchart-complete:disabled:hover {\n",
              "    background-color: var(--disabled-bg-color);\n",
              "    fill: var(--disabled-fill-color);\n",
              "    box-shadow: none;\n",
              "  }\n",
              "\n",
              "  .colab-df-spinner {\n",
              "    border: 2px solid var(--fill-color);\n",
              "    border-color: transparent;\n",
              "    border-bottom-color: var(--fill-color);\n",
              "    animation:\n",
              "      spin 1s steps(1) infinite;\n",
              "  }\n",
              "\n",
              "  @keyframes spin {\n",
              "    0% {\n",
              "      border-color: transparent;\n",
              "      border-bottom-color: var(--fill-color);\n",
              "      border-left-color: var(--fill-color);\n",
              "    }\n",
              "    20% {\n",
              "      border-color: transparent;\n",
              "      border-left-color: var(--fill-color);\n",
              "      border-top-color: var(--fill-color);\n",
              "    }\n",
              "    30% {\n",
              "      border-color: transparent;\n",
              "      border-left-color: var(--fill-color);\n",
              "      border-top-color: var(--fill-color);\n",
              "      border-right-color: var(--fill-color);\n",
              "    }\n",
              "    40% {\n",
              "      border-color: transparent;\n",
              "      border-right-color: var(--fill-color);\n",
              "      border-top-color: var(--fill-color);\n",
              "    }\n",
              "    60% {\n",
              "      border-color: transparent;\n",
              "      border-right-color: var(--fill-color);\n",
              "    }\n",
              "    80% {\n",
              "      border-color: transparent;\n",
              "      border-right-color: var(--fill-color);\n",
              "      border-bottom-color: var(--fill-color);\n",
              "    }\n",
              "    90% {\n",
              "      border-color: transparent;\n",
              "      border-bottom-color: var(--fill-color);\n",
              "    }\n",
              "  }\n",
              "</style>\n",
              "\n",
              "  <script>\n",
              "    async function quickchart(key) {\n",
              "      const quickchartButtonEl =\n",
              "        document.querySelector('#' + key + ' button');\n",
              "      quickchartButtonEl.disabled = true;  // To prevent multiple clicks.\n",
              "      quickchartButtonEl.classList.add('colab-df-spinner');\n",
              "      try {\n",
              "        const charts = await google.colab.kernel.invokeFunction(\n",
              "            'suggestCharts', [key], {});\n",
              "      } catch (error) {\n",
              "        console.error('Error during call to suggestCharts:', error);\n",
              "      }\n",
              "      quickchartButtonEl.classList.remove('colab-df-spinner');\n",
              "      quickchartButtonEl.classList.add('colab-df-quickchart-complete');\n",
              "    }\n",
              "    (() => {\n",
              "      let quickchartButtonEl =\n",
              "        document.querySelector('#df-30af4875-e9c3-4a34-b857-c4585bdbc9f7 button');\n",
              "      quickchartButtonEl.style.display =\n",
              "        google.colab.kernel.accessAllowed ? 'block' : 'none';\n",
              "    })();\n",
              "  </script>\n",
              "</div>\n",
              "    </div>\n",
              "  </div>\n"
            ],
            "application/vnd.google.colaboratory.intrinsic+json": {
              "type": "dataframe",
              "variable_name": "df",
              "summary": "{\n  \"name\": \"df\",\n  \"rows\": 10478,\n  \"fields\": [\n    {\n      \"column\": \"Client\",\n      \"properties\": {\n        \"dtype\": \"category\",\n        \"num_unique_values\": 10,\n        \"samples\": [\n          \"\\u041c\\u0435\\u0442\\u0430\",\n          \"\\u0413\\u0430\\u043c\\u043c\\u0430\",\n          \"\\u0417\\u0435\\u0442\\u0430\"\n        ],\n        \"semantic_type\": \"\",\n        \"description\": \"\"\n      }\n    },\n    {\n      \"column\": \"Month\",\n      \"properties\": {\n        \"dtype\": \"date\",\n        \"min\": \"2021-04-01 00:00:00\",\n        \"max\": \"2022-09-01 00:00:00\",\n        \"num_unique_values\": 18,\n        \"samples\": [\n          \"2021-04-01 00:00:00\",\n          \"2021-05-01 00:00:00\",\n          \"2021-12-01 00:00:00\"\n        ],\n        \"semantic_type\": \"\",\n        \"description\": \"\"\n      }\n    },\n    {\n      \"column\": \"Category\",\n      \"properties\": {\n        \"dtype\": \"category\",\n        \"num_unique_values\": 7,\n        \"samples\": [\n          \"\\u0420\\u0410\\u0421\\u0427\\u0415\\u0422\\u041d\\u041e-\\u041a\\u0410\\u0421\\u0421\\u041e\\u0412\\u041e\\u0415 \\u041e\\u0411\\u0421\\u041b\\u0423\\u0416\\u0418\\u0412\\u0410\\u041d\\u0418\\u0415\",\n          \"\\u041f\\u041e\\u0422\\u0420\\u0415\\u0411\\u0418\\u0422\\u0415\\u041b\\u042c\\u0421\\u041a\\u041e\\u0415 \\u041a\\u0420\\u0415\\u0414\\u0418\\u0422\\u041e\\u0412\\u0410\\u041d\\u0418\\u0415\",\n          \"\\u0414\\u0415\\u0411\\u0415\\u0422\\u041e\\u0412\\u042b\\u0415 \\u041a\\u0410\\u0420\\u0422\\u042b\"\n        ],\n        \"semantic_type\": \"\",\n        \"description\": \"\"\n      }\n    },\n    {\n      \"column\": \"Device\",\n      \"properties\": {\n        \"dtype\": \"category\",\n        \"num_unique_values\": 2,\n        \"samples\": [\n          \"Mobile\",\n          \"Desktop\"\n        ],\n        \"semantic_type\": \"\",\n        \"description\": \"\"\n      }\n    },\n    {\n      \"column\": \"Place\",\n      \"properties\": {\n        \"dtype\": \"category\",\n        \"num_unique_values\": 2,\n        \"samples\": [\n          \"Search\",\n          \"Networks\"\n        ],\n        \"semantic_type\": \"\",\n        \"description\": \"\"\n      }\n    },\n    {\n      \"column\": \"BannerType\",\n      \"properties\": {\n        \"dtype\": \"category\",\n        \"num_unique_values\": 7,\n        \"samples\": [\n          \"cpc_video\",\n          \"image_ad\"\n        ],\n        \"semantic_type\": \"\",\n        \"description\": \"\"\n      }\n    },\n    {\n      \"column\": \"QueryType (search only)\",\n      \"properties\": {\n        \"dtype\": \"category\",\n        \"num_unique_values\": 4,\n        \"samples\": [\n          \"Brand\",\n          \"Competitor\"\n        ],\n        \"semantic_type\": \"\",\n        \"description\": \"\"\n      }\n    },\n    {\n      \"column\": \"TargetingType\",\n      \"properties\": {\n        \"dtype\": \"category\",\n        \"num_unique_values\": 3,\n        \"samples\": [\n          \"Phrase\",\n          \"Retargeting\"\n        ],\n        \"semantic_type\": \"\",\n        \"description\": \"\"\n      }\n    },\n    {\n      \"column\": \"Shows\",\n      \"properties\": {\n        \"dtype\": \"number\",\n        \"std\": 15449238,\n        \"min\": 0,\n        \"max\": 583150600,\n        \"num_unique_values\": 6942,\n        \"samples\": [\n          27286,\n          23032\n        ],\n        \"semantic_type\": \"\",\n        \"description\": \"\"\n      }\n    },\n    {\n      \"column\": \"Clicks\",\n      \"properties\": {\n        \"dtype\": \"number\",\n        \"std\": 44548,\n        \"min\": 0,\n        \"max\": 2237376,\n        \"num_unique_values\": 4636,\n        \"samples\": [\n          1497,\n          5825\n        ],\n        \"semantic_type\": \"\",\n        \"description\": \"\"\n      }\n    },\n    {\n      \"column\": \"Cost\",\n      \"properties\": {\n        \"dtype\": \"number\",\n        \"std\": 1211802.1932194515,\n        \"min\": 0.0,\n        \"max\": 39766179.1180932,\n        \"num_unique_values\": 7306,\n        \"samples\": [\n          73.2730932203389,\n          671824.153754237\n        ],\n        \"semantic_type\": \"\",\n        \"description\": \"\"\n      }\n    },\n    {\n      \"column\": \"Conversions\",\n      \"properties\": {\n        \"dtype\": \"number\",\n        \"std\": 2086,\n        \"min\": 0,\n        \"max\": 47259,\n        \"num_unique_values\": 1680,\n        \"samples\": [\n          523,\n          3300\n        ],\n        \"semantic_type\": \"\",\n        \"description\": \"\"\n      }\n    }\n  ]\n}"
            }
          },
          "metadata": {},
          "execution_count": 4
        }
      ],
      "source": [
        "df.head()"
      ]
    },
    {
      "cell_type": "markdown",
      "metadata": {
        "id": "whPQC9ZstQ56"
      },
      "source": [
        "### Исследовательский анализ данных"
      ]
    },
    {
      "cell_type": "code",
      "execution_count": 5,
      "metadata": {
        "id": "yVD_zklPJz2E",
        "colab": {
          "base_uri": "https://localhost:8080/"
        },
        "outputId": "e931136a-745d-44e6-e1b3-50ab7f017ec0"
      },
      "outputs": [
        {
          "output_type": "stream",
          "name": "stdout",
          "text": [
            "<class 'pandas.core.frame.DataFrame'>\n",
            "RangeIndex: 10478 entries, 0 to 10477\n",
            "Data columns (total 12 columns):\n",
            " #   Column                   Non-Null Count  Dtype         \n",
            "---  ------                   --------------  -----         \n",
            " 0   Client                   10478 non-null  object        \n",
            " 1   Month                    10478 non-null  datetime64[ns]\n",
            " 2   Category                 10478 non-null  object        \n",
            " 3   Device                   10478 non-null  object        \n",
            " 4   Place                    10478 non-null  object        \n",
            " 5   BannerType               10478 non-null  object        \n",
            " 6   QueryType (search only)  10478 non-null  object        \n",
            " 7   TargetingType            10478 non-null  object        \n",
            " 8   Shows                    10478 non-null  int64         \n",
            " 9   Clicks                   10478 non-null  int64         \n",
            " 10  Cost                     10478 non-null  float64       \n",
            " 11  Conversions              10478 non-null  int64         \n",
            "dtypes: datetime64[ns](1), float64(1), int64(3), object(7)\n",
            "memory usage: 982.4+ KB\n"
          ]
        }
      ],
      "source": [
        "df.info()"
      ]
    },
    {
      "cell_type": "markdown",
      "metadata": {
        "id": "5_DMPa2DtQ6I"
      },
      "source": [
        "Таблиц содержат типы данных int, float, object, datetime.\n",
        "\n",
        "\n"
      ]
    },
    {
      "cell_type": "code",
      "execution_count": 6,
      "metadata": {
        "id": "E4SpGEQ7j359",
        "colab": {
          "base_uri": "https://localhost:8080/",
          "height": 425
        },
        "outputId": "7fdbe395-730f-4c65-842c-4a55a0e4817e"
      },
      "outputs": [
        {
          "output_type": "execute_result",
          "data": {
            "text/plain": [
              "                         nan\n",
              "Client                  0.00\n",
              "Month                   0.00\n",
              "Category                0.00\n",
              "Device                  0.00\n",
              "Place                   0.00\n",
              "BannerType              0.00\n",
              "QueryType (search only) 0.00\n",
              "TargetingType           0.00\n",
              "Shows                   0.00\n",
              "Clicks                  0.00\n",
              "Cost                    0.00\n",
              "Conversions             0.00"
            ],
            "text/html": [
              "\n",
              "  <div id=\"df-800216fe-f4c6-4174-a891-5a3bc4b01a0c\" class=\"colab-df-container\">\n",
              "    <div>\n",
              "<style scoped>\n",
              "    .dataframe tbody tr th:only-of-type {\n",
              "        vertical-align: middle;\n",
              "    }\n",
              "\n",
              "    .dataframe tbody tr th {\n",
              "        vertical-align: top;\n",
              "    }\n",
              "\n",
              "    .dataframe thead th {\n",
              "        text-align: right;\n",
              "    }\n",
              "</style>\n",
              "<table border=\"1\" class=\"dataframe\">\n",
              "  <thead>\n",
              "    <tr style=\"text-align: right;\">\n",
              "      <th></th>\n",
              "      <th>nan</th>\n",
              "    </tr>\n",
              "  </thead>\n",
              "  <tbody>\n",
              "    <tr>\n",
              "      <th>Client</th>\n",
              "      <td>0.00</td>\n",
              "    </tr>\n",
              "    <tr>\n",
              "      <th>Month</th>\n",
              "      <td>0.00</td>\n",
              "    </tr>\n",
              "    <tr>\n",
              "      <th>Category</th>\n",
              "      <td>0.00</td>\n",
              "    </tr>\n",
              "    <tr>\n",
              "      <th>Device</th>\n",
              "      <td>0.00</td>\n",
              "    </tr>\n",
              "    <tr>\n",
              "      <th>Place</th>\n",
              "      <td>0.00</td>\n",
              "    </tr>\n",
              "    <tr>\n",
              "      <th>BannerType</th>\n",
              "      <td>0.00</td>\n",
              "    </tr>\n",
              "    <tr>\n",
              "      <th>QueryType (search only)</th>\n",
              "      <td>0.00</td>\n",
              "    </tr>\n",
              "    <tr>\n",
              "      <th>TargetingType</th>\n",
              "      <td>0.00</td>\n",
              "    </tr>\n",
              "    <tr>\n",
              "      <th>Shows</th>\n",
              "      <td>0.00</td>\n",
              "    </tr>\n",
              "    <tr>\n",
              "      <th>Clicks</th>\n",
              "      <td>0.00</td>\n",
              "    </tr>\n",
              "    <tr>\n",
              "      <th>Cost</th>\n",
              "      <td>0.00</td>\n",
              "    </tr>\n",
              "    <tr>\n",
              "      <th>Conversions</th>\n",
              "      <td>0.00</td>\n",
              "    </tr>\n",
              "  </tbody>\n",
              "</table>\n",
              "</div>\n",
              "    <div class=\"colab-df-buttons\">\n",
              "\n",
              "  <div class=\"colab-df-container\">\n",
              "    <button class=\"colab-df-convert\" onclick=\"convertToInteractive('df-800216fe-f4c6-4174-a891-5a3bc4b01a0c')\"\n",
              "            title=\"Convert this dataframe to an interactive table.\"\n",
              "            style=\"display:none;\">\n",
              "\n",
              "  <svg xmlns=\"http://www.w3.org/2000/svg\" height=\"24px\" viewBox=\"0 -960 960 960\">\n",
              "    <path d=\"M120-120v-720h720v720H120Zm60-500h600v-160H180v160Zm220 220h160v-160H400v160Zm0 220h160v-160H400v160ZM180-400h160v-160H180v160Zm440 0h160v-160H620v160ZM180-180h160v-160H180v160Zm440 0h160v-160H620v160Z\"/>\n",
              "  </svg>\n",
              "    </button>\n",
              "\n",
              "  <style>\n",
              "    .colab-df-container {\n",
              "      display:flex;\n",
              "      gap: 12px;\n",
              "    }\n",
              "\n",
              "    .colab-df-convert {\n",
              "      background-color: #E8F0FE;\n",
              "      border: none;\n",
              "      border-radius: 50%;\n",
              "      cursor: pointer;\n",
              "      display: none;\n",
              "      fill: #1967D2;\n",
              "      height: 32px;\n",
              "      padding: 0 0 0 0;\n",
              "      width: 32px;\n",
              "    }\n",
              "\n",
              "    .colab-df-convert:hover {\n",
              "      background-color: #E2EBFA;\n",
              "      box-shadow: 0px 1px 2px rgba(60, 64, 67, 0.3), 0px 1px 3px 1px rgba(60, 64, 67, 0.15);\n",
              "      fill: #174EA6;\n",
              "    }\n",
              "\n",
              "    .colab-df-buttons div {\n",
              "      margin-bottom: 4px;\n",
              "    }\n",
              "\n",
              "    [theme=dark] .colab-df-convert {\n",
              "      background-color: #3B4455;\n",
              "      fill: #D2E3FC;\n",
              "    }\n",
              "\n",
              "    [theme=dark] .colab-df-convert:hover {\n",
              "      background-color: #434B5C;\n",
              "      box-shadow: 0px 1px 3px 1px rgba(0, 0, 0, 0.15);\n",
              "      filter: drop-shadow(0px 1px 2px rgba(0, 0, 0, 0.3));\n",
              "      fill: #FFFFFF;\n",
              "    }\n",
              "  </style>\n",
              "\n",
              "    <script>\n",
              "      const buttonEl =\n",
              "        document.querySelector('#df-800216fe-f4c6-4174-a891-5a3bc4b01a0c button.colab-df-convert');\n",
              "      buttonEl.style.display =\n",
              "        google.colab.kernel.accessAllowed ? 'block' : 'none';\n",
              "\n",
              "      async function convertToInteractive(key) {\n",
              "        const element = document.querySelector('#df-800216fe-f4c6-4174-a891-5a3bc4b01a0c');\n",
              "        const dataTable =\n",
              "          await google.colab.kernel.invokeFunction('convertToInteractive',\n",
              "                                                    [key], {});\n",
              "        if (!dataTable) return;\n",
              "\n",
              "        const docLinkHtml = 'Like what you see? Visit the ' +\n",
              "          '<a target=\"_blank\" href=https://colab.research.google.com/notebooks/data_table.ipynb>data table notebook</a>'\n",
              "          + ' to learn more about interactive tables.';\n",
              "        element.innerHTML = '';\n",
              "        dataTable['output_type'] = 'display_data';\n",
              "        await google.colab.output.renderOutput(dataTable, element);\n",
              "        const docLink = document.createElement('div');\n",
              "        docLink.innerHTML = docLinkHtml;\n",
              "        element.appendChild(docLink);\n",
              "      }\n",
              "    </script>\n",
              "  </div>\n",
              "\n",
              "\n",
              "<div id=\"df-59f23f92-42a1-435b-8007-baa6c0c02961\">\n",
              "  <button class=\"colab-df-quickchart\" onclick=\"quickchart('df-59f23f92-42a1-435b-8007-baa6c0c02961')\"\n",
              "            title=\"Suggest charts\"\n",
              "            style=\"display:none;\">\n",
              "\n",
              "<svg xmlns=\"http://www.w3.org/2000/svg\" height=\"24px\"viewBox=\"0 0 24 24\"\n",
              "     width=\"24px\">\n",
              "    <g>\n",
              "        <path d=\"M19 3H5c-1.1 0-2 .9-2 2v14c0 1.1.9 2 2 2h14c1.1 0 2-.9 2-2V5c0-1.1-.9-2-2-2zM9 17H7v-7h2v7zm4 0h-2V7h2v10zm4 0h-2v-4h2v4z\"/>\n",
              "    </g>\n",
              "</svg>\n",
              "  </button>\n",
              "\n",
              "<style>\n",
              "  .colab-df-quickchart {\n",
              "      --bg-color: #E8F0FE;\n",
              "      --fill-color: #1967D2;\n",
              "      --hover-bg-color: #E2EBFA;\n",
              "      --hover-fill-color: #174EA6;\n",
              "      --disabled-fill-color: #AAA;\n",
              "      --disabled-bg-color: #DDD;\n",
              "  }\n",
              "\n",
              "  [theme=dark] .colab-df-quickchart {\n",
              "      --bg-color: #3B4455;\n",
              "      --fill-color: #D2E3FC;\n",
              "      --hover-bg-color: #434B5C;\n",
              "      --hover-fill-color: #FFFFFF;\n",
              "      --disabled-bg-color: #3B4455;\n",
              "      --disabled-fill-color: #666;\n",
              "  }\n",
              "\n",
              "  .colab-df-quickchart {\n",
              "    background-color: var(--bg-color);\n",
              "    border: none;\n",
              "    border-radius: 50%;\n",
              "    cursor: pointer;\n",
              "    display: none;\n",
              "    fill: var(--fill-color);\n",
              "    height: 32px;\n",
              "    padding: 0;\n",
              "    width: 32px;\n",
              "  }\n",
              "\n",
              "  .colab-df-quickchart:hover {\n",
              "    background-color: var(--hover-bg-color);\n",
              "    box-shadow: 0 1px 2px rgba(60, 64, 67, 0.3), 0 1px 3px 1px rgba(60, 64, 67, 0.15);\n",
              "    fill: var(--button-hover-fill-color);\n",
              "  }\n",
              "\n",
              "  .colab-df-quickchart-complete:disabled,\n",
              "  .colab-df-quickchart-complete:disabled:hover {\n",
              "    background-color: var(--disabled-bg-color);\n",
              "    fill: var(--disabled-fill-color);\n",
              "    box-shadow: none;\n",
              "  }\n",
              "\n",
              "  .colab-df-spinner {\n",
              "    border: 2px solid var(--fill-color);\n",
              "    border-color: transparent;\n",
              "    border-bottom-color: var(--fill-color);\n",
              "    animation:\n",
              "      spin 1s steps(1) infinite;\n",
              "  }\n",
              "\n",
              "  @keyframes spin {\n",
              "    0% {\n",
              "      border-color: transparent;\n",
              "      border-bottom-color: var(--fill-color);\n",
              "      border-left-color: var(--fill-color);\n",
              "    }\n",
              "    20% {\n",
              "      border-color: transparent;\n",
              "      border-left-color: var(--fill-color);\n",
              "      border-top-color: var(--fill-color);\n",
              "    }\n",
              "    30% {\n",
              "      border-color: transparent;\n",
              "      border-left-color: var(--fill-color);\n",
              "      border-top-color: var(--fill-color);\n",
              "      border-right-color: var(--fill-color);\n",
              "    }\n",
              "    40% {\n",
              "      border-color: transparent;\n",
              "      border-right-color: var(--fill-color);\n",
              "      border-top-color: var(--fill-color);\n",
              "    }\n",
              "    60% {\n",
              "      border-color: transparent;\n",
              "      border-right-color: var(--fill-color);\n",
              "    }\n",
              "    80% {\n",
              "      border-color: transparent;\n",
              "      border-right-color: var(--fill-color);\n",
              "      border-bottom-color: var(--fill-color);\n",
              "    }\n",
              "    90% {\n",
              "      border-color: transparent;\n",
              "      border-bottom-color: var(--fill-color);\n",
              "    }\n",
              "  }\n",
              "</style>\n",
              "\n",
              "  <script>\n",
              "    async function quickchart(key) {\n",
              "      const quickchartButtonEl =\n",
              "        document.querySelector('#' + key + ' button');\n",
              "      quickchartButtonEl.disabled = true;  // To prevent multiple clicks.\n",
              "      quickchartButtonEl.classList.add('colab-df-spinner');\n",
              "      try {\n",
              "        const charts = await google.colab.kernel.invokeFunction(\n",
              "            'suggestCharts', [key], {});\n",
              "      } catch (error) {\n",
              "        console.error('Error during call to suggestCharts:', error);\n",
              "      }\n",
              "      quickchartButtonEl.classList.remove('colab-df-spinner');\n",
              "      quickchartButtonEl.classList.add('colab-df-quickchart-complete');\n",
              "    }\n",
              "    (() => {\n",
              "      let quickchartButtonEl =\n",
              "        document.querySelector('#df-59f23f92-42a1-435b-8007-baa6c0c02961 button');\n",
              "      quickchartButtonEl.style.display =\n",
              "        google.colab.kernel.accessAllowed ? 'block' : 'none';\n",
              "    })();\n",
              "  </script>\n",
              "</div>\n",
              "    </div>\n",
              "  </div>\n"
            ],
            "application/vnd.google.colaboratory.intrinsic+json": {
              "type": "dataframe",
              "variable_name": "df_nan",
              "summary": "{\n  \"name\": \"df_nan\",\n  \"rows\": 12,\n  \"fields\": [\n    {\n      \"column\": \"nan\",\n      \"properties\": {\n        \"dtype\": \"number\",\n        \"std\": 0.0,\n        \"min\": 0.0,\n        \"max\": 0.0,\n        \"num_unique_values\": 1,\n        \"samples\": [\n          0.0\n        ],\n        \"semantic_type\": \"\",\n        \"description\": \"\"\n      }\n    }\n  ]\n}"
            }
          },
          "metadata": {},
          "execution_count": 6
        }
      ],
      "source": [
        "df_nan = pd.DataFrame(df.isna().mean().sort_values(ascending=False), columns=['nan'])\n",
        "df_nan"
      ]
    },
    {
      "cell_type": "markdown",
      "metadata": {
        "id": "a1nObqG153bK"
      },
      "source": [
        "Пропуски отсутствуют."
      ]
    },
    {
      "cell_type": "code",
      "execution_count": 7,
      "metadata": {
        "id": "H1bOH_2AZfVm",
        "colab": {
          "base_uri": "https://localhost:8080/"
        },
        "outputId": "a3ee06cf-3fea-49a3-c72d-d53e8ef612e5"
      },
      "outputs": [
        {
          "output_type": "execute_result",
          "data": {
            "text/plain": [
              "0.0"
            ]
          },
          "metadata": {},
          "execution_count": 7
        }
      ],
      "source": [
        "df.duplicated().mean()*100"
      ]
    },
    {
      "cell_type": "markdown",
      "metadata": {
        "id": "m1gKw9yTZfVn"
      },
      "source": [
        "Дубликатов в данных нет"
      ]
    },
    {
      "cell_type": "markdown",
      "metadata": {
        "id": "wojQdTjcCVpb"
      },
      "source": [
        "### Распределение данных"
      ]
    },
    {
      "cell_type": "code",
      "source": [
        "df.head()"
      ],
      "metadata": {
        "colab": {
          "base_uri": "https://localhost:8080/",
          "height": 434
        },
        "id": "zFaKEPF6z8ub",
        "outputId": "c6846e10-8bb7-455f-afdd-99f0c28ef185"
      },
      "execution_count": 8,
      "outputs": [
        {
          "output_type": "execute_result",
          "data": {
            "text/plain": [
              "   Client      Month                        Category   Device     Place  \\\n",
              "0  Псилон 2021-04-01  РАСЧЕТНО-КАССОВОЕ ОБСЛУЖИВАНИЕ  Desktop  Networks   \n",
              "1  Псилон 2021-04-01  РАСЧЕТНО-КАССОВОЕ ОБСЛУЖИВАНИЕ  Desktop  Networks   \n",
              "2  Псилон 2021-04-01  РАСЧЕТНО-КАССОВОЕ ОБСЛУЖИВАНИЕ   Mobile  Networks   \n",
              "3   Гамма 2021-04-01  РАСЧЕТНО-КАССОВОЕ ОБСЛУЖИВАНИЕ  Desktop  Networks   \n",
              "4   Гамма 2021-04-01  РАСЧЕТНО-КАССОВОЕ ОБСЛУЖИВАНИЕ   Mobile  Networks   \n",
              "\n",
              "  BannerType QueryType (search only) TargetingType  Shows  Clicks    Cost  \\\n",
              "0  cpc_video                    none        Phrase      0       0    0.00   \n",
              "1  cpc_video                    none   Retargeting   5949      41 1666.84   \n",
              "2  cpc_video                    none   Retargeting    191       6   40.64   \n",
              "3   image_ad                    none   Retargeting    227       1   45.75   \n",
              "4   image_ad                    none   Retargeting     18       0    0.00   \n",
              "\n",
              "   Conversions  \n",
              "0            0  \n",
              "1            0  \n",
              "2            0  \n",
              "3            0  \n",
              "4            0  "
            ],
            "text/html": [
              "\n",
              "  <div id=\"df-caa77361-7d46-427b-aa6d-eaefbdcc17f7\" class=\"colab-df-container\">\n",
              "    <div>\n",
              "<style scoped>\n",
              "    .dataframe tbody tr th:only-of-type {\n",
              "        vertical-align: middle;\n",
              "    }\n",
              "\n",
              "    .dataframe tbody tr th {\n",
              "        vertical-align: top;\n",
              "    }\n",
              "\n",
              "    .dataframe thead th {\n",
              "        text-align: right;\n",
              "    }\n",
              "</style>\n",
              "<table border=\"1\" class=\"dataframe\">\n",
              "  <thead>\n",
              "    <tr style=\"text-align: right;\">\n",
              "      <th></th>\n",
              "      <th>Client</th>\n",
              "      <th>Month</th>\n",
              "      <th>Category</th>\n",
              "      <th>Device</th>\n",
              "      <th>Place</th>\n",
              "      <th>BannerType</th>\n",
              "      <th>QueryType (search only)</th>\n",
              "      <th>TargetingType</th>\n",
              "      <th>Shows</th>\n",
              "      <th>Clicks</th>\n",
              "      <th>Cost</th>\n",
              "      <th>Conversions</th>\n",
              "    </tr>\n",
              "  </thead>\n",
              "  <tbody>\n",
              "    <tr>\n",
              "      <th>0</th>\n",
              "      <td>Псилон</td>\n",
              "      <td>2021-04-01</td>\n",
              "      <td>РАСЧЕТНО-КАССОВОЕ ОБСЛУЖИВАНИЕ</td>\n",
              "      <td>Desktop</td>\n",
              "      <td>Networks</td>\n",
              "      <td>cpc_video</td>\n",
              "      <td>none</td>\n",
              "      <td>Phrase</td>\n",
              "      <td>0</td>\n",
              "      <td>0</td>\n",
              "      <td>0.00</td>\n",
              "      <td>0</td>\n",
              "    </tr>\n",
              "    <tr>\n",
              "      <th>1</th>\n",
              "      <td>Псилон</td>\n",
              "      <td>2021-04-01</td>\n",
              "      <td>РАСЧЕТНО-КАССОВОЕ ОБСЛУЖИВАНИЕ</td>\n",
              "      <td>Desktop</td>\n",
              "      <td>Networks</td>\n",
              "      <td>cpc_video</td>\n",
              "      <td>none</td>\n",
              "      <td>Retargeting</td>\n",
              "      <td>5949</td>\n",
              "      <td>41</td>\n",
              "      <td>1666.84</td>\n",
              "      <td>0</td>\n",
              "    </tr>\n",
              "    <tr>\n",
              "      <th>2</th>\n",
              "      <td>Псилон</td>\n",
              "      <td>2021-04-01</td>\n",
              "      <td>РАСЧЕТНО-КАССОВОЕ ОБСЛУЖИВАНИЕ</td>\n",
              "      <td>Mobile</td>\n",
              "      <td>Networks</td>\n",
              "      <td>cpc_video</td>\n",
              "      <td>none</td>\n",
              "      <td>Retargeting</td>\n",
              "      <td>191</td>\n",
              "      <td>6</td>\n",
              "      <td>40.64</td>\n",
              "      <td>0</td>\n",
              "    </tr>\n",
              "    <tr>\n",
              "      <th>3</th>\n",
              "      <td>Гамма</td>\n",
              "      <td>2021-04-01</td>\n",
              "      <td>РАСЧЕТНО-КАССОВОЕ ОБСЛУЖИВАНИЕ</td>\n",
              "      <td>Desktop</td>\n",
              "      <td>Networks</td>\n",
              "      <td>image_ad</td>\n",
              "      <td>none</td>\n",
              "      <td>Retargeting</td>\n",
              "      <td>227</td>\n",
              "      <td>1</td>\n",
              "      <td>45.75</td>\n",
              "      <td>0</td>\n",
              "    </tr>\n",
              "    <tr>\n",
              "      <th>4</th>\n",
              "      <td>Гамма</td>\n",
              "      <td>2021-04-01</td>\n",
              "      <td>РАСЧЕТНО-КАССОВОЕ ОБСЛУЖИВАНИЕ</td>\n",
              "      <td>Mobile</td>\n",
              "      <td>Networks</td>\n",
              "      <td>image_ad</td>\n",
              "      <td>none</td>\n",
              "      <td>Retargeting</td>\n",
              "      <td>18</td>\n",
              "      <td>0</td>\n",
              "      <td>0.00</td>\n",
              "      <td>0</td>\n",
              "    </tr>\n",
              "  </tbody>\n",
              "</table>\n",
              "</div>\n",
              "    <div class=\"colab-df-buttons\">\n",
              "\n",
              "  <div class=\"colab-df-container\">\n",
              "    <button class=\"colab-df-convert\" onclick=\"convertToInteractive('df-caa77361-7d46-427b-aa6d-eaefbdcc17f7')\"\n",
              "            title=\"Convert this dataframe to an interactive table.\"\n",
              "            style=\"display:none;\">\n",
              "\n",
              "  <svg xmlns=\"http://www.w3.org/2000/svg\" height=\"24px\" viewBox=\"0 -960 960 960\">\n",
              "    <path d=\"M120-120v-720h720v720H120Zm60-500h600v-160H180v160Zm220 220h160v-160H400v160Zm0 220h160v-160H400v160ZM180-400h160v-160H180v160Zm440 0h160v-160H620v160ZM180-180h160v-160H180v160Zm440 0h160v-160H620v160Z\"/>\n",
              "  </svg>\n",
              "    </button>\n",
              "\n",
              "  <style>\n",
              "    .colab-df-container {\n",
              "      display:flex;\n",
              "      gap: 12px;\n",
              "    }\n",
              "\n",
              "    .colab-df-convert {\n",
              "      background-color: #E8F0FE;\n",
              "      border: none;\n",
              "      border-radius: 50%;\n",
              "      cursor: pointer;\n",
              "      display: none;\n",
              "      fill: #1967D2;\n",
              "      height: 32px;\n",
              "      padding: 0 0 0 0;\n",
              "      width: 32px;\n",
              "    }\n",
              "\n",
              "    .colab-df-convert:hover {\n",
              "      background-color: #E2EBFA;\n",
              "      box-shadow: 0px 1px 2px rgba(60, 64, 67, 0.3), 0px 1px 3px 1px rgba(60, 64, 67, 0.15);\n",
              "      fill: #174EA6;\n",
              "    }\n",
              "\n",
              "    .colab-df-buttons div {\n",
              "      margin-bottom: 4px;\n",
              "    }\n",
              "\n",
              "    [theme=dark] .colab-df-convert {\n",
              "      background-color: #3B4455;\n",
              "      fill: #D2E3FC;\n",
              "    }\n",
              "\n",
              "    [theme=dark] .colab-df-convert:hover {\n",
              "      background-color: #434B5C;\n",
              "      box-shadow: 0px 1px 3px 1px rgba(0, 0, 0, 0.15);\n",
              "      filter: drop-shadow(0px 1px 2px rgba(0, 0, 0, 0.3));\n",
              "      fill: #FFFFFF;\n",
              "    }\n",
              "  </style>\n",
              "\n",
              "    <script>\n",
              "      const buttonEl =\n",
              "        document.querySelector('#df-caa77361-7d46-427b-aa6d-eaefbdcc17f7 button.colab-df-convert');\n",
              "      buttonEl.style.display =\n",
              "        google.colab.kernel.accessAllowed ? 'block' : 'none';\n",
              "\n",
              "      async function convertToInteractive(key) {\n",
              "        const element = document.querySelector('#df-caa77361-7d46-427b-aa6d-eaefbdcc17f7');\n",
              "        const dataTable =\n",
              "          await google.colab.kernel.invokeFunction('convertToInteractive',\n",
              "                                                    [key], {});\n",
              "        if (!dataTable) return;\n",
              "\n",
              "        const docLinkHtml = 'Like what you see? Visit the ' +\n",
              "          '<a target=\"_blank\" href=https://colab.research.google.com/notebooks/data_table.ipynb>data table notebook</a>'\n",
              "          + ' to learn more about interactive tables.';\n",
              "        element.innerHTML = '';\n",
              "        dataTable['output_type'] = 'display_data';\n",
              "        await google.colab.output.renderOutput(dataTable, element);\n",
              "        const docLink = document.createElement('div');\n",
              "        docLink.innerHTML = docLinkHtml;\n",
              "        element.appendChild(docLink);\n",
              "      }\n",
              "    </script>\n",
              "  </div>\n",
              "\n",
              "\n",
              "<div id=\"df-7d081e67-30f6-4760-9bb6-98bc183aac81\">\n",
              "  <button class=\"colab-df-quickchart\" onclick=\"quickchart('df-7d081e67-30f6-4760-9bb6-98bc183aac81')\"\n",
              "            title=\"Suggest charts\"\n",
              "            style=\"display:none;\">\n",
              "\n",
              "<svg xmlns=\"http://www.w3.org/2000/svg\" height=\"24px\"viewBox=\"0 0 24 24\"\n",
              "     width=\"24px\">\n",
              "    <g>\n",
              "        <path d=\"M19 3H5c-1.1 0-2 .9-2 2v14c0 1.1.9 2 2 2h14c1.1 0 2-.9 2-2V5c0-1.1-.9-2-2-2zM9 17H7v-7h2v7zm4 0h-2V7h2v10zm4 0h-2v-4h2v4z\"/>\n",
              "    </g>\n",
              "</svg>\n",
              "  </button>\n",
              "\n",
              "<style>\n",
              "  .colab-df-quickchart {\n",
              "      --bg-color: #E8F0FE;\n",
              "      --fill-color: #1967D2;\n",
              "      --hover-bg-color: #E2EBFA;\n",
              "      --hover-fill-color: #174EA6;\n",
              "      --disabled-fill-color: #AAA;\n",
              "      --disabled-bg-color: #DDD;\n",
              "  }\n",
              "\n",
              "  [theme=dark] .colab-df-quickchart {\n",
              "      --bg-color: #3B4455;\n",
              "      --fill-color: #D2E3FC;\n",
              "      --hover-bg-color: #434B5C;\n",
              "      --hover-fill-color: #FFFFFF;\n",
              "      --disabled-bg-color: #3B4455;\n",
              "      --disabled-fill-color: #666;\n",
              "  }\n",
              "\n",
              "  .colab-df-quickchart {\n",
              "    background-color: var(--bg-color);\n",
              "    border: none;\n",
              "    border-radius: 50%;\n",
              "    cursor: pointer;\n",
              "    display: none;\n",
              "    fill: var(--fill-color);\n",
              "    height: 32px;\n",
              "    padding: 0;\n",
              "    width: 32px;\n",
              "  }\n",
              "\n",
              "  .colab-df-quickchart:hover {\n",
              "    background-color: var(--hover-bg-color);\n",
              "    box-shadow: 0 1px 2px rgba(60, 64, 67, 0.3), 0 1px 3px 1px rgba(60, 64, 67, 0.15);\n",
              "    fill: var(--button-hover-fill-color);\n",
              "  }\n",
              "\n",
              "  .colab-df-quickchart-complete:disabled,\n",
              "  .colab-df-quickchart-complete:disabled:hover {\n",
              "    background-color: var(--disabled-bg-color);\n",
              "    fill: var(--disabled-fill-color);\n",
              "    box-shadow: none;\n",
              "  }\n",
              "\n",
              "  .colab-df-spinner {\n",
              "    border: 2px solid var(--fill-color);\n",
              "    border-color: transparent;\n",
              "    border-bottom-color: var(--fill-color);\n",
              "    animation:\n",
              "      spin 1s steps(1) infinite;\n",
              "  }\n",
              "\n",
              "  @keyframes spin {\n",
              "    0% {\n",
              "      border-color: transparent;\n",
              "      border-bottom-color: var(--fill-color);\n",
              "      border-left-color: var(--fill-color);\n",
              "    }\n",
              "    20% {\n",
              "      border-color: transparent;\n",
              "      border-left-color: var(--fill-color);\n",
              "      border-top-color: var(--fill-color);\n",
              "    }\n",
              "    30% {\n",
              "      border-color: transparent;\n",
              "      border-left-color: var(--fill-color);\n",
              "      border-top-color: var(--fill-color);\n",
              "      border-right-color: var(--fill-color);\n",
              "    }\n",
              "    40% {\n",
              "      border-color: transparent;\n",
              "      border-right-color: var(--fill-color);\n",
              "      border-top-color: var(--fill-color);\n",
              "    }\n",
              "    60% {\n",
              "      border-color: transparent;\n",
              "      border-right-color: var(--fill-color);\n",
              "    }\n",
              "    80% {\n",
              "      border-color: transparent;\n",
              "      border-right-color: var(--fill-color);\n",
              "      border-bottom-color: var(--fill-color);\n",
              "    }\n",
              "    90% {\n",
              "      border-color: transparent;\n",
              "      border-bottom-color: var(--fill-color);\n",
              "    }\n",
              "  }\n",
              "</style>\n",
              "\n",
              "  <script>\n",
              "    async function quickchart(key) {\n",
              "      const quickchartButtonEl =\n",
              "        document.querySelector('#' + key + ' button');\n",
              "      quickchartButtonEl.disabled = true;  // To prevent multiple clicks.\n",
              "      quickchartButtonEl.classList.add('colab-df-spinner');\n",
              "      try {\n",
              "        const charts = await google.colab.kernel.invokeFunction(\n",
              "            'suggestCharts', [key], {});\n",
              "      } catch (error) {\n",
              "        console.error('Error during call to suggestCharts:', error);\n",
              "      }\n",
              "      quickchartButtonEl.classList.remove('colab-df-spinner');\n",
              "      quickchartButtonEl.classList.add('colab-df-quickchart-complete');\n",
              "    }\n",
              "    (() => {\n",
              "      let quickchartButtonEl =\n",
              "        document.querySelector('#df-7d081e67-30f6-4760-9bb6-98bc183aac81 button');\n",
              "      quickchartButtonEl.style.display =\n",
              "        google.colab.kernel.accessAllowed ? 'block' : 'none';\n",
              "    })();\n",
              "  </script>\n",
              "</div>\n",
              "    </div>\n",
              "  </div>\n"
            ],
            "application/vnd.google.colaboratory.intrinsic+json": {
              "type": "dataframe",
              "variable_name": "df",
              "summary": "{\n  \"name\": \"df\",\n  \"rows\": 10478,\n  \"fields\": [\n    {\n      \"column\": \"Client\",\n      \"properties\": {\n        \"dtype\": \"category\",\n        \"num_unique_values\": 10,\n        \"samples\": [\n          \"\\u041c\\u0435\\u0442\\u0430\",\n          \"\\u0413\\u0430\\u043c\\u043c\\u0430\",\n          \"\\u0417\\u0435\\u0442\\u0430\"\n        ],\n        \"semantic_type\": \"\",\n        \"description\": \"\"\n      }\n    },\n    {\n      \"column\": \"Month\",\n      \"properties\": {\n        \"dtype\": \"date\",\n        \"min\": \"2021-04-01 00:00:00\",\n        \"max\": \"2022-09-01 00:00:00\",\n        \"num_unique_values\": 18,\n        \"samples\": [\n          \"2021-04-01 00:00:00\",\n          \"2021-05-01 00:00:00\",\n          \"2021-12-01 00:00:00\"\n        ],\n        \"semantic_type\": \"\",\n        \"description\": \"\"\n      }\n    },\n    {\n      \"column\": \"Category\",\n      \"properties\": {\n        \"dtype\": \"category\",\n        \"num_unique_values\": 7,\n        \"samples\": [\n          \"\\u0420\\u0410\\u0421\\u0427\\u0415\\u0422\\u041d\\u041e-\\u041a\\u0410\\u0421\\u0421\\u041e\\u0412\\u041e\\u0415 \\u041e\\u0411\\u0421\\u041b\\u0423\\u0416\\u0418\\u0412\\u0410\\u041d\\u0418\\u0415\",\n          \"\\u041f\\u041e\\u0422\\u0420\\u0415\\u0411\\u0418\\u0422\\u0415\\u041b\\u042c\\u0421\\u041a\\u041e\\u0415 \\u041a\\u0420\\u0415\\u0414\\u0418\\u0422\\u041e\\u0412\\u0410\\u041d\\u0418\\u0415\",\n          \"\\u0414\\u0415\\u0411\\u0415\\u0422\\u041e\\u0412\\u042b\\u0415 \\u041a\\u0410\\u0420\\u0422\\u042b\"\n        ],\n        \"semantic_type\": \"\",\n        \"description\": \"\"\n      }\n    },\n    {\n      \"column\": \"Device\",\n      \"properties\": {\n        \"dtype\": \"category\",\n        \"num_unique_values\": 2,\n        \"samples\": [\n          \"Mobile\",\n          \"Desktop\"\n        ],\n        \"semantic_type\": \"\",\n        \"description\": \"\"\n      }\n    },\n    {\n      \"column\": \"Place\",\n      \"properties\": {\n        \"dtype\": \"category\",\n        \"num_unique_values\": 2,\n        \"samples\": [\n          \"Search\",\n          \"Networks\"\n        ],\n        \"semantic_type\": \"\",\n        \"description\": \"\"\n      }\n    },\n    {\n      \"column\": \"BannerType\",\n      \"properties\": {\n        \"dtype\": \"category\",\n        \"num_unique_values\": 7,\n        \"samples\": [\n          \"cpc_video\",\n          \"image_ad\"\n        ],\n        \"semantic_type\": \"\",\n        \"description\": \"\"\n      }\n    },\n    {\n      \"column\": \"QueryType (search only)\",\n      \"properties\": {\n        \"dtype\": \"category\",\n        \"num_unique_values\": 4,\n        \"samples\": [\n          \"Brand\",\n          \"Competitor\"\n        ],\n        \"semantic_type\": \"\",\n        \"description\": \"\"\n      }\n    },\n    {\n      \"column\": \"TargetingType\",\n      \"properties\": {\n        \"dtype\": \"category\",\n        \"num_unique_values\": 3,\n        \"samples\": [\n          \"Phrase\",\n          \"Retargeting\"\n        ],\n        \"semantic_type\": \"\",\n        \"description\": \"\"\n      }\n    },\n    {\n      \"column\": \"Shows\",\n      \"properties\": {\n        \"dtype\": \"number\",\n        \"std\": 15449238,\n        \"min\": 0,\n        \"max\": 583150600,\n        \"num_unique_values\": 6942,\n        \"samples\": [\n          27286,\n          23032\n        ],\n        \"semantic_type\": \"\",\n        \"description\": \"\"\n      }\n    },\n    {\n      \"column\": \"Clicks\",\n      \"properties\": {\n        \"dtype\": \"number\",\n        \"std\": 44548,\n        \"min\": 0,\n        \"max\": 2237376,\n        \"num_unique_values\": 4636,\n        \"samples\": [\n          1497,\n          5825\n        ],\n        \"semantic_type\": \"\",\n        \"description\": \"\"\n      }\n    },\n    {\n      \"column\": \"Cost\",\n      \"properties\": {\n        \"dtype\": \"number\",\n        \"std\": 1211802.1932194515,\n        \"min\": 0.0,\n        \"max\": 39766179.1180932,\n        \"num_unique_values\": 7306,\n        \"samples\": [\n          73.2730932203389,\n          671824.153754237\n        ],\n        \"semantic_type\": \"\",\n        \"description\": \"\"\n      }\n    },\n    {\n      \"column\": \"Conversions\",\n      \"properties\": {\n        \"dtype\": \"number\",\n        \"std\": 2086,\n        \"min\": 0,\n        \"max\": 47259,\n        \"num_unique_values\": 1680,\n        \"samples\": [\n          523,\n          3300\n        ],\n        \"semantic_type\": \"\",\n        \"description\": \"\"\n      }\n    }\n  ]\n}"
            }
          },
          "metadata": {},
          "execution_count": 8
        }
      ]
    },
    {
      "cell_type": "code",
      "source": [
        "df.Client.value_counts()"
      ],
      "metadata": {
        "colab": {
          "base_uri": "https://localhost:8080/"
        },
        "id": "8a_5ypcn0Bgc",
        "outputId": "7069a054-e275-46ff-b778-c8c666744eec"
      },
      "execution_count": 9,
      "outputs": [
        {
          "output_type": "execute_result",
          "data": {
            "text/plain": [
              "Client\n",
              "Псилон    2186\n",
              "Сигма     1560\n",
              "Гамма     1446\n",
              "Зета      1371\n",
              "Бета      1141\n",
              "Омега      927\n",
              "Альфа      894\n",
              "Дельта     373\n",
              "Лямбда     350\n",
              "Мета       230\n",
              "Name: count, dtype: int64"
            ]
          },
          "metadata": {},
          "execution_count": 9
        }
      ]
    },
    {
      "cell_type": "markdown",
      "source": [
        "Имеем 10 клиентов"
      ],
      "metadata": {
        "id": "G0_uUps-0rix"
      }
    },
    {
      "cell_type": "code",
      "source": [
        "df.Category.value_counts()"
      ],
      "metadata": {
        "colab": {
          "base_uri": "https://localhost:8080/"
        },
        "outputId": "8908707a-e4d0-421a-d3ed-02599f7b6f3a",
        "id": "TtMOTs5w0W-1"
      },
      "execution_count": 10,
      "outputs": [
        {
          "output_type": "execute_result",
          "data": {
            "text/plain": [
              "Category\n",
              "ПОТРЕБИТЕЛЬСКОЕ КРЕДИТОВАНИЕ      2595\n",
              "РАСЧЕТНО-КАССОВОЕ ОБСЛУЖИВАНИЕ    1885\n",
              "КРЕДИТНЫЕ КАРТЫ                   1805\n",
              "ДЕБЕТОВЫЕ КАРТЫ                   1358\n",
              "ВКЛАДЫ                            1223\n",
              "ИПОТЕЧНОЕ КРЕДИТОВАНИЕ            1174\n",
              "ИНВЕСТИЦИИ                         438\n",
              "Name: count, dtype: int64"
            ]
          },
          "metadata": {},
          "execution_count": 10
        }
      ]
    },
    {
      "cell_type": "markdown",
      "source": [
        "7 категорий обслуживания"
      ],
      "metadata": {
        "id": "yFAqJmXA0yj7"
      }
    },
    {
      "cell_type": "code",
      "source": [
        "df.Device.value_counts()"
      ],
      "metadata": {
        "colab": {
          "base_uri": "https://localhost:8080/"
        },
        "outputId": "02949502-6f57-47d6-e6a0-2f6aa96ba5a4",
        "id": "oANKS1-L0XBe"
      },
      "execution_count": 11,
      "outputs": [
        {
          "output_type": "execute_result",
          "data": {
            "text/plain": [
              "Device\n",
              "Desktop    5362\n",
              "Mobile     5116\n",
              "Name: count, dtype: int64"
            ]
          },
          "metadata": {},
          "execution_count": 11
        }
      ]
    },
    {
      "cell_type": "markdown",
      "source": [
        "Клиенты пользуются 2мя видами устройств\n",
        "- стационарный компьютер\n",
        "- мобильное устройство (смартфон, планшет)"
      ],
      "metadata": {
        "id": "2UdMCftp05Hq"
      }
    },
    {
      "cell_type": "code",
      "source": [
        "df.BannerType.value_counts()"
      ],
      "metadata": {
        "colab": {
          "base_uri": "https://localhost:8080/"
        },
        "outputId": "5c338845-b43b-4e21-ce15-2c8a59a4744a",
        "id": "Ltc7OIoy0XEE"
      },
      "execution_count": 12,
      "outputs": [
        {
          "output_type": "execute_result",
          "data": {
            "text/plain": [
              "BannerType\n",
              "text           6884\n",
              "mcbanner       1407\n",
              "image_ad       1394\n",
              "cpm_banner      726\n",
              "cpc_video        60\n",
              "performance       6\n",
              "dynamic           1\n",
              "Name: count, dtype: int64"
            ]
          },
          "metadata": {},
          "execution_count": 12
        }
      ]
    },
    {
      "cell_type": "markdown",
      "source": [
        "7 путей получений информации."
      ],
      "metadata": {
        "id": "h8HK7x6T1cDT"
      }
    },
    {
      "cell_type": "code",
      "source": [
        "df.TargetingType.value_counts()"
      ],
      "metadata": {
        "colab": {
          "base_uri": "https://localhost:8080/"
        },
        "outputId": "dd09bffa-a7d4-4f3a-86da-2089b25dcee9",
        "id": "JVcwncru0XG2"
      },
      "execution_count": 13,
      "outputs": [
        {
          "output_type": "execute_result",
          "data": {
            "text/plain": [
              "TargetingType\n",
              "Phrase           7960\n",
              "Retargeting      2214\n",
              "Autotargeting     304\n",
              "Name: count, dtype: int64"
            ]
          },
          "metadata": {},
          "execution_count": 13
        }
      ]
    },
    {
      "cell_type": "markdown",
      "metadata": {
        "id": "YzrEUJE_vapO"
      },
      "source": [
        "Посмотрим показатили статистики для числовых данных."
      ]
    },
    {
      "cell_type": "code",
      "source": [
        "df.describe()"
      ],
      "metadata": {
        "id": "MTRYs6yxByY1",
        "colab": {
          "base_uri": "https://localhost:8080/",
          "height": 300
        },
        "outputId": "f95f647e-e57d-411b-d246-716857a3d456"
      },
      "execution_count": 14,
      "outputs": [
        {
          "output_type": "execute_result",
          "data": {
            "text/plain": [
              "                               Month        Shows     Clicks        Cost  \\\n",
              "count                          10478     10478.00   10478.00    10478.00   \n",
              "mean   2021-12-23 01:32:37.701851648   1715048.61    9769.44   359829.32   \n",
              "min              2021-04-01 00:00:00         0.00       0.00        0.00   \n",
              "25%              2021-08-01 00:00:00         1.00       0.00        0.00   \n",
              "50%              2022-01-01 00:00:00     11811.50     280.50    13046.77   \n",
              "75%              2022-05-01 00:00:00    132642.50    5130.25   211153.43   \n",
              "max              2022-09-01 00:00:00 583150600.00 2237376.00 39766179.12   \n",
              "std                              NaN  15449238.73   44548.19  1211802.19   \n",
              "\n",
              "       Conversions  \n",
              "count     10478.00  \n",
              "mean        507.98  \n",
              "min           0.00  \n",
              "25%           0.00  \n",
              "50%           2.00  \n",
              "75%          94.00  \n",
              "max       47259.00  \n",
              "std        2086.40  "
            ],
            "text/html": [
              "\n",
              "  <div id=\"df-a4d3bd21-c325-4c9d-8048-e9841c5077b0\" class=\"colab-df-container\">\n",
              "    <div>\n",
              "<style scoped>\n",
              "    .dataframe tbody tr th:only-of-type {\n",
              "        vertical-align: middle;\n",
              "    }\n",
              "\n",
              "    .dataframe tbody tr th {\n",
              "        vertical-align: top;\n",
              "    }\n",
              "\n",
              "    .dataframe thead th {\n",
              "        text-align: right;\n",
              "    }\n",
              "</style>\n",
              "<table border=\"1\" class=\"dataframe\">\n",
              "  <thead>\n",
              "    <tr style=\"text-align: right;\">\n",
              "      <th></th>\n",
              "      <th>Month</th>\n",
              "      <th>Shows</th>\n",
              "      <th>Clicks</th>\n",
              "      <th>Cost</th>\n",
              "      <th>Conversions</th>\n",
              "    </tr>\n",
              "  </thead>\n",
              "  <tbody>\n",
              "    <tr>\n",
              "      <th>count</th>\n",
              "      <td>10478</td>\n",
              "      <td>10478.00</td>\n",
              "      <td>10478.00</td>\n",
              "      <td>10478.00</td>\n",
              "      <td>10478.00</td>\n",
              "    </tr>\n",
              "    <tr>\n",
              "      <th>mean</th>\n",
              "      <td>2021-12-23 01:32:37.701851648</td>\n",
              "      <td>1715048.61</td>\n",
              "      <td>9769.44</td>\n",
              "      <td>359829.32</td>\n",
              "      <td>507.98</td>\n",
              "    </tr>\n",
              "    <tr>\n",
              "      <th>min</th>\n",
              "      <td>2021-04-01 00:00:00</td>\n",
              "      <td>0.00</td>\n",
              "      <td>0.00</td>\n",
              "      <td>0.00</td>\n",
              "      <td>0.00</td>\n",
              "    </tr>\n",
              "    <tr>\n",
              "      <th>25%</th>\n",
              "      <td>2021-08-01 00:00:00</td>\n",
              "      <td>1.00</td>\n",
              "      <td>0.00</td>\n",
              "      <td>0.00</td>\n",
              "      <td>0.00</td>\n",
              "    </tr>\n",
              "    <tr>\n",
              "      <th>50%</th>\n",
              "      <td>2022-01-01 00:00:00</td>\n",
              "      <td>11811.50</td>\n",
              "      <td>280.50</td>\n",
              "      <td>13046.77</td>\n",
              "      <td>2.00</td>\n",
              "    </tr>\n",
              "    <tr>\n",
              "      <th>75%</th>\n",
              "      <td>2022-05-01 00:00:00</td>\n",
              "      <td>132642.50</td>\n",
              "      <td>5130.25</td>\n",
              "      <td>211153.43</td>\n",
              "      <td>94.00</td>\n",
              "    </tr>\n",
              "    <tr>\n",
              "      <th>max</th>\n",
              "      <td>2022-09-01 00:00:00</td>\n",
              "      <td>583150600.00</td>\n",
              "      <td>2237376.00</td>\n",
              "      <td>39766179.12</td>\n",
              "      <td>47259.00</td>\n",
              "    </tr>\n",
              "    <tr>\n",
              "      <th>std</th>\n",
              "      <td>NaN</td>\n",
              "      <td>15449238.73</td>\n",
              "      <td>44548.19</td>\n",
              "      <td>1211802.19</td>\n",
              "      <td>2086.40</td>\n",
              "    </tr>\n",
              "  </tbody>\n",
              "</table>\n",
              "</div>\n",
              "    <div class=\"colab-df-buttons\">\n",
              "\n",
              "  <div class=\"colab-df-container\">\n",
              "    <button class=\"colab-df-convert\" onclick=\"convertToInteractive('df-a4d3bd21-c325-4c9d-8048-e9841c5077b0')\"\n",
              "            title=\"Convert this dataframe to an interactive table.\"\n",
              "            style=\"display:none;\">\n",
              "\n",
              "  <svg xmlns=\"http://www.w3.org/2000/svg\" height=\"24px\" viewBox=\"0 -960 960 960\">\n",
              "    <path d=\"M120-120v-720h720v720H120Zm60-500h600v-160H180v160Zm220 220h160v-160H400v160Zm0 220h160v-160H400v160ZM180-400h160v-160H180v160Zm440 0h160v-160H620v160ZM180-180h160v-160H180v160Zm440 0h160v-160H620v160Z\"/>\n",
              "  </svg>\n",
              "    </button>\n",
              "\n",
              "  <style>\n",
              "    .colab-df-container {\n",
              "      display:flex;\n",
              "      gap: 12px;\n",
              "    }\n",
              "\n",
              "    .colab-df-convert {\n",
              "      background-color: #E8F0FE;\n",
              "      border: none;\n",
              "      border-radius: 50%;\n",
              "      cursor: pointer;\n",
              "      display: none;\n",
              "      fill: #1967D2;\n",
              "      height: 32px;\n",
              "      padding: 0 0 0 0;\n",
              "      width: 32px;\n",
              "    }\n",
              "\n",
              "    .colab-df-convert:hover {\n",
              "      background-color: #E2EBFA;\n",
              "      box-shadow: 0px 1px 2px rgba(60, 64, 67, 0.3), 0px 1px 3px 1px rgba(60, 64, 67, 0.15);\n",
              "      fill: #174EA6;\n",
              "    }\n",
              "\n",
              "    .colab-df-buttons div {\n",
              "      margin-bottom: 4px;\n",
              "    }\n",
              "\n",
              "    [theme=dark] .colab-df-convert {\n",
              "      background-color: #3B4455;\n",
              "      fill: #D2E3FC;\n",
              "    }\n",
              "\n",
              "    [theme=dark] .colab-df-convert:hover {\n",
              "      background-color: #434B5C;\n",
              "      box-shadow: 0px 1px 3px 1px rgba(0, 0, 0, 0.15);\n",
              "      filter: drop-shadow(0px 1px 2px rgba(0, 0, 0, 0.3));\n",
              "      fill: #FFFFFF;\n",
              "    }\n",
              "  </style>\n",
              "\n",
              "    <script>\n",
              "      const buttonEl =\n",
              "        document.querySelector('#df-a4d3bd21-c325-4c9d-8048-e9841c5077b0 button.colab-df-convert');\n",
              "      buttonEl.style.display =\n",
              "        google.colab.kernel.accessAllowed ? 'block' : 'none';\n",
              "\n",
              "      async function convertToInteractive(key) {\n",
              "        const element = document.querySelector('#df-a4d3bd21-c325-4c9d-8048-e9841c5077b0');\n",
              "        const dataTable =\n",
              "          await google.colab.kernel.invokeFunction('convertToInteractive',\n",
              "                                                    [key], {});\n",
              "        if (!dataTable) return;\n",
              "\n",
              "        const docLinkHtml = 'Like what you see? Visit the ' +\n",
              "          '<a target=\"_blank\" href=https://colab.research.google.com/notebooks/data_table.ipynb>data table notebook</a>'\n",
              "          + ' to learn more about interactive tables.';\n",
              "        element.innerHTML = '';\n",
              "        dataTable['output_type'] = 'display_data';\n",
              "        await google.colab.output.renderOutput(dataTable, element);\n",
              "        const docLink = document.createElement('div');\n",
              "        docLink.innerHTML = docLinkHtml;\n",
              "        element.appendChild(docLink);\n",
              "      }\n",
              "    </script>\n",
              "  </div>\n",
              "\n",
              "\n",
              "<div id=\"df-8443909e-4250-43ea-9ac0-f1c23633ef4d\">\n",
              "  <button class=\"colab-df-quickchart\" onclick=\"quickchart('df-8443909e-4250-43ea-9ac0-f1c23633ef4d')\"\n",
              "            title=\"Suggest charts\"\n",
              "            style=\"display:none;\">\n",
              "\n",
              "<svg xmlns=\"http://www.w3.org/2000/svg\" height=\"24px\"viewBox=\"0 0 24 24\"\n",
              "     width=\"24px\">\n",
              "    <g>\n",
              "        <path d=\"M19 3H5c-1.1 0-2 .9-2 2v14c0 1.1.9 2 2 2h14c1.1 0 2-.9 2-2V5c0-1.1-.9-2-2-2zM9 17H7v-7h2v7zm4 0h-2V7h2v10zm4 0h-2v-4h2v4z\"/>\n",
              "    </g>\n",
              "</svg>\n",
              "  </button>\n",
              "\n",
              "<style>\n",
              "  .colab-df-quickchart {\n",
              "      --bg-color: #E8F0FE;\n",
              "      --fill-color: #1967D2;\n",
              "      --hover-bg-color: #E2EBFA;\n",
              "      --hover-fill-color: #174EA6;\n",
              "      --disabled-fill-color: #AAA;\n",
              "      --disabled-bg-color: #DDD;\n",
              "  }\n",
              "\n",
              "  [theme=dark] .colab-df-quickchart {\n",
              "      --bg-color: #3B4455;\n",
              "      --fill-color: #D2E3FC;\n",
              "      --hover-bg-color: #434B5C;\n",
              "      --hover-fill-color: #FFFFFF;\n",
              "      --disabled-bg-color: #3B4455;\n",
              "      --disabled-fill-color: #666;\n",
              "  }\n",
              "\n",
              "  .colab-df-quickchart {\n",
              "    background-color: var(--bg-color);\n",
              "    border: none;\n",
              "    border-radius: 50%;\n",
              "    cursor: pointer;\n",
              "    display: none;\n",
              "    fill: var(--fill-color);\n",
              "    height: 32px;\n",
              "    padding: 0;\n",
              "    width: 32px;\n",
              "  }\n",
              "\n",
              "  .colab-df-quickchart:hover {\n",
              "    background-color: var(--hover-bg-color);\n",
              "    box-shadow: 0 1px 2px rgba(60, 64, 67, 0.3), 0 1px 3px 1px rgba(60, 64, 67, 0.15);\n",
              "    fill: var(--button-hover-fill-color);\n",
              "  }\n",
              "\n",
              "  .colab-df-quickchart-complete:disabled,\n",
              "  .colab-df-quickchart-complete:disabled:hover {\n",
              "    background-color: var(--disabled-bg-color);\n",
              "    fill: var(--disabled-fill-color);\n",
              "    box-shadow: none;\n",
              "  }\n",
              "\n",
              "  .colab-df-spinner {\n",
              "    border: 2px solid var(--fill-color);\n",
              "    border-color: transparent;\n",
              "    border-bottom-color: var(--fill-color);\n",
              "    animation:\n",
              "      spin 1s steps(1) infinite;\n",
              "  }\n",
              "\n",
              "  @keyframes spin {\n",
              "    0% {\n",
              "      border-color: transparent;\n",
              "      border-bottom-color: var(--fill-color);\n",
              "      border-left-color: var(--fill-color);\n",
              "    }\n",
              "    20% {\n",
              "      border-color: transparent;\n",
              "      border-left-color: var(--fill-color);\n",
              "      border-top-color: var(--fill-color);\n",
              "    }\n",
              "    30% {\n",
              "      border-color: transparent;\n",
              "      border-left-color: var(--fill-color);\n",
              "      border-top-color: var(--fill-color);\n",
              "      border-right-color: var(--fill-color);\n",
              "    }\n",
              "    40% {\n",
              "      border-color: transparent;\n",
              "      border-right-color: var(--fill-color);\n",
              "      border-top-color: var(--fill-color);\n",
              "    }\n",
              "    60% {\n",
              "      border-color: transparent;\n",
              "      border-right-color: var(--fill-color);\n",
              "    }\n",
              "    80% {\n",
              "      border-color: transparent;\n",
              "      border-right-color: var(--fill-color);\n",
              "      border-bottom-color: var(--fill-color);\n",
              "    }\n",
              "    90% {\n",
              "      border-color: transparent;\n",
              "      border-bottom-color: var(--fill-color);\n",
              "    }\n",
              "  }\n",
              "</style>\n",
              "\n",
              "  <script>\n",
              "    async function quickchart(key) {\n",
              "      const quickchartButtonEl =\n",
              "        document.querySelector('#' + key + ' button');\n",
              "      quickchartButtonEl.disabled = true;  // To prevent multiple clicks.\n",
              "      quickchartButtonEl.classList.add('colab-df-spinner');\n",
              "      try {\n",
              "        const charts = await google.colab.kernel.invokeFunction(\n",
              "            'suggestCharts', [key], {});\n",
              "      } catch (error) {\n",
              "        console.error('Error during call to suggestCharts:', error);\n",
              "      }\n",
              "      quickchartButtonEl.classList.remove('colab-df-spinner');\n",
              "      quickchartButtonEl.classList.add('colab-df-quickchart-complete');\n",
              "    }\n",
              "    (() => {\n",
              "      let quickchartButtonEl =\n",
              "        document.querySelector('#df-8443909e-4250-43ea-9ac0-f1c23633ef4d button');\n",
              "      quickchartButtonEl.style.display =\n",
              "        google.colab.kernel.accessAllowed ? 'block' : 'none';\n",
              "    })();\n",
              "  </script>\n",
              "</div>\n",
              "    </div>\n",
              "  </div>\n"
            ],
            "application/vnd.google.colaboratory.intrinsic+json": {
              "type": "dataframe",
              "summary": "{\n  \"name\": \"df\",\n  \"rows\": 8,\n  \"fields\": [\n    {\n      \"column\": \"Month\",\n      \"properties\": {\n        \"dtype\": \"date\",\n        \"min\": \"1970-01-01 00:00:00.000010478\",\n        \"max\": \"2022-09-01 00:00:00\",\n        \"num_unique_values\": 7,\n        \"samples\": [\n          \"10478\",\n          \"2021-12-23 01:32:37.701851648\",\n          \"2022-05-01 00:00:00\"\n        ],\n        \"semantic_type\": \"\",\n        \"description\": \"\"\n      }\n    },\n    {\n      \"column\": \"Shows\",\n      \"properties\": {\n        \"dtype\": \"number\",\n        \"std\": 205369270.14851892,\n        \"min\": 0.0,\n        \"max\": 583150600.0,\n        \"num_unique_values\": 8,\n        \"samples\": [\n          1715048.612998664,\n          132642.5,\n          10478.0\n        ],\n        \"semantic_type\": \"\",\n        \"description\": \"\"\n      }\n    },\n    {\n      \"column\": \"Clicks\",\n      \"properties\": {\n        \"dtype\": \"number\",\n        \"std\": 787623.0497991508,\n        \"min\": 0.0,\n        \"max\": 2237376.0,\n        \"num_unique_values\": 7,\n        \"samples\": [\n          10478.0,\n          9769.437392632182,\n          2237376.0\n        ],\n        \"semantic_type\": \"\",\n        \"description\": \"\"\n      }\n    },\n    {\n      \"column\": \"Cost\",\n      \"properties\": {\n        \"dtype\": \"number\",\n        \"std\": 13974250.96776397,\n        \"min\": 0.0,\n        \"max\": 39766179.1180932,\n        \"num_unique_values\": 7,\n        \"samples\": [\n          10478.0,\n          359829.3183368044,\n          39766179.1180932\n        ],\n        \"semantic_type\": \"\",\n        \"description\": \"\"\n      }\n    },\n    {\n      \"column\": \"Conversions\",\n      \"properties\": {\n        \"dtype\": \"number\",\n        \"std\": 16437.708809288255,\n        \"min\": 0.0,\n        \"max\": 47259.0,\n        \"num_unique_values\": 7,\n        \"samples\": [\n          10478.0,\n          507.98234395877074,\n          47259.0\n        ],\n        \"semantic_type\": \"\",\n        \"description\": \"\"\n      }\n    }\n  ]\n}"
            }
          },
          "metadata": {},
          "execution_count": 14
        }
      ]
    },
    {
      "cell_type": "markdown",
      "source": [
        "Период времени - с 01.09.2021 по 01.09.2022 - 1 год\n",
        "\n",
        "Признаки Shows, Clicks, Cost аномалий не демонстрируют\n",
        "\n",
        "Целевой показатель Conversions имеет среднее значение 507,98 при медиане 2, это говорит о выбросах в распределении значений."
      ],
      "metadata": {
        "id": "97C1C4h6uv-w"
      }
    },
    {
      "cell_type": "code",
      "source": [
        "df.boxplot(column=['Conversions'], figsize=(18, 3), vert=False)\n",
        "plt.suptitle('Распределение количества целевых действий', size = 20)"
      ],
      "metadata": {
        "colab": {
          "base_uri": "https://localhost:8080/",
          "height": 236
        },
        "id": "flRhiB52wcR7",
        "outputId": "169e81ce-dcf4-40c3-905f-3cac849f6759"
      },
      "execution_count": 15,
      "outputs": [
        {
          "output_type": "execute_result",
          "data": {
            "text/plain": [
              "Text(0.5, 0.98, 'Распределение количества целевых действий')"
            ]
          },
          "metadata": {},
          "execution_count": 15
        },
        {
          "output_type": "display_data",
          "data": {
            "text/plain": [
              "<Figure size 1800x300 with 1 Axes>"
            ],
            "image/png": "[encoded data removed]"
          },
          "metadata": {}
        }
      ]
    },
    {
      "cell_type": "code",
      "source": [
        "df[df['Conversions']<100].hist(bins = 100, column=['Conversions'], figsize=(18, 3))"
      ],
      "metadata": {
        "colab": {
          "base_uri": "https://localhost:8080/",
          "height": 238
        },
        "id": "5AA-0CjsxYXO",
        "outputId": "041bfa03-8ca4-47b6-8042-74af14a0b835"
      },
      "execution_count": 16,
      "outputs": [
        {
          "output_type": "execute_result",
          "data": {
            "text/plain": [
              "array([[<Axes: title={'center': 'Conversions'}>]], dtype=object)"
            ]
          },
          "metadata": {},
          "execution_count": 16
        },
        {
          "output_type": "display_data",
          "data": {
            "text/plain": [
              "<Figure size 1800x300 with 1 Axes>"
            ],
            "image/png": "[encoded data removed]"
          },
          "metadata": {}
        }
      ]
    },
    {
      "cell_type": "markdown",
      "source": [
        "## **2. Анализ роста CPA, визуализация**"
      ],
      "metadata": {
        "id": "pTSL2dh8zlYy"
      }
    },
    {
      "cell_type": "markdown",
      "source": [
        "Добавим в данные признак CPA, который расчитывается по формуле\n",
        "\n",
        "**CPA = Cost(расходы на рекламу) / Conversions(количество целевых визитов)**"
      ],
      "metadata": {
        "id": "o43g9VMjzra2"
      }
    },
    {
      "cell_type": "code",
      "source": [
        "df.head()"
      ],
      "metadata": {
        "colab": {
          "base_uri": "https://localhost:8080/",
          "height": 434
        },
        "outputId": "01fdcf71-1a22-4594-a3d5-668ea6e43a4a",
        "id": "0kdzjEmsD0n_"
      },
      "execution_count": 17,
      "outputs": [
        {
          "output_type": "execute_result",
          "data": {
            "text/plain": [
              "   Client      Month                        Category   Device     Place  \\\n",
              "0  Псилон 2021-04-01  РАСЧЕТНО-КАССОВОЕ ОБСЛУЖИВАНИЕ  Desktop  Networks   \n",
              "1  Псилон 2021-04-01  РАСЧЕТНО-КАССОВОЕ ОБСЛУЖИВАНИЕ  Desktop  Networks   \n",
              "2  Псилон 2021-04-01  РАСЧЕТНО-КАССОВОЕ ОБСЛУЖИВАНИЕ   Mobile  Networks   \n",
              "3   Гамма 2021-04-01  РАСЧЕТНО-КАССОВОЕ ОБСЛУЖИВАНИЕ  Desktop  Networks   \n",
              "4   Гамма 2021-04-01  РАСЧЕТНО-КАССОВОЕ ОБСЛУЖИВАНИЕ   Mobile  Networks   \n",
              "\n",
              "  BannerType QueryType (search only) TargetingType  Shows  Clicks    Cost  \\\n",
              "0  cpc_video                    none        Phrase      0       0    0.00   \n",
              "1  cpc_video                    none   Retargeting   5949      41 1666.84   \n",
              "2  cpc_video                    none   Retargeting    191       6   40.64   \n",
              "3   image_ad                    none   Retargeting    227       1   45.75   \n",
              "4   image_ad                    none   Retargeting     18       0    0.00   \n",
              "\n",
              "   Conversions  \n",
              "0            0  \n",
              "1            0  \n",
              "2            0  \n",
              "3            0  \n",
              "4            0  "
            ],
            "text/html": [
              "\n",
              "  <div id=\"df-f447f1f7-5a41-4b54-8473-88e9bdf03113\" class=\"colab-df-container\">\n",
              "    <div>\n",
              "<style scoped>\n",
              "    .dataframe tbody tr th:only-of-type {\n",
              "        vertical-align: middle;\n",
              "    }\n",
              "\n",
              "    .dataframe tbody tr th {\n",
              "        vertical-align: top;\n",
              "    }\n",
              "\n",
              "    .dataframe thead th {\n",
              "        text-align: right;\n",
              "    }\n",
              "</style>\n",
              "<table border=\"1\" class=\"dataframe\">\n",
              "  <thead>\n",
              "    <tr style=\"text-align: right;\">\n",
              "      <th></th>\n",
              "      <th>Client</th>\n",
              "      <th>Month</th>\n",
              "      <th>Category</th>\n",
              "      <th>Device</th>\n",
              "      <th>Place</th>\n",
              "      <th>BannerType</th>\n",
              "      <th>QueryType (search only)</th>\n",
              "      <th>TargetingType</th>\n",
              "      <th>Shows</th>\n",
              "      <th>Clicks</th>\n",
              "      <th>Cost</th>\n",
              "      <th>Conversions</th>\n",
              "    </tr>\n",
              "  </thead>\n",
              "  <tbody>\n",
              "    <tr>\n",
              "      <th>0</th>\n",
              "      <td>Псилон</td>\n",
              "      <td>2021-04-01</td>\n",
              "      <td>РАСЧЕТНО-КАССОВОЕ ОБСЛУЖИВАНИЕ</td>\n",
              "      <td>Desktop</td>\n",
              "      <td>Networks</td>\n",
              "      <td>cpc_video</td>\n",
              "      <td>none</td>\n",
              "      <td>Phrase</td>\n",
              "      <td>0</td>\n",
              "      <td>0</td>\n",
              "      <td>0.00</td>\n",
              "      <td>0</td>\n",
              "    </tr>\n",
              "    <tr>\n",
              "      <th>1</th>\n",
              "      <td>Псилон</td>\n",
              "      <td>2021-04-01</td>\n",
              "      <td>РАСЧЕТНО-КАССОВОЕ ОБСЛУЖИВАНИЕ</td>\n",
              "      <td>Desktop</td>\n",
              "      <td>Networks</td>\n",
              "      <td>cpc_video</td>\n",
              "      <td>none</td>\n",
              "      <td>Retargeting</td>\n",
              "      <td>5949</td>\n",
              "      <td>41</td>\n",
              "      <td>1666.84</td>\n",
              "      <td>0</td>\n",
              "    </tr>\n",
              "    <tr>\n",
              "      <th>2</th>\n",
              "      <td>Псилон</td>\n",
              "      <td>2021-04-01</td>\n",
              "      <td>РАСЧЕТНО-КАССОВОЕ ОБСЛУЖИВАНИЕ</td>\n",
              "      <td>Mobile</td>\n",
              "      <td>Networks</td>\n",
              "      <td>cpc_video</td>\n",
              "      <td>none</td>\n",
              "      <td>Retargeting</td>\n",
              "      <td>191</td>\n",
              "      <td>6</td>\n",
              "      <td>40.64</td>\n",
              "      <td>0</td>\n",
              "    </tr>\n",
              "    <tr>\n",
              "      <th>3</th>\n",
              "      <td>Гамма</td>\n",
              "      <td>2021-04-01</td>\n",
              "      <td>РАСЧЕТНО-КАССОВОЕ ОБСЛУЖИВАНИЕ</td>\n",
              "      <td>Desktop</td>\n",
              "      <td>Networks</td>\n",
              "      <td>image_ad</td>\n",
              "      <td>none</td>\n",
              "      <td>Retargeting</td>\n",
              "      <td>227</td>\n",
              "      <td>1</td>\n",
              "      <td>45.75</td>\n",
              "      <td>0</td>\n",
              "    </tr>\n",
              "    <tr>\n",
              "      <th>4</th>\n",
              "      <td>Гамма</td>\n",
              "      <td>2021-04-01</td>\n",
              "      <td>РАСЧЕТНО-КАССОВОЕ ОБСЛУЖИВАНИЕ</td>\n",
              "      <td>Mobile</td>\n",
              "      <td>Networks</td>\n",
              "      <td>image_ad</td>\n",
              "      <td>none</td>\n",
              "      <td>Retargeting</td>\n",
              "      <td>18</td>\n",
              "      <td>0</td>\n",
              "      <td>0.00</td>\n",
              "      <td>0</td>\n",
              "    </tr>\n",
              "  </tbody>\n",
              "</table>\n",
              "</div>\n",
              "    <div class=\"colab-df-buttons\">\n",
              "\n",
              "  <div class=\"colab-df-container\">\n",
              "    <button class=\"colab-df-convert\" onclick=\"convertToInteractive('df-f447f1f7-5a41-4b54-8473-88e9bdf03113')\"\n",
              "            title=\"Convert this dataframe to an interactive table.\"\n",
              "            style=\"display:none;\">\n",
              "\n",
              "  <svg xmlns=\"http://www.w3.org/2000/svg\" height=\"24px\" viewBox=\"0 -960 960 960\">\n",
              "    <path d=\"M120-120v-720h720v720H120Zm60-500h600v-160H180v160Zm220 220h160v-160H400v160Zm0 220h160v-160H400v160ZM180-400h160v-160H180v160Zm440 0h160v-160H620v160ZM180-180h160v-160H180v160Zm440 0h160v-160H620v160Z\"/>\n",
              "  </svg>\n",
              "    </button>\n",
              "\n",
              "  <style>\n",
              "    .colab-df-container {\n",
              "      display:flex;\n",
              "      gap: 12px;\n",
              "    }\n",
              "\n",
              "    .colab-df-convert {\n",
              "      background-color: #E8F0FE;\n",
              "      border: none;\n",
              "      border-radius: 50%;\n",
              "      cursor: pointer;\n",
              "      display: none;\n",
              "      fill: #1967D2;\n",
              "      height: 32px;\n",
              "      padding: 0 0 0 0;\n",
              "      width: 32px;\n",
              "    }\n",
              "\n",
              "    .colab-df-convert:hover {\n",
              "      background-color: #E2EBFA;\n",
              "      box-shadow: 0px 1px 2px rgba(60, 64, 67, 0.3), 0px 1px 3px 1px rgba(60, 64, 67, 0.15);\n",
              "      fill: #174EA6;\n",
              "    }\n",
              "\n",
              "    .colab-df-buttons div {\n",
              "      margin-bottom: 4px;\n",
              "    }\n",
              "\n",
              "    [theme=dark] .colab-df-convert {\n",
              "      background-color: #3B4455;\n",
              "      fill: #D2E3FC;\n",
              "    }\n",
              "\n",
              "    [theme=dark] .colab-df-convert:hover {\n",
              "      background-color: #434B5C;\n",
              "      box-shadow: 0px 1px 3px 1px rgba(0, 0, 0, 0.15);\n",
              "      filter: drop-shadow(0px 1px 2px rgba(0, 0, 0, 0.3));\n",
              "      fill: #FFFFFF;\n",
              "    }\n",
              "  </style>\n",
              "\n",
              "    <script>\n",
              "      const buttonEl =\n",
              "        document.querySelector('#df-f447f1f7-5a41-4b54-8473-88e9bdf03113 button.colab-df-convert');\n",
              "      buttonEl.style.display =\n",
              "        google.colab.kernel.accessAllowed ? 'block' : 'none';\n",
              "\n",
              "      async function convertToInteractive(key) {\n",
              "        const element = document.querySelector('#df-f447f1f7-5a41-4b54-8473-88e9bdf03113');\n",
              "        const dataTable =\n",
              "          await google.colab.kernel.invokeFunction('convertToInteractive',\n",
              "                                                    [key], {});\n",
              "        if (!dataTable) return;\n",
              "\n",
              "        const docLinkHtml = 'Like what you see? Visit the ' +\n",
              "          '<a target=\"_blank\" href=https://colab.research.google.com/notebooks/data_table.ipynb>data table notebook</a>'\n",
              "          + ' to learn more about interactive tables.';\n",
              "        element.innerHTML = '';\n",
              "        dataTable['output_type'] = 'display_data';\n",
              "        await google.colab.output.renderOutput(dataTable, element);\n",
              "        const docLink = document.createElement('div');\n",
              "        docLink.innerHTML = docLinkHtml;\n",
              "        element.appendChild(docLink);\n",
              "      }\n",
              "    </script>\n",
              "  </div>\n",
              "\n",
              "\n",
              "<div id=\"df-d725ad91-6c18-4041-bbb2-81f6e0a8db8d\">\n",
              "  <button class=\"colab-df-quickchart\" onclick=\"quickchart('df-d725ad91-6c18-4041-bbb2-81f6e0a8db8d')\"\n",
              "            title=\"Suggest charts\"\n",
              "            style=\"display:none;\">\n",
              "\n",
              "<svg xmlns=\"http://www.w3.org/2000/svg\" height=\"24px\"viewBox=\"0 0 24 24\"\n",
              "     width=\"24px\">\n",
              "    <g>\n",
              "        <path d=\"M19 3H5c-1.1 0-2 .9-2 2v14c0 1.1.9 2 2 2h14c1.1 0 2-.9 2-2V5c0-1.1-.9-2-2-2zM9 17H7v-7h2v7zm4 0h-2V7h2v10zm4 0h-2v-4h2v4z\"/>\n",
              "    </g>\n",
              "</svg>\n",
              "  </button>\n",
              "\n",
              "<style>\n",
              "  .colab-df-quickchart {\n",
              "      --bg-color: #E8F0FE;\n",
              "      --fill-color: #1967D2;\n",
              "      --hover-bg-color: #E2EBFA;\n",
              "      --hover-fill-color: #174EA6;\n",
              "      --disabled-fill-color: #AAA;\n",
              "      --disabled-bg-color: #DDD;\n",
              "  }\n",
              "\n",
              "  [theme=dark] .colab-df-quickchart {\n",
              "      --bg-color: #3B4455;\n",
              "      --fill-color: #D2E3FC;\n",
              "      --hover-bg-color: #434B5C;\n",
              "      --hover-fill-color: #FFFFFF;\n",
              "      --disabled-bg-color: #3B4455;\n",
              "      --disabled-fill-color: #666;\n",
              "  }\n",
              "\n",
              "  .colab-df-quickchart {\n",
              "    background-color: var(--bg-color);\n",
              "    border: none;\n",
              "    border-radius: 50%;\n",
              "    cursor: pointer;\n",
              "    display: none;\n",
              "    fill: var(--fill-color);\n",
              "    height: 32px;\n",
              "    padding: 0;\n",
              "    width: 32px;\n",
              "  }\n",
              "\n",
              "  .colab-df-quickchart:hover {\n",
              "    background-color: var(--hover-bg-color);\n",
              "    box-shadow: 0 1px 2px rgba(60, 64, 67, 0.3), 0 1px 3px 1px rgba(60, 64, 67, 0.15);\n",
              "    fill: var(--button-hover-fill-color);\n",
              "  }\n",
              "\n",
              "  .colab-df-quickchart-complete:disabled,\n",
              "  .colab-df-quickchart-complete:disabled:hover {\n",
              "    background-color: var(--disabled-bg-color);\n",
              "    fill: var(--disabled-fill-color);\n",
              "    box-shadow: none;\n",
              "  }\n",
              "\n",
              "  .colab-df-spinner {\n",
              "    border: 2px solid var(--fill-color);\n",
              "    border-color: transparent;\n",
              "    border-bottom-color: var(--fill-color);\n",
              "    animation:\n",
              "      spin 1s steps(1) infinite;\n",
              "  }\n",
              "\n",
              "  @keyframes spin {\n",
              "    0% {\n",
              "      border-color: transparent;\n",
              "      border-bottom-color: var(--fill-color);\n",
              "      border-left-color: var(--fill-color);\n",
              "    }\n",
              "    20% {\n",
              "      border-color: transparent;\n",
              "      border-left-color: var(--fill-color);\n",
              "      border-top-color: var(--fill-color);\n",
              "    }\n",
              "    30% {\n",
              "      border-color: transparent;\n",
              "      border-left-color: var(--fill-color);\n",
              "      border-top-color: var(--fill-color);\n",
              "      border-right-color: var(--fill-color);\n",
              "    }\n",
              "    40% {\n",
              "      border-color: transparent;\n",
              "      border-right-color: var(--fill-color);\n",
              "      border-top-color: var(--fill-color);\n",
              "    }\n",
              "    60% {\n",
              "      border-color: transparent;\n",
              "      border-right-color: var(--fill-color);\n",
              "    }\n",
              "    80% {\n",
              "      border-color: transparent;\n",
              "      border-right-color: var(--fill-color);\n",
              "      border-bottom-color: var(--fill-color);\n",
              "    }\n",
              "    90% {\n",
              "      border-color: transparent;\n",
              "      border-bottom-color: var(--fill-color);\n",
              "    }\n",
              "  }\n",
              "</style>\n",
              "\n",
              "  <script>\n",
              "    async function quickchart(key) {\n",
              "      const quickchartButtonEl =\n",
              "        document.querySelector('#' + key + ' button');\n",
              "      quickchartButtonEl.disabled = true;  // To prevent multiple clicks.\n",
              "      quickchartButtonEl.classList.add('colab-df-spinner');\n",
              "      try {\n",
              "        const charts = await google.colab.kernel.invokeFunction(\n",
              "            'suggestCharts', [key], {});\n",
              "      } catch (error) {\n",
              "        console.error('Error during call to suggestCharts:', error);\n",
              "      }\n",
              "      quickchartButtonEl.classList.remove('colab-df-spinner');\n",
              "      quickchartButtonEl.classList.add('colab-df-quickchart-complete');\n",
              "    }\n",
              "    (() => {\n",
              "      let quickchartButtonEl =\n",
              "        document.querySelector('#df-d725ad91-6c18-4041-bbb2-81f6e0a8db8d button');\n",
              "      quickchartButtonEl.style.display =\n",
              "        google.colab.kernel.accessAllowed ? 'block' : 'none';\n",
              "    })();\n",
              "  </script>\n",
              "</div>\n",
              "    </div>\n",
              "  </div>\n"
            ],
            "application/vnd.google.colaboratory.intrinsic+json": {
              "type": "dataframe",
              "variable_name": "df",
              "summary": "{\n  \"name\": \"df\",\n  \"rows\": 10478,\n  \"fields\": [\n    {\n      \"column\": \"Client\",\n      \"properties\": {\n        \"dtype\": \"category\",\n        \"num_unique_values\": 10,\n        \"samples\": [\n          \"\\u041c\\u0435\\u0442\\u0430\",\n          \"\\u0413\\u0430\\u043c\\u043c\\u0430\",\n          \"\\u0417\\u0435\\u0442\\u0430\"\n        ],\n        \"semantic_type\": \"\",\n        \"description\": \"\"\n      }\n    },\n    {\n      \"column\": \"Month\",\n      \"properties\": {\n        \"dtype\": \"date\",\n        \"min\": \"2021-04-01 00:00:00\",\n        \"max\": \"2022-09-01 00:00:00\",\n        \"num_unique_values\": 18,\n        \"samples\": [\n          \"2021-04-01 00:00:00\",\n          \"2021-05-01 00:00:00\",\n          \"2021-12-01 00:00:00\"\n        ],\n        \"semantic_type\": \"\",\n        \"description\": \"\"\n      }\n    },\n    {\n      \"column\": \"Category\",\n      \"properties\": {\n        \"dtype\": \"category\",\n        \"num_unique_values\": 7,\n        \"samples\": [\n          \"\\u0420\\u0410\\u0421\\u0427\\u0415\\u0422\\u041d\\u041e-\\u041a\\u0410\\u0421\\u0421\\u041e\\u0412\\u041e\\u0415 \\u041e\\u0411\\u0421\\u041b\\u0423\\u0416\\u0418\\u0412\\u0410\\u041d\\u0418\\u0415\",\n          \"\\u041f\\u041e\\u0422\\u0420\\u0415\\u0411\\u0418\\u0422\\u0415\\u041b\\u042c\\u0421\\u041a\\u041e\\u0415 \\u041a\\u0420\\u0415\\u0414\\u0418\\u0422\\u041e\\u0412\\u0410\\u041d\\u0418\\u0415\",\n          \"\\u0414\\u0415\\u0411\\u0415\\u0422\\u041e\\u0412\\u042b\\u0415 \\u041a\\u0410\\u0420\\u0422\\u042b\"\n        ],\n        \"semantic_type\": \"\",\n        \"description\": \"\"\n      }\n    },\n    {\n      \"column\": \"Device\",\n      \"properties\": {\n        \"dtype\": \"category\",\n        \"num_unique_values\": 2,\n        \"samples\": [\n          \"Mobile\",\n          \"Desktop\"\n        ],\n        \"semantic_type\": \"\",\n        \"description\": \"\"\n      }\n    },\n    {\n      \"column\": \"Place\",\n      \"properties\": {\n        \"dtype\": \"category\",\n        \"num_unique_values\": 2,\n        \"samples\": [\n          \"Search\",\n          \"Networks\"\n        ],\n        \"semantic_type\": \"\",\n        \"description\": \"\"\n      }\n    },\n    {\n      \"column\": \"BannerType\",\n      \"properties\": {\n        \"dtype\": \"category\",\n        \"num_unique_values\": 7,\n        \"samples\": [\n          \"cpc_video\",\n          \"image_ad\"\n        ],\n        \"semantic_type\": \"\",\n        \"description\": \"\"\n      }\n    },\n    {\n      \"column\": \"QueryType (search only)\",\n      \"properties\": {\n        \"dtype\": \"category\",\n        \"num_unique_values\": 4,\n        \"samples\": [\n          \"Brand\",\n          \"Competitor\"\n        ],\n        \"semantic_type\": \"\",\n        \"description\": \"\"\n      }\n    },\n    {\n      \"column\": \"TargetingType\",\n      \"properties\": {\n        \"dtype\": \"category\",\n        \"num_unique_values\": 3,\n        \"samples\": [\n          \"Phrase\",\n          \"Retargeting\"\n        ],\n        \"semantic_type\": \"\",\n        \"description\": \"\"\n      }\n    },\n    {\n      \"column\": \"Shows\",\n      \"properties\": {\n        \"dtype\": \"number\",\n        \"std\": 15449238,\n        \"min\": 0,\n        \"max\": 583150600,\n        \"num_unique_values\": 6942,\n        \"samples\": [\n          27286,\n          23032\n        ],\n        \"semantic_type\": \"\",\n        \"description\": \"\"\n      }\n    },\n    {\n      \"column\": \"Clicks\",\n      \"properties\": {\n        \"dtype\": \"number\",\n        \"std\": 44548,\n        \"min\": 0,\n        \"max\": 2237376,\n        \"num_unique_values\": 4636,\n        \"samples\": [\n          1497,\n          5825\n        ],\n        \"semantic_type\": \"\",\n        \"description\": \"\"\n      }\n    },\n    {\n      \"column\": \"Cost\",\n      \"properties\": {\n        \"dtype\": \"number\",\n        \"std\": 1211802.1932194515,\n        \"min\": 0.0,\n        \"max\": 39766179.1180932,\n        \"num_unique_values\": 7306,\n        \"samples\": [\n          73.2730932203389,\n          671824.153754237\n        ],\n        \"semantic_type\": \"\",\n        \"description\": \"\"\n      }\n    },\n    {\n      \"column\": \"Conversions\",\n      \"properties\": {\n        \"dtype\": \"number\",\n        \"std\": 2086,\n        \"min\": 0,\n        \"max\": 47259,\n        \"num_unique_values\": 1680,\n        \"samples\": [\n          523,\n          3300\n        ],\n        \"semantic_type\": \"\",\n        \"description\": \"\"\n      }\n    }\n  ]\n}"
            }
          },
          "metadata": {},
          "execution_count": 17
        }
      ]
    },
    {
      "cell_type": "code",
      "source": [
        "df['cpa']  = df['Cost'] / df['Conversions']"
      ],
      "metadata": {
        "id": "hAV9MbLkEFAW"
      },
      "execution_count": 18,
      "outputs": []
    },
    {
      "cell_type": "code",
      "source": [
        "df.head()"
      ],
      "metadata": {
        "colab": {
          "base_uri": "https://localhost:8080/",
          "height": 434
        },
        "id": "scGKgXbhEPK0",
        "outputId": "2d36b464-a24f-4b05-a1fc-ce6eb356eb09"
      },
      "execution_count": 19,
      "outputs": [
        {
          "output_type": "execute_result",
          "data": {
            "text/plain": [
              "   Client      Month                        Category   Device     Place  \\\n",
              "0  Псилон 2021-04-01  РАСЧЕТНО-КАССОВОЕ ОБСЛУЖИВАНИЕ  Desktop  Networks   \n",
              "1  Псилон 2021-04-01  РАСЧЕТНО-КАССОВОЕ ОБСЛУЖИВАНИЕ  Desktop  Networks   \n",
              "2  Псилон 2021-04-01  РАСЧЕТНО-КАССОВОЕ ОБСЛУЖИВАНИЕ   Mobile  Networks   \n",
              "3   Гамма 2021-04-01  РАСЧЕТНО-КАССОВОЕ ОБСЛУЖИВАНИЕ  Desktop  Networks   \n",
              "4   Гамма 2021-04-01  РАСЧЕТНО-КАССОВОЕ ОБСЛУЖИВАНИЕ   Mobile  Networks   \n",
              "\n",
              "  BannerType QueryType (search only) TargetingType  Shows  Clicks    Cost  \\\n",
              "0  cpc_video                    none        Phrase      0       0    0.00   \n",
              "1  cpc_video                    none   Retargeting   5949      41 1666.84   \n",
              "2  cpc_video                    none   Retargeting    191       6   40.64   \n",
              "3   image_ad                    none   Retargeting    227       1   45.75   \n",
              "4   image_ad                    none   Retargeting     18       0    0.00   \n",
              "\n",
              "   Conversions  cpa  \n",
              "0            0  NaN  \n",
              "1            0  inf  \n",
              "2            0  inf  \n",
              "3            0  inf  \n",
              "4            0  NaN  "
            ],
            "text/html": [
              "\n",
              "  <div id=\"df-dc0e8a54-9dfc-4a1e-b753-6e591e1e940d\" class=\"colab-df-container\">\n",
              "    <div>\n",
              "<style scoped>\n",
              "    .dataframe tbody tr th:only-of-type {\n",
              "        vertical-align: middle;\n",
              "    }\n",
              "\n",
              "    .dataframe tbody tr th {\n",
              "        vertical-align: top;\n",
              "    }\n",
              "\n",
              "    .dataframe thead th {\n",
              "        text-align: right;\n",
              "    }\n",
              "</style>\n",
              "<table border=\"1\" class=\"dataframe\">\n",
              "  <thead>\n",
              "    <tr style=\"text-align: right;\">\n",
              "      <th></th>\n",
              "      <th>Client</th>\n",
              "      <th>Month</th>\n",
              "      <th>Category</th>\n",
              "      <th>Device</th>\n",
              "      <th>Place</th>\n",
              "      <th>BannerType</th>\n",
              "      <th>QueryType (search only)</th>\n",
              "      <th>TargetingType</th>\n",
              "      <th>Shows</th>\n",
              "      <th>Clicks</th>\n",
              "      <th>Cost</th>\n",
              "      <th>Conversions</th>\n",
              "      <th>cpa</th>\n",
              "    </tr>\n",
              "  </thead>\n",
              "  <tbody>\n",
              "    <tr>\n",
              "      <th>0</th>\n",
              "      <td>Псилон</td>\n",
              "      <td>2021-04-01</td>\n",
              "      <td>РАСЧЕТНО-КАССОВОЕ ОБСЛУЖИВАНИЕ</td>\n",
              "      <td>Desktop</td>\n",
              "      <td>Networks</td>\n",
              "      <td>cpc_video</td>\n",
              "      <td>none</td>\n",
              "      <td>Phrase</td>\n",
              "      <td>0</td>\n",
              "      <td>0</td>\n",
              "      <td>0.00</td>\n",
              "      <td>0</td>\n",
              "      <td>NaN</td>\n",
              "    </tr>\n",
              "    <tr>\n",
              "      <th>1</th>\n",
              "      <td>Псилон</td>\n",
              "      <td>2021-04-01</td>\n",
              "      <td>РАСЧЕТНО-КАССОВОЕ ОБСЛУЖИВАНИЕ</td>\n",
              "      <td>Desktop</td>\n",
              "      <td>Networks</td>\n",
              "      <td>cpc_video</td>\n",
              "      <td>none</td>\n",
              "      <td>Retargeting</td>\n",
              "      <td>5949</td>\n",
              "      <td>41</td>\n",
              "      <td>1666.84</td>\n",
              "      <td>0</td>\n",
              "      <td>inf</td>\n",
              "    </tr>\n",
              "    <tr>\n",
              "      <th>2</th>\n",
              "      <td>Псилон</td>\n",
              "      <td>2021-04-01</td>\n",
              "      <td>РАСЧЕТНО-КАССОВОЕ ОБСЛУЖИВАНИЕ</td>\n",
              "      <td>Mobile</td>\n",
              "      <td>Networks</td>\n",
              "      <td>cpc_video</td>\n",
              "      <td>none</td>\n",
              "      <td>Retargeting</td>\n",
              "      <td>191</td>\n",
              "      <td>6</td>\n",
              "      <td>40.64</td>\n",
              "      <td>0</td>\n",
              "      <td>inf</td>\n",
              "    </tr>\n",
              "    <tr>\n",
              "      <th>3</th>\n",
              "      <td>Гамма</td>\n",
              "      <td>2021-04-01</td>\n",
              "      <td>РАСЧЕТНО-КАССОВОЕ ОБСЛУЖИВАНИЕ</td>\n",
              "      <td>Desktop</td>\n",
              "      <td>Networks</td>\n",
              "      <td>image_ad</td>\n",
              "      <td>none</td>\n",
              "      <td>Retargeting</td>\n",
              "      <td>227</td>\n",
              "      <td>1</td>\n",
              "      <td>45.75</td>\n",
              "      <td>0</td>\n",
              "      <td>inf</td>\n",
              "    </tr>\n",
              "    <tr>\n",
              "      <th>4</th>\n",
              "      <td>Гамма</td>\n",
              "      <td>2021-04-01</td>\n",
              "      <td>РАСЧЕТНО-КАССОВОЕ ОБСЛУЖИВАНИЕ</td>\n",
              "      <td>Mobile</td>\n",
              "      <td>Networks</td>\n",
              "      <td>image_ad</td>\n",
              "      <td>none</td>\n",
              "      <td>Retargeting</td>\n",
              "      <td>18</td>\n",
              "      <td>0</td>\n",
              "      <td>0.00</td>\n",
              "      <td>0</td>\n",
              "      <td>NaN</td>\n",
              "    </tr>\n",
              "  </tbody>\n",
              "</table>\n",
              "</div>\n",
              "    <div class=\"colab-df-buttons\">\n",
              "\n",
              "  <div class=\"colab-df-container\">\n",
              "    <button class=\"colab-df-convert\" onclick=\"convertToInteractive('df-dc0e8a54-9dfc-4a1e-b753-6e591e1e940d')\"\n",
              "            title=\"Convert this dataframe to an interactive table.\"\n",
              "            style=\"display:none;\">\n",
              "\n",
              "  <svg xmlns=\"http://www.w3.org/2000/svg\" height=\"24px\" viewBox=\"0 -960 960 960\">\n",
              "    <path d=\"M120-120v-720h720v720H120Zm60-500h600v-160H180v160Zm220 220h160v-160H400v160Zm0 220h160v-160H400v160ZM180-400h160v-160H180v160Zm440 0h160v-160H620v160ZM180-180h160v-160H180v160Zm440 0h160v-160H620v160Z\"/>\n",
              "  </svg>\n",
              "    </button>\n",
              "\n",
              "  <style>\n",
              "    .colab-df-container {\n",
              "      display:flex;\n",
              "      gap: 12px;\n",
              "    }\n",
              "\n",
              "    .colab-df-convert {\n",
              "      background-color: #E8F0FE;\n",
              "      border: none;\n",
              "      border-radius: 50%;\n",
              "      cursor: pointer;\n",
              "      display: none;\n",
              "      fill: #1967D2;\n",
              "      height: 32px;\n",
              "      padding: 0 0 0 0;\n",
              "      width: 32px;\n",
              "    }\n",
              "\n",
              "    .colab-df-convert:hover {\n",
              "      background-color: #E2EBFA;\n",
              "      box-shadow: 0px 1px 2px rgba(60, 64, 67, 0.3), 0px 1px 3px 1px rgba(60, 64, 67, 0.15);\n",
              "      fill: #174EA6;\n",
              "    }\n",
              "\n",
              "    .colab-df-buttons div {\n",
              "      margin-bottom: 4px;\n",
              "    }\n",
              "\n",
              "    [theme=dark] .colab-df-convert {\n",
              "      background-color: #3B4455;\n",
              "      fill: #D2E3FC;\n",
              "    }\n",
              "\n",
              "    [theme=dark] .colab-df-convert:hover {\n",
              "      background-color: #434B5C;\n",
              "      box-shadow: 0px 1px 3px 1px rgba(0, 0, 0, 0.15);\n",
              "      filter: drop-shadow(0px 1px 2px rgba(0, 0, 0, 0.3));\n",
              "      fill: #FFFFFF;\n",
              "    }\n",
              "  </style>\n",
              "\n",
              "    <script>\n",
              "      const buttonEl =\n",
              "        document.querySelector('#df-dc0e8a54-9dfc-4a1e-b753-6e591e1e940d button.colab-df-convert');\n",
              "      buttonEl.style.display =\n",
              "        google.colab.kernel.accessAllowed ? 'block' : 'none';\n",
              "\n",
              "      async function convertToInteractive(key) {\n",
              "        const element = document.querySelector('#df-dc0e8a54-9dfc-4a1e-b753-6e591e1e940d');\n",
              "        const dataTable =\n",
              "          await google.colab.kernel.invokeFunction('convertToInteractive',\n",
              "                                                    [key], {});\n",
              "        if (!dataTable) return;\n",
              "\n",
              "        const docLinkHtml = 'Like what you see? Visit the ' +\n",
              "          '<a target=\"_blank\" href=https://colab.research.google.com/notebooks/data_table.ipynb>data table notebook</a>'\n",
              "          + ' to learn more about interactive tables.';\n",
              "        element.innerHTML = '';\n",
              "        dataTable['output_type'] = 'display_data';\n",
              "        await google.colab.output.renderOutput(dataTable, element);\n",
              "        const docLink = document.createElement('div');\n",
              "        docLink.innerHTML = docLinkHtml;\n",
              "        element.appendChild(docLink);\n",
              "      }\n",
              "    </script>\n",
              "  </div>\n",
              "\n",
              "\n",
              "<div id=\"df-3759602a-e601-44eb-82b8-0668c28ab370\">\n",
              "  <button class=\"colab-df-quickchart\" onclick=\"quickchart('df-3759602a-e601-44eb-82b8-0668c28ab370')\"\n",
              "            title=\"Suggest charts\"\n",
              "            style=\"display:none;\">\n",
              "\n",
              "<svg xmlns=\"http://www.w3.org/2000/svg\" height=\"24px\"viewBox=\"0 0 24 24\"\n",
              "     width=\"24px\">\n",
              "    <g>\n",
              "        <path d=\"M19 3H5c-1.1 0-2 .9-2 2v14c0 1.1.9 2 2 2h14c1.1 0 2-.9 2-2V5c0-1.1-.9-2-2-2zM9 17H7v-7h2v7zm4 0h-2V7h2v10zm4 0h-2v-4h2v4z\"/>\n",
              "    </g>\n",
              "</svg>\n",
              "  </button>\n",
              "\n",
              "<style>\n",
              "  .colab-df-quickchart {\n",
              "      --bg-color: #E8F0FE;\n",
              "      --fill-color: #1967D2;\n",
              "      --hover-bg-color: #E2EBFA;\n",
              "      --hover-fill-color: #174EA6;\n",
              "      --disabled-fill-color: #AAA;\n",
              "      --disabled-bg-color: #DDD;\n",
              "  }\n",
              "\n",
              "  [theme=dark] .colab-df-quickchart {\n",
              "      --bg-color: #3B4455;\n",
              "      --fill-color: #D2E3FC;\n",
              "      --hover-bg-color: #434B5C;\n",
              "      --hover-fill-color: #FFFFFF;\n",
              "      --disabled-bg-color: #3B4455;\n",
              "      --disabled-fill-color: #666;\n",
              "  }\n",
              "\n",
              "  .colab-df-quickchart {\n",
              "    background-color: var(--bg-color);\n",
              "    border: none;\n",
              "    border-radius: 50%;\n",
              "    cursor: pointer;\n",
              "    display: none;\n",
              "    fill: var(--fill-color);\n",
              "    height: 32px;\n",
              "    padding: 0;\n",
              "    width: 32px;\n",
              "  }\n",
              "\n",
              "  .colab-df-quickchart:hover {\n",
              "    background-color: var(--hover-bg-color);\n",
              "    box-shadow: 0 1px 2px rgba(60, 64, 67, 0.3), 0 1px 3px 1px rgba(60, 64, 67, 0.15);\n",
              "    fill: var(--button-hover-fill-color);\n",
              "  }\n",
              "\n",
              "  .colab-df-quickchart-complete:disabled,\n",
              "  .colab-df-quickchart-complete:disabled:hover {\n",
              "    background-color: var(--disabled-bg-color);\n",
              "    fill: var(--disabled-fill-color);\n",
              "    box-shadow: none;\n",
              "  }\n",
              "\n",
              "  .colab-df-spinner {\n",
              "    border: 2px solid var(--fill-color);\n",
              "    border-color: transparent;\n",
              "    border-bottom-color: var(--fill-color);\n",
              "    animation:\n",
              "      spin 1s steps(1) infinite;\n",
              "  }\n",
              "\n",
              "  @keyframes spin {\n",
              "    0% {\n",
              "      border-color: transparent;\n",
              "      border-bottom-color: var(--fill-color);\n",
              "      border-left-color: var(--fill-color);\n",
              "    }\n",
              "    20% {\n",
              "      border-color: transparent;\n",
              "      border-left-color: var(--fill-color);\n",
              "      border-top-color: var(--fill-color);\n",
              "    }\n",
              "    30% {\n",
              "      border-color: transparent;\n",
              "      border-left-color: var(--fill-color);\n",
              "      border-top-color: var(--fill-color);\n",
              "      border-right-color: var(--fill-color);\n",
              "    }\n",
              "    40% {\n",
              "      border-color: transparent;\n",
              "      border-right-color: var(--fill-color);\n",
              "      border-top-color: var(--fill-color);\n",
              "    }\n",
              "    60% {\n",
              "      border-color: transparent;\n",
              "      border-right-color: var(--fill-color);\n",
              "    }\n",
              "    80% {\n",
              "      border-color: transparent;\n",
              "      border-right-color: var(--fill-color);\n",
              "      border-bottom-color: var(--fill-color);\n",
              "    }\n",
              "    90% {\n",
              "      border-color: transparent;\n",
              "      border-bottom-color: var(--fill-color);\n",
              "    }\n",
              "  }\n",
              "</style>\n",
              "\n",
              "  <script>\n",
              "    async function quickchart(key) {\n",
              "      const quickchartButtonEl =\n",
              "        document.querySelector('#' + key + ' button');\n",
              "      quickchartButtonEl.disabled = true;  // To prevent multiple clicks.\n",
              "      quickchartButtonEl.classList.add('colab-df-spinner');\n",
              "      try {\n",
              "        const charts = await google.colab.kernel.invokeFunction(\n",
              "            'suggestCharts', [key], {});\n",
              "      } catch (error) {\n",
              "        console.error('Error during call to suggestCharts:', error);\n",
              "      }\n",
              "      quickchartButtonEl.classList.remove('colab-df-spinner');\n",
              "      quickchartButtonEl.classList.add('colab-df-quickchart-complete');\n",
              "    }\n",
              "    (() => {\n",
              "      let quickchartButtonEl =\n",
              "        document.querySelector('#df-3759602a-e601-44eb-82b8-0668c28ab370 button');\n",
              "      quickchartButtonEl.style.display =\n",
              "        google.colab.kernel.accessAllowed ? 'block' : 'none';\n",
              "    })();\n",
              "  </script>\n",
              "</div>\n",
              "    </div>\n",
              "  </div>\n"
            ],
            "application/vnd.google.colaboratory.intrinsic+json": {
              "type": "dataframe",
              "variable_name": "df",
              "repr_error": "Out of range float values are not JSON compliant: inf"
            }
          },
          "metadata": {},
          "execution_count": 19
        }
      ]
    },
    {
      "cell_type": "code",
      "source": [
        "df.cpa.value_counts()"
      ],
      "metadata": {
        "colab": {
          "base_uri": "https://localhost:8080/"
        },
        "id": "SYH60YGNE-FP",
        "outputId": "03fc977c-df7c-41fd-d99d-4643b07f7961"
      },
      "execution_count": 20,
      "outputs": [
        {
          "output_type": "execute_result",
          "data": {
            "text/plain": [
              "cpa\n",
              "inf        1696\n",
              "0.00        323\n",
              "8201.71       1\n",
              "169.95        1\n",
              "746.92        1\n",
              "           ... \n",
              "337.62        1\n",
              "1573.70       1\n",
              "524.64        1\n",
              "454.33        1\n",
              "1459.03       1\n",
              "Name: count, Length: 5611, dtype: int64"
            ]
          },
          "metadata": {},
          "execution_count": 20
        }
      ]
    },
    {
      "cell_type": "markdown",
      "source": [
        "В новой ячейке cpa (Cost per Action, цена за действие) имеем типы данных ibf и NaN заменим их на 0"
      ],
      "metadata": {
        "id": "TvwPzONCEvUR"
      }
    },
    {
      "cell_type": "code",
      "source": [
        "df.replace([np.inf, -np.inf], np.nan, inplace=True)"
      ],
      "metadata": {
        "id": "3gzp0WhOE2YS"
      },
      "execution_count": 21,
      "outputs": []
    },
    {
      "cell_type": "code",
      "source": [
        "df = df.fillna(0)"
      ],
      "metadata": {
        "id": "HClfbGxSGkR2"
      },
      "execution_count": 22,
      "outputs": []
    },
    {
      "cell_type": "code",
      "source": [
        "df.isna().mean()"
      ],
      "metadata": {
        "colab": {
          "base_uri": "https://localhost:8080/"
        },
        "id": "FXU2VrDpEkK-",
        "outputId": "674afeea-eb80-4508-a93c-9556dac73a41"
      },
      "execution_count": 23,
      "outputs": [
        {
          "output_type": "execute_result",
          "data": {
            "text/plain": [
              "Client                    0.00\n",
              "Month                     0.00\n",
              "Category                  0.00\n",
              "Device                    0.00\n",
              "Place                     0.00\n",
              "BannerType                0.00\n",
              "QueryType (search only)   0.00\n",
              "TargetingType             0.00\n",
              "Shows                     0.00\n",
              "Clicks                    0.00\n",
              "Cost                      0.00\n",
              "Conversions               0.00\n",
              "cpa                       0.00\n",
              "dtype: float64"
            ]
          },
          "metadata": {},
          "execution_count": 23
        }
      ]
    },
    {
      "cell_type": "markdown",
      "source": [
        "В значениях получили пропуски данных типа NaN там, где Cost равна 0 в количестве 27% - заменим такие пропуски на 0."
      ],
      "metadata": {
        "id": "9J-7wFfzEWJw"
      }
    },
    {
      "cell_type": "code",
      "source": [
        "df = df.fillna(0)"
      ],
      "metadata": {
        "id": "2U9t0OehEVae"
      },
      "execution_count": 24,
      "outputs": []
    },
    {
      "cell_type": "code",
      "source": [
        "df.describe()"
      ],
      "metadata": {
        "colab": {
          "base_uri": "https://localhost:8080/",
          "height": 300
        },
        "id": "7z0GOHz3ECUY",
        "outputId": "ad710a1b-d92a-4cc1-f862-1461b1936b90"
      },
      "execution_count": 25,
      "outputs": [
        {
          "output_type": "execute_result",
          "data": {
            "text/plain": [
              "                               Month        Shows     Clicks        Cost  \\\n",
              "count                          10478     10478.00   10478.00    10478.00   \n",
              "mean   2021-12-23 01:32:37.701851648   1715048.61    9769.44   359829.32   \n",
              "min              2021-04-01 00:00:00         0.00       0.00        0.00   \n",
              "25%              2021-08-01 00:00:00         1.00       0.00        0.00   \n",
              "50%              2022-01-01 00:00:00     11811.50     280.50    13046.77   \n",
              "75%              2022-05-01 00:00:00    132642.50    5130.25   211153.43   \n",
              "max              2022-09-01 00:00:00 583150600.00 2237376.00 39766179.12   \n",
              "std                              NaN  15449238.73   44548.19  1211802.19   \n",
              "\n",
              "       Conversions        cpa  \n",
              "count     10478.00   10478.00  \n",
              "mean        507.98    5256.54  \n",
              "min           0.00       0.00  \n",
              "25%           0.00       0.00  \n",
              "50%           2.00     155.79  \n",
              "75%          94.00    1317.73  \n",
              "max       47259.00 2227386.43  \n",
              "std        2086.40   41369.44  "
            ],
            "text/html": [
              "\n",
              "  <div id=\"df-e920c533-e7b3-4037-a9a4-05baceb9dc65\" class=\"colab-df-container\">\n",
              "    <div>\n",
              "<style scoped>\n",
              "    .dataframe tbody tr th:only-of-type {\n",
              "        vertical-align: middle;\n",
              "    }\n",
              "\n",
              "    .dataframe tbody tr th {\n",
              "        vertical-align: top;\n",
              "    }\n",
              "\n",
              "    .dataframe thead th {\n",
              "        text-align: right;\n",
              "    }\n",
              "</style>\n",
              "<table border=\"1\" class=\"dataframe\">\n",
              "  <thead>\n",
              "    <tr style=\"text-align: right;\">\n",
              "      <th></th>\n",
              "      <th>Month</th>\n",
              "      <th>Shows</th>\n",
              "      <th>Clicks</th>\n",
              "      <th>Cost</th>\n",
              "      <th>Conversions</th>\n",
              "      <th>cpa</th>\n",
              "    </tr>\n",
              "  </thead>\n",
              "  <tbody>\n",
              "    <tr>\n",
              "      <th>count</th>\n",
              "      <td>10478</td>\n",
              "      <td>10478.00</td>\n",
              "      <td>10478.00</td>\n",
              "      <td>10478.00</td>\n",
              "      <td>10478.00</td>\n",
              "      <td>10478.00</td>\n",
              "    </tr>\n",
              "    <tr>\n",
              "      <th>mean</th>\n",
              "      <td>2021-12-23 01:32:37.701851648</td>\n",
              "      <td>1715048.61</td>\n",
              "      <td>9769.44</td>\n",
              "      <td>359829.32</td>\n",
              "      <td>507.98</td>\n",
              "      <td>5256.54</td>\n",
              "    </tr>\n",
              "    <tr>\n",
              "      <th>min</th>\n",
              "      <td>2021-04-01 00:00:00</td>\n",
              "      <td>0.00</td>\n",
              "      <td>0.00</td>\n",
              "      <td>0.00</td>\n",
              "      <td>0.00</td>\n",
              "      <td>0.00</td>\n",
              "    </tr>\n",
              "    <tr>\n",
              "      <th>25%</th>\n",
              "      <td>2021-08-01 00:00:00</td>\n",
              "      <td>1.00</td>\n",
              "      <td>0.00</td>\n",
              "      <td>0.00</td>\n",
              "      <td>0.00</td>\n",
              "      <td>0.00</td>\n",
              "    </tr>\n",
              "    <tr>\n",
              "      <th>50%</th>\n",
              "      <td>2022-01-01 00:00:00</td>\n",
              "      <td>11811.50</td>\n",
              "      <td>280.50</td>\n",
              "      <td>13046.77</td>\n",
              "      <td>2.00</td>\n",
              "      <td>155.79</td>\n",
              "    </tr>\n",
              "    <tr>\n",
              "      <th>75%</th>\n",
              "      <td>2022-05-01 00:00:00</td>\n",
              "      <td>132642.50</td>\n",
              "      <td>5130.25</td>\n",
              "      <td>211153.43</td>\n",
              "      <td>94.00</td>\n",
              "      <td>1317.73</td>\n",
              "    </tr>\n",
              "    <tr>\n",
              "      <th>max</th>\n",
              "      <td>2022-09-01 00:00:00</td>\n",
              "      <td>583150600.00</td>\n",
              "      <td>2237376.00</td>\n",
              "      <td>39766179.12</td>\n",
              "      <td>47259.00</td>\n",
              "      <td>2227386.43</td>\n",
              "    </tr>\n",
              "    <tr>\n",
              "      <th>std</th>\n",
              "      <td>NaN</td>\n",
              "      <td>15449238.73</td>\n",
              "      <td>44548.19</td>\n",
              "      <td>1211802.19</td>\n",
              "      <td>2086.40</td>\n",
              "      <td>41369.44</td>\n",
              "    </tr>\n",
              "  </tbody>\n",
              "</table>\n",
              "</div>\n",
              "    <div class=\"colab-df-buttons\">\n",
              "\n",
              "  <div class=\"colab-df-container\">\n",
              "    <button class=\"colab-df-convert\" onclick=\"convertToInteractive('df-e920c533-e7b3-4037-a9a4-05baceb9dc65')\"\n",
              "            title=\"Convert this dataframe to an interactive table.\"\n",
              "            style=\"display:none;\">\n",
              "\n",
              "  <svg xmlns=\"http://www.w3.org/2000/svg\" height=\"24px\" viewBox=\"0 -960 960 960\">\n",
              "    <path d=\"M120-120v-720h720v720H120Zm60-500h600v-160H180v160Zm220 220h160v-160H400v160Zm0 220h160v-160H400v160ZM180-400h160v-160H180v160Zm440 0h160v-160H620v160ZM180-180h160v-160H180v160Zm440 0h160v-160H620v160Z\"/>\n",
              "  </svg>\n",
              "    </button>\n",
              "\n",
              "  <style>\n",
              "    .colab-df-container {\n",
              "      display:flex;\n",
              "      gap: 12px;\n",
              "    }\n",
              "\n",
              "    .colab-df-convert {\n",
              "      background-color: #E8F0FE;\n",
              "      border: none;\n",
              "      border-radius: 50%;\n",
              "      cursor: pointer;\n",
              "      display: none;\n",
              "      fill: #1967D2;\n",
              "      height: 32px;\n",
              "      padding: 0 0 0 0;\n",
              "      width: 32px;\n",
              "    }\n",
              "\n",
              "    .colab-df-convert:hover {\n",
              "      background-color: #E2EBFA;\n",
              "      box-shadow: 0px 1px 2px rgba(60, 64, 67, 0.3), 0px 1px 3px 1px rgba(60, 64, 67, 0.15);\n",
              "      fill: #174EA6;\n",
              "    }\n",
              "\n",
              "    .colab-df-buttons div {\n",
              "      margin-bottom: 4px;\n",
              "    }\n",
              "\n",
              "    [theme=dark] .colab-df-convert {\n",
              "      background-color: #3B4455;\n",
              "      fill: #D2E3FC;\n",
              "    }\n",
              "\n",
              "    [theme=dark] .colab-df-convert:hover {\n",
              "      background-color: #434B5C;\n",
              "      box-shadow: 0px 1px 3px 1px rgba(0, 0, 0, 0.15);\n",
              "      filter: drop-shadow(0px 1px 2px rgba(0, 0, 0, 0.3));\n",
              "      fill: #FFFFFF;\n",
              "    }\n",
              "  </style>\n",
              "\n",
              "    <script>\n",
              "      const buttonEl =\n",
              "        document.querySelector('#df-e920c533-e7b3-4037-a9a4-05baceb9dc65 button.colab-df-convert');\n",
              "      buttonEl.style.display =\n",
              "        google.colab.kernel.accessAllowed ? 'block' : 'none';\n",
              "\n",
              "      async function convertToInteractive(key) {\n",
              "        const element = document.querySelector('#df-e920c533-e7b3-4037-a9a4-05baceb9dc65');\n",
              "        const dataTable =\n",
              "          await google.colab.kernel.invokeFunction('convertToInteractive',\n",
              "                                                    [key], {});\n",
              "        if (!dataTable) return;\n",
              "\n",
              "        const docLinkHtml = 'Like what you see? Visit the ' +\n",
              "          '<a target=\"_blank\" href=https://colab.research.google.com/notebooks/data_table.ipynb>data table notebook</a>'\n",
              "          + ' to learn more about interactive tables.';\n",
              "        element.innerHTML = '';\n",
              "        dataTable['output_type'] = 'display_data';\n",
              "        await google.colab.output.renderOutput(dataTable, element);\n",
              "        const docLink = document.createElement('div');\n",
              "        docLink.innerHTML = docLinkHtml;\n",
              "        element.appendChild(docLink);\n",
              "      }\n",
              "    </script>\n",
              "  </div>\n",
              "\n",
              "\n",
              "<div id=\"df-d617d278-f90f-4399-862f-f97cf01f7f38\">\n",
              "  <button class=\"colab-df-quickchart\" onclick=\"quickchart('df-d617d278-f90f-4399-862f-f97cf01f7f38')\"\n",
              "            title=\"Suggest charts\"\n",
              "            style=\"display:none;\">\n",
              "\n",
              "<svg xmlns=\"http://www.w3.org/2000/svg\" height=\"24px\"viewBox=\"0 0 24 24\"\n",
              "     width=\"24px\">\n",
              "    <g>\n",
              "        <path d=\"M19 3H5c-1.1 0-2 .9-2 2v14c0 1.1.9 2 2 2h14c1.1 0 2-.9 2-2V5c0-1.1-.9-2-2-2zM9 17H7v-7h2v7zm4 0h-2V7h2v10zm4 0h-2v-4h2v4z\"/>\n",
              "    </g>\n",
              "</svg>\n",
              "  </button>\n",
              "\n",
              "<style>\n",
              "  .colab-df-quickchart {\n",
              "      --bg-color: #E8F0FE;\n",
              "      --fill-color: #1967D2;\n",
              "      --hover-bg-color: #E2EBFA;\n",
              "      --hover-fill-color: #174EA6;\n",
              "      --disabled-fill-color: #AAA;\n",
              "      --disabled-bg-color: #DDD;\n",
              "  }\n",
              "\n",
              "  [theme=dark] .colab-df-quickchart {\n",
              "      --bg-color: #3B4455;\n",
              "      --fill-color: #D2E3FC;\n",
              "      --hover-bg-color: #434B5C;\n",
              "      --hover-fill-color: #FFFFFF;\n",
              "      --disabled-bg-color: #3B4455;\n",
              "      --disabled-fill-color: #666;\n",
              "  }\n",
              "\n",
              "  .colab-df-quickchart {\n",
              "    background-color: var(--bg-color);\n",
              "    border: none;\n",
              "    border-radius: 50%;\n",
              "    cursor: pointer;\n",
              "    display: none;\n",
              "    fill: var(--fill-color);\n",
              "    height: 32px;\n",
              "    padding: 0;\n",
              "    width: 32px;\n",
              "  }\n",
              "\n",
              "  .colab-df-quickchart:hover {\n",
              "    background-color: var(--hover-bg-color);\n",
              "    box-shadow: 0 1px 2px rgba(60, 64, 67, 0.3), 0 1px 3px 1px rgba(60, 64, 67, 0.15);\n",
              "    fill: var(--button-hover-fill-color);\n",
              "  }\n",
              "\n",
              "  .colab-df-quickchart-complete:disabled,\n",
              "  .colab-df-quickchart-complete:disabled:hover {\n",
              "    background-color: var(--disabled-bg-color);\n",
              "    fill: var(--disabled-fill-color);\n",
              "    box-shadow: none;\n",
              "  }\n",
              "\n",
              "  .colab-df-spinner {\n",
              "    border: 2px solid var(--fill-color);\n",
              "    border-color: transparent;\n",
              "    border-bottom-color: var(--fill-color);\n",
              "    animation:\n",
              "      spin 1s steps(1) infinite;\n",
              "  }\n",
              "\n",
              "  @keyframes spin {\n",
              "    0% {\n",
              "      border-color: transparent;\n",
              "      border-bottom-color: var(--fill-color);\n",
              "      border-left-color: var(--fill-color);\n",
              "    }\n",
              "    20% {\n",
              "      border-color: transparent;\n",
              "      border-left-color: var(--fill-color);\n",
              "      border-top-color: var(--fill-color);\n",
              "    }\n",
              "    30% {\n",
              "      border-color: transparent;\n",
              "      border-left-color: var(--fill-color);\n",
              "      border-top-color: var(--fill-color);\n",
              "      border-right-color: var(--fill-color);\n",
              "    }\n",
              "    40% {\n",
              "      border-color: transparent;\n",
              "      border-right-color: var(--fill-color);\n",
              "      border-top-color: var(--fill-color);\n",
              "    }\n",
              "    60% {\n",
              "      border-color: transparent;\n",
              "      border-right-color: var(--fill-color);\n",
              "    }\n",
              "    80% {\n",
              "      border-color: transparent;\n",
              "      border-right-color: var(--fill-color);\n",
              "      border-bottom-color: var(--fill-color);\n",
              "    }\n",
              "    90% {\n",
              "      border-color: transparent;\n",
              "      border-bottom-color: var(--fill-color);\n",
              "    }\n",
              "  }\n",
              "</style>\n",
              "\n",
              "  <script>\n",
              "    async function quickchart(key) {\n",
              "      const quickchartButtonEl =\n",
              "        document.querySelector('#' + key + ' button');\n",
              "      quickchartButtonEl.disabled = true;  // To prevent multiple clicks.\n",
              "      quickchartButtonEl.classList.add('colab-df-spinner');\n",
              "      try {\n",
              "        const charts = await google.colab.kernel.invokeFunction(\n",
              "            'suggestCharts', [key], {});\n",
              "      } catch (error) {\n",
              "        console.error('Error during call to suggestCharts:', error);\n",
              "      }\n",
              "      quickchartButtonEl.classList.remove('colab-df-spinner');\n",
              "      quickchartButtonEl.classList.add('colab-df-quickchart-complete');\n",
              "    }\n",
              "    (() => {\n",
              "      let quickchartButtonEl =\n",
              "        document.querySelector('#df-d617d278-f90f-4399-862f-f97cf01f7f38 button');\n",
              "      quickchartButtonEl.style.display =\n",
              "        google.colab.kernel.accessAllowed ? 'block' : 'none';\n",
              "    })();\n",
              "  </script>\n",
              "</div>\n",
              "    </div>\n",
              "  </div>\n"
            ],
            "application/vnd.google.colaboratory.intrinsic+json": {
              "type": "dataframe",
              "summary": "{\n  \"name\": \"df\",\n  \"rows\": 8,\n  \"fields\": [\n    {\n      \"column\": \"Month\",\n      \"properties\": {\n        \"dtype\": \"date\",\n        \"min\": \"1970-01-01 00:00:00.000010478\",\n        \"max\": \"2022-09-01 00:00:00\",\n        \"num_unique_values\": 7,\n        \"samples\": [\n          \"10478\",\n          \"2021-12-23 01:32:37.701851648\",\n          \"2022-05-01 00:00:00\"\n        ],\n        \"semantic_type\": \"\",\n        \"description\": \"\"\n      }\n    },\n    {\n      \"column\": \"Shows\",\n      \"properties\": {\n        \"dtype\": \"number\",\n        \"std\": 205369270.14851892,\n        \"min\": 0.0,\n        \"max\": 583150600.0,\n        \"num_unique_values\": 8,\n        \"samples\": [\n          1715048.612998664,\n          132642.5,\n          10478.0\n        ],\n        \"semantic_type\": \"\",\n        \"description\": \"\"\n      }\n    },\n    {\n      \"column\": \"Clicks\",\n      \"properties\": {\n        \"dtype\": \"number\",\n        \"std\": 787623.0497991508,\n        \"min\": 0.0,\n        \"max\": 2237376.0,\n        \"num_unique_values\": 7,\n        \"samples\": [\n          10478.0,\n          9769.437392632182,\n          2237376.0\n        ],\n        \"semantic_type\": \"\",\n        \"description\": \"\"\n      }\n    },\n    {\n      \"column\": \"Cost\",\n      \"properties\": {\n        \"dtype\": \"number\",\n        \"std\": 13974250.96776397,\n        \"min\": 0.0,\n        \"max\": 39766179.1180932,\n        \"num_unique_values\": 7,\n        \"samples\": [\n          10478.0,\n          359829.3183368044,\n          39766179.1180932\n        ],\n        \"semantic_type\": \"\",\n        \"description\": \"\"\n      }\n    },\n    {\n      \"column\": \"Conversions\",\n      \"properties\": {\n        \"dtype\": \"number\",\n        \"std\": 16437.708809288255,\n        \"min\": 0.0,\n        \"max\": 47259.0,\n        \"num_unique_values\": 7,\n        \"samples\": [\n          10478.0,\n          507.98234395877074,\n          47259.0\n        ],\n        \"semantic_type\": \"\",\n        \"description\": \"\"\n      }\n    },\n    {\n      \"column\": \"cpa\",\n      \"properties\": {\n        \"dtype\": \"number\",\n        \"std\": 784665.2642656926,\n        \"min\": 0.0,\n        \"max\": 2227386.43210169,\n        \"num_unique_values\": 7,\n        \"samples\": [\n          10478.0,\n          5256.544304496225,\n          2227386.43210169\n        ],\n        \"semantic_type\": \"\",\n        \"description\": \"\"\n      }\n    }\n  ]\n}"
            }
          },
          "metadata": {},
          "execution_count": 25
        }
      ]
    },
    {
      "cell_type": "code",
      "source": [
        "fig, ax = plt.subplots(figsize=(18, 4))\n",
        "sns.lineplot(data=df, x='Month', y='cpa', ax=ax)"
      ],
      "metadata": {
        "colab": {
          "base_uri": "https://localhost:8080/",
          "height": 284
        },
        "id": "8qbtHIBtEAWY",
        "outputId": "2388f5c5-b0b0-42d0-f79d-98bc0940c097"
      },
      "execution_count": 26,
      "outputs": [
        {
          "output_type": "execute_result",
          "data": {
            "text/plain": [
              "<Axes: xlabel='Month', ylabel='cpa'>"
            ]
          },
          "metadata": {},
          "execution_count": 26
        },
        {
          "output_type": "display_data",
          "data": {
            "text/plain": [
              "<Figure size 1800x400 with 1 Axes>"
            ],
            "image/png": "[encoded data removed]"
          },
          "metadata": {}
        }
      ]
    },
    {
      "cell_type": "code",
      "source": [
        "df.head(2)"
      ],
      "metadata": {
        "colab": {
          "base_uri": "https://localhost:8080/",
          "height": 236
        },
        "id": "N6OpDZ0zYHew",
        "outputId": "196c1bcf-1649-459d-f638-efc67c605cf0"
      },
      "execution_count": 27,
      "outputs": [
        {
          "output_type": "execute_result",
          "data": {
            "text/plain": [
              "   Client      Month                        Category   Device     Place  \\\n",
              "0  Псилон 2021-04-01  РАСЧЕТНО-КАССОВОЕ ОБСЛУЖИВАНИЕ  Desktop  Networks   \n",
              "1  Псилон 2021-04-01  РАСЧЕТНО-КАССОВОЕ ОБСЛУЖИВАНИЕ  Desktop  Networks   \n",
              "\n",
              "  BannerType QueryType (search only) TargetingType  Shows  Clicks    Cost  \\\n",
              "0  cpc_video                    none        Phrase      0       0    0.00   \n",
              "1  cpc_video                    none   Retargeting   5949      41 1666.84   \n",
              "\n",
              "   Conversions  cpa  \n",
              "0            0 0.00  \n",
              "1            0 0.00  "
            ],
            "text/html": [
              "\n",
              "  <div id=\"df-7e264b65-60bc-4150-bc32-410826868806\" class=\"colab-df-container\">\n",
              "    <div>\n",
              "<style scoped>\n",
              "    .dataframe tbody tr th:only-of-type {\n",
              "        vertical-align: middle;\n",
              "    }\n",
              "\n",
              "    .dataframe tbody tr th {\n",
              "        vertical-align: top;\n",
              "    }\n",
              "\n",
              "    .dataframe thead th {\n",
              "        text-align: right;\n",
              "    }\n",
              "</style>\n",
              "<table border=\"1\" class=\"dataframe\">\n",
              "  <thead>\n",
              "    <tr style=\"text-align: right;\">\n",
              "      <th></th>\n",
              "      <th>Client</th>\n",
              "      <th>Month</th>\n",
              "      <th>Category</th>\n",
              "      <th>Device</th>\n",
              "      <th>Place</th>\n",
              "      <th>BannerType</th>\n",
              "      <th>QueryType (search only)</th>\n",
              "      <th>TargetingType</th>\n",
              "      <th>Shows</th>\n",
              "      <th>Clicks</th>\n",
              "      <th>Cost</th>\n",
              "      <th>Conversions</th>\n",
              "      <th>cpa</th>\n",
              "    </tr>\n",
              "  </thead>\n",
              "  <tbody>\n",
              "    <tr>\n",
              "      <th>0</th>\n",
              "      <td>Псилон</td>\n",
              "      <td>2021-04-01</td>\n",
              "      <td>РАСЧЕТНО-КАССОВОЕ ОБСЛУЖИВАНИЕ</td>\n",
              "      <td>Desktop</td>\n",
              "      <td>Networks</td>\n",
              "      <td>cpc_video</td>\n",
              "      <td>none</td>\n",
              "      <td>Phrase</td>\n",
              "      <td>0</td>\n",
              "      <td>0</td>\n",
              "      <td>0.00</td>\n",
              "      <td>0</td>\n",
              "      <td>0.00</td>\n",
              "    </tr>\n",
              "    <tr>\n",
              "      <th>1</th>\n",
              "      <td>Псилон</td>\n",
              "      <td>2021-04-01</td>\n",
              "      <td>РАСЧЕТНО-КАССОВОЕ ОБСЛУЖИВАНИЕ</td>\n",
              "      <td>Desktop</td>\n",
              "      <td>Networks</td>\n",
              "      <td>cpc_video</td>\n",
              "      <td>none</td>\n",
              "      <td>Retargeting</td>\n",
              "      <td>5949</td>\n",
              "      <td>41</td>\n",
              "      <td>1666.84</td>\n",
              "      <td>0</td>\n",
              "      <td>0.00</td>\n",
              "    </tr>\n",
              "  </tbody>\n",
              "</table>\n",
              "</div>\n",
              "    <div class=\"colab-df-buttons\">\n",
              "\n",
              "  <div class=\"colab-df-container\">\n",
              "    <button class=\"colab-df-convert\" onclick=\"convertToInteractive('df-7e264b65-60bc-4150-bc32-410826868806')\"\n",
              "            title=\"Convert this dataframe to an interactive table.\"\n",
              "            style=\"display:none;\">\n",
              "\n",
              "  <svg xmlns=\"http://www.w3.org/2000/svg\" height=\"24px\" viewBox=\"0 -960 960 960\">\n",
              "    <path d=\"M120-120v-720h720v720H120Zm60-500h600v-160H180v160Zm220 220h160v-160H400v160Zm0 220h160v-160H400v160ZM180-400h160v-160H180v160Zm440 0h160v-160H620v160ZM180-180h160v-160H180v160Zm440 0h160v-160H620v160Z\"/>\n",
              "  </svg>\n",
              "    </button>\n",
              "\n",
              "  <style>\n",
              "    .colab-df-container {\n",
              "      display:flex;\n",
              "      gap: 12px;\n",
              "    }\n",
              "\n",
              "    .colab-df-convert {\n",
              "      background-color: #E8F0FE;\n",
              "      border: none;\n",
              "      border-radius: 50%;\n",
              "      cursor: pointer;\n",
              "      display: none;\n",
              "      fill: #1967D2;\n",
              "      height: 32px;\n",
              "      padding: 0 0 0 0;\n",
              "      width: 32px;\n",
              "    }\n",
              "\n",
              "    .colab-df-convert:hover {\n",
              "      background-color: #E2EBFA;\n",
              "      box-shadow: 0px 1px 2px rgba(60, 64, 67, 0.3), 0px 1px 3px 1px rgba(60, 64, 67, 0.15);\n",
              "      fill: #174EA6;\n",
              "    }\n",
              "\n",
              "    .colab-df-buttons div {\n",
              "      margin-bottom: 4px;\n",
              "    }\n",
              "\n",
              "    [theme=dark] .colab-df-convert {\n",
              "      background-color: #3B4455;\n",
              "      fill: #D2E3FC;\n",
              "    }\n",
              "\n",
              "    [theme=dark] .colab-df-convert:hover {\n",
              "      background-color: #434B5C;\n",
              "      box-shadow: 0px 1px 3px 1px rgba(0, 0, 0, 0.15);\n",
              "      filter: drop-shadow(0px 1px 2px rgba(0, 0, 0, 0.3));\n",
              "      fill: #FFFFFF;\n",
              "    }\n",
              "  </style>\n",
              "\n",
              "    <script>\n",
              "      const buttonEl =\n",
              "        document.querySelector('#df-7e264b65-60bc-4150-bc32-410826868806 button.colab-df-convert');\n",
              "      buttonEl.style.display =\n",
              "        google.colab.kernel.accessAllowed ? 'block' : 'none';\n",
              "\n",
              "      async function convertToInteractive(key) {\n",
              "        const element = document.querySelector('#df-7e264b65-60bc-4150-bc32-410826868806');\n",
              "        const dataTable =\n",
              "          await google.colab.kernel.invokeFunction('convertToInteractive',\n",
              "                                                    [key], {});\n",
              "        if (!dataTable) return;\n",
              "\n",
              "        const docLinkHtml = 'Like what you see? Visit the ' +\n",
              "          '<a target=\"_blank\" href=https://colab.research.google.com/notebooks/data_table.ipynb>data table notebook</a>'\n",
              "          + ' to learn more about interactive tables.';\n",
              "        element.innerHTML = '';\n",
              "        dataTable['output_type'] = 'display_data';\n",
              "        await google.colab.output.renderOutput(dataTable, element);\n",
              "        const docLink = document.createElement('div');\n",
              "        docLink.innerHTML = docLinkHtml;\n",
              "        element.appendChild(docLink);\n",
              "      }\n",
              "    </script>\n",
              "  </div>\n",
              "\n",
              "\n",
              "<div id=\"df-6d4ba7e2-13b4-402a-bf0f-9088a6e6e893\">\n",
              "  <button class=\"colab-df-quickchart\" onclick=\"quickchart('df-6d4ba7e2-13b4-402a-bf0f-9088a6e6e893')\"\n",
              "            title=\"Suggest charts\"\n",
              "            style=\"display:none;\">\n",
              "\n",
              "<svg xmlns=\"http://www.w3.org/2000/svg\" height=\"24px\"viewBox=\"0 0 24 24\"\n",
              "     width=\"24px\">\n",
              "    <g>\n",
              "        <path d=\"M19 3H5c-1.1 0-2 .9-2 2v14c0 1.1.9 2 2 2h14c1.1 0 2-.9 2-2V5c0-1.1-.9-2-2-2zM9 17H7v-7h2v7zm4 0h-2V7h2v10zm4 0h-2v-4h2v4z\"/>\n",
              "    </g>\n",
              "</svg>\n",
              "  </button>\n",
              "\n",
              "<style>\n",
              "  .colab-df-quickchart {\n",
              "      --bg-color: #E8F0FE;\n",
              "      --fill-color: #1967D2;\n",
              "      --hover-bg-color: #E2EBFA;\n",
              "      --hover-fill-color: #174EA6;\n",
              "      --disabled-fill-color: #AAA;\n",
              "      --disabled-bg-color: #DDD;\n",
              "  }\n",
              "\n",
              "  [theme=dark] .colab-df-quickchart {\n",
              "      --bg-color: #3B4455;\n",
              "      --fill-color: #D2E3FC;\n",
              "      --hover-bg-color: #434B5C;\n",
              "      --hover-fill-color: #FFFFFF;\n",
              "      --disabled-bg-color: #3B4455;\n",
              "      --disabled-fill-color: #666;\n",
              "  }\n",
              "\n",
              "  .colab-df-quickchart {\n",
              "    background-color: var(--bg-color);\n",
              "    border: none;\n",
              "    border-radius: 50%;\n",
              "    cursor: pointer;\n",
              "    display: none;\n",
              "    fill: var(--fill-color);\n",
              "    height: 32px;\n",
              "    padding: 0;\n",
              "    width: 32px;\n",
              "  }\n",
              "\n",
              "  .colab-df-quickchart:hover {\n",
              "    background-color: var(--hover-bg-color);\n",
              "    box-shadow: 0 1px 2px rgba(60, 64, 67, 0.3), 0 1px 3px 1px rgba(60, 64, 67, 0.15);\n",
              "    fill: var(--button-hover-fill-color);\n",
              "  }\n",
              "\n",
              "  .colab-df-quickchart-complete:disabled,\n",
              "  .colab-df-quickchart-complete:disabled:hover {\n",
              "    background-color: var(--disabled-bg-color);\n",
              "    fill: var(--disabled-fill-color);\n",
              "    box-shadow: none;\n",
              "  }\n",
              "\n",
              "  .colab-df-spinner {\n",
              "    border: 2px solid var(--fill-color);\n",
              "    border-color: transparent;\n",
              "    border-bottom-color: var(--fill-color);\n",
              "    animation:\n",
              "      spin 1s steps(1) infinite;\n",
              "  }\n",
              "\n",
              "  @keyframes spin {\n",
              "    0% {\n",
              "      border-color: transparent;\n",
              "      border-bottom-color: var(--fill-color);\n",
              "      border-left-color: var(--fill-color);\n",
              "    }\n",
              "    20% {\n",
              "      border-color: transparent;\n",
              "      border-left-color: var(--fill-color);\n",
              "      border-top-color: var(--fill-color);\n",
              "    }\n",
              "    30% {\n",
              "      border-color: transparent;\n",
              "      border-left-color: var(--fill-color);\n",
              "      border-top-color: var(--fill-color);\n",
              "      border-right-color: var(--fill-color);\n",
              "    }\n",
              "    40% {\n",
              "      border-color: transparent;\n",
              "      border-right-color: var(--fill-color);\n",
              "      border-top-color: var(--fill-color);\n",
              "    }\n",
              "    60% {\n",
              "      border-color: transparent;\n",
              "      border-right-color: var(--fill-color);\n",
              "    }\n",
              "    80% {\n",
              "      border-color: transparent;\n",
              "      border-right-color: var(--fill-color);\n",
              "      border-bottom-color: var(--fill-color);\n",
              "    }\n",
              "    90% {\n",
              "      border-color: transparent;\n",
              "      border-bottom-color: var(--fill-color);\n",
              "    }\n",
              "  }\n",
              "</style>\n",
              "\n",
              "  <script>\n",
              "    async function quickchart(key) {\n",
              "      const quickchartButtonEl =\n",
              "        document.querySelector('#' + key + ' button');\n",
              "      quickchartButtonEl.disabled = true;  // To prevent multiple clicks.\n",
              "      quickchartButtonEl.classList.add('colab-df-spinner');\n",
              "      try {\n",
              "        const charts = await google.colab.kernel.invokeFunction(\n",
              "            'suggestCharts', [key], {});\n",
              "      } catch (error) {\n",
              "        console.error('Error during call to suggestCharts:', error);\n",
              "      }\n",
              "      quickchartButtonEl.classList.remove('colab-df-spinner');\n",
              "      quickchartButtonEl.classList.add('colab-df-quickchart-complete');\n",
              "    }\n",
              "    (() => {\n",
              "      let quickchartButtonEl =\n",
              "        document.querySelector('#df-6d4ba7e2-13b4-402a-bf0f-9088a6e6e893 button');\n",
              "      quickchartButtonEl.style.display =\n",
              "        google.colab.kernel.accessAllowed ? 'block' : 'none';\n",
              "    })();\n",
              "  </script>\n",
              "</div>\n",
              "    </div>\n",
              "  </div>\n"
            ],
            "application/vnd.google.colaboratory.intrinsic+json": {
              "type": "dataframe",
              "variable_name": "df",
              "summary": "{\n  \"name\": \"df\",\n  \"rows\": 10478,\n  \"fields\": [\n    {\n      \"column\": \"Client\",\n      \"properties\": {\n        \"dtype\": \"category\",\n        \"num_unique_values\": 10,\n        \"samples\": [\n          \"\\u041c\\u0435\\u0442\\u0430\",\n          \"\\u0413\\u0430\\u043c\\u043c\\u0430\",\n          \"\\u0417\\u0435\\u0442\\u0430\"\n        ],\n        \"semantic_type\": \"\",\n        \"description\": \"\"\n      }\n    },\n    {\n      \"column\": \"Month\",\n      \"properties\": {\n        \"dtype\": \"date\",\n        \"min\": \"2021-04-01 00:00:00\",\n        \"max\": \"2022-09-01 00:00:00\",\n        \"num_unique_values\": 18,\n        \"samples\": [\n          \"2021-04-01 00:00:00\",\n          \"2021-05-01 00:00:00\",\n          \"2021-12-01 00:00:00\"\n        ],\n        \"semantic_type\": \"\",\n        \"description\": \"\"\n      }\n    },\n    {\n      \"column\": \"Category\",\n      \"properties\": {\n        \"dtype\": \"category\",\n        \"num_unique_values\": 7,\n        \"samples\": [\n          \"\\u0420\\u0410\\u0421\\u0427\\u0415\\u0422\\u041d\\u041e-\\u041a\\u0410\\u0421\\u0421\\u041e\\u0412\\u041e\\u0415 \\u041e\\u0411\\u0421\\u041b\\u0423\\u0416\\u0418\\u0412\\u0410\\u041d\\u0418\\u0415\",\n          \"\\u041f\\u041e\\u0422\\u0420\\u0415\\u0411\\u0418\\u0422\\u0415\\u041b\\u042c\\u0421\\u041a\\u041e\\u0415 \\u041a\\u0420\\u0415\\u0414\\u0418\\u0422\\u041e\\u0412\\u0410\\u041d\\u0418\\u0415\",\n          \"\\u0414\\u0415\\u0411\\u0415\\u0422\\u041e\\u0412\\u042b\\u0415 \\u041a\\u0410\\u0420\\u0422\\u042b\"\n        ],\n        \"semantic_type\": \"\",\n        \"description\": \"\"\n      }\n    },\n    {\n      \"column\": \"Device\",\n      \"properties\": {\n        \"dtype\": \"category\",\n        \"num_unique_values\": 2,\n        \"samples\": [\n          \"Mobile\",\n          \"Desktop\"\n        ],\n        \"semantic_type\": \"\",\n        \"description\": \"\"\n      }\n    },\n    {\n      \"column\": \"Place\",\n      \"properties\": {\n        \"dtype\": \"category\",\n        \"num_unique_values\": 2,\n        \"samples\": [\n          \"Search\",\n          \"Networks\"\n        ],\n        \"semantic_type\": \"\",\n        \"description\": \"\"\n      }\n    },\n    {\n      \"column\": \"BannerType\",\n      \"properties\": {\n        \"dtype\": \"category\",\n        \"num_unique_values\": 7,\n        \"samples\": [\n          \"cpc_video\",\n          \"image_ad\"\n        ],\n        \"semantic_type\": \"\",\n        \"description\": \"\"\n      }\n    },\n    {\n      \"column\": \"QueryType (search only)\",\n      \"properties\": {\n        \"dtype\": \"category\",\n        \"num_unique_values\": 4,\n        \"samples\": [\n          \"Brand\",\n          \"Competitor\"\n        ],\n        \"semantic_type\": \"\",\n        \"description\": \"\"\n      }\n    },\n    {\n      \"column\": \"TargetingType\",\n      \"properties\": {\n        \"dtype\": \"category\",\n        \"num_unique_values\": 3,\n        \"samples\": [\n          \"Phrase\",\n          \"Retargeting\"\n        ],\n        \"semantic_type\": \"\",\n        \"description\": \"\"\n      }\n    },\n    {\n      \"column\": \"Shows\",\n      \"properties\": {\n        \"dtype\": \"number\",\n        \"std\": 15449238,\n        \"min\": 0,\n        \"max\": 583150600,\n        \"num_unique_values\": 6942,\n        \"samples\": [\n          27286,\n          23032\n        ],\n        \"semantic_type\": \"\",\n        \"description\": \"\"\n      }\n    },\n    {\n      \"column\": \"Clicks\",\n      \"properties\": {\n        \"dtype\": \"number\",\n        \"std\": 44548,\n        \"min\": 0,\n        \"max\": 2237376,\n        \"num_unique_values\": 4636,\n        \"samples\": [\n          1497,\n          5825\n        ],\n        \"semantic_type\": \"\",\n        \"description\": \"\"\n      }\n    },\n    {\n      \"column\": \"Cost\",\n      \"properties\": {\n        \"dtype\": \"number\",\n        \"std\": 1211802.1932194515,\n        \"min\": 0.0,\n        \"max\": 39766179.1180932,\n        \"num_unique_values\": 7306,\n        \"samples\": [\n          73.2730932203389,\n          671824.153754237\n        ],\n        \"semantic_type\": \"\",\n        \"description\": \"\"\n      }\n    },\n    {\n      \"column\": \"Conversions\",\n      \"properties\": {\n        \"dtype\": \"number\",\n        \"std\": 2086,\n        \"min\": 0,\n        \"max\": 47259,\n        \"num_unique_values\": 1680,\n        \"samples\": [\n          523,\n          3300\n        ],\n        \"semantic_type\": \"\",\n        \"description\": \"\"\n      }\n    },\n    {\n      \"column\": \"cpa\",\n      \"properties\": {\n        \"dtype\": \"number\",\n        \"std\": 41369.44107105812,\n        \"min\": 0.0,\n        \"max\": 2227386.43210169,\n        \"num_unique_values\": 5610,\n        \"samples\": [\n          563.7182200994986,\n          94.16898535057781\n        ],\n        \"semantic_type\": \"\",\n        \"description\": \"\"\n      }\n    }\n  ]\n}"
            }
          },
          "metadata": {},
          "execution_count": 27
        }
      ]
    },
    {
      "cell_type": "markdown",
      "source": [
        "Посмотрим как на cpa влияют числовыехарактеристики."
      ],
      "metadata": {
        "id": "dyZpDbhXjM9T"
      }
    },
    {
      "cell_type": "code",
      "source": [
        "sns.lineplot(data=df, x='Month', y='Shows', ax=ax)"
      ],
      "metadata": {
        "colab": {
          "base_uri": "https://localhost:8080/"
        },
        "id": "jDFqYPBqX51K",
        "outputId": "bb793797-a47e-4f44-c9f8-06341d20f6d8"
      },
      "execution_count": 39,
      "outputs": [
        {
          "output_type": "execute_result",
          "data": {
            "text/plain": [
              "<Axes: xlabel='Month', ylabel='cpa'>"
            ]
          },
          "metadata": {},
          "execution_count": 39
        }
      ]
    },
    {
      "cell_type": "code",
      "source": [
        "sns.lineplot(data=df, x='Month', y='Clicks', ax=ax)"
      ],
      "metadata": {
        "colab": {
          "base_uri": "https://localhost:8080/"
        },
        "outputId": "ada86460-25a8-474d-9678-333077c70601",
        "id": "yS_fiWa1j-3D"
      },
      "execution_count": 40,
      "outputs": [
        {
          "output_type": "execute_result",
          "data": {
            "text/plain": [
              "<Axes: xlabel='Month', ylabel='cpa'>"
            ]
          },
          "metadata": {},
          "execution_count": 40
        }
      ]
    },
    {
      "cell_type": "markdown",
      "source": [
        "Поведение признаков Client, BannerType, TargetingType демонстрирует прямое их влияние на показатель CPA"
      ],
      "metadata": {
        "id": "dxQevCJvYycF"
      }
    },
    {
      "cell_type": "markdown",
      "source": [
        "Посмотрим на кореляцию этих признаков"
      ],
      "metadata": {
        "id": "sWo-xTBDhKjG"
      }
    },
    {
      "cell_type": "code",
      "source": [
        "display(df[['Shows', 'Clicks', 'cpa']].corr().style.background_gradient(cmap='summer'))"
      ],
      "metadata": {
        "colab": {
          "base_uri": "https://localhost:8080/",
          "height": 143
        },
        "id": "eAGDgM7OkbVr",
        "outputId": "c54092ee-8793-4068-ff9e-b7bb6e5d5910"
      },
      "execution_count": 42,
      "outputs": [
        {
          "output_type": "display_data",
          "data": {
            "text/plain": [
              "<pandas.io.formats.style.Styler at 0x7a422e9f7250>"
            ],
            "text/html": [
              "<style type=\"text/css\">\n",
              "#T_f38fa_row0_col0, #T_f38fa_row1_col1, #T_f38fa_row2_col2 {\n",
              "  background-color: #ffff66;\n",
              "  color: #000000;\n",
              "}\n",
              "#T_f38fa_row0_col1 {\n",
              "  background-color: #89c466;\n",
              "  color: #000000;\n",
              "}\n",
              "#T_f38fa_row0_col2, #T_f38fa_row2_col0, #T_f38fa_row2_col1 {\n",
              "  background-color: #008066;\n",
              "  color: #f1f1f1;\n",
              "}\n",
              "#T_f38fa_row1_col0 {\n",
              "  background-color: #8dc666;\n",
              "  color: #000000;\n",
              "}\n",
              "#T_f38fa_row1_col2 {\n",
              "  background-color: #0a8466;\n",
              "  color: #f1f1f1;\n",
              "}\n",
              "</style>\n",
              "<table id=\"T_f38fa\" class=\"dataframe\">\n",
              "  <thead>\n",
              "    <tr>\n",
              "      <th class=\"blank level0\" >&nbsp;</th>\n",
              "      <th id=\"T_f38fa_level0_col0\" class=\"col_heading level0 col0\" >Shows</th>\n",
              "      <th id=\"T_f38fa_level0_col1\" class=\"col_heading level0 col1\" >Clicks</th>\n",
              "      <th id=\"T_f38fa_level0_col2\" class=\"col_heading level0 col2\" >cpa</th>\n",
              "    </tr>\n",
              "  </thead>\n",
              "  <tbody>\n",
              "    <tr>\n",
              "      <th id=\"T_f38fa_level0_row0\" class=\"row_heading level0 row0\" >Shows</th>\n",
              "      <td id=\"T_f38fa_row0_col0\" class=\"data row0 col0\" >1.000000</td>\n",
              "      <td id=\"T_f38fa_row0_col1\" class=\"data row0 col1\" >0.563395</td>\n",
              "      <td id=\"T_f38fa_row0_col2\" class=\"data row0 col2\" >0.020240</td>\n",
              "    </tr>\n",
              "    <tr>\n",
              "      <th id=\"T_f38fa_level0_row1\" class=\"row_heading level0 row1\" >Clicks</th>\n",
              "      <td id=\"T_f38fa_row1_col0\" class=\"data row1 col0\" >0.563395</td>\n",
              "      <td id=\"T_f38fa_row1_col1\" class=\"data row1 col1\" >1.000000</td>\n",
              "      <td id=\"T_f38fa_row1_col2\" class=\"data row1 col2\" >0.059223</td>\n",
              "    </tr>\n",
              "    <tr>\n",
              "      <th id=\"T_f38fa_level0_row2\" class=\"row_heading level0 row2\" >cpa</th>\n",
              "      <td id=\"T_f38fa_row2_col0\" class=\"data row2 col0\" >0.020240</td>\n",
              "      <td id=\"T_f38fa_row2_col1\" class=\"data row2 col1\" >0.059223</td>\n",
              "      <td id=\"T_f38fa_row2_col2\" class=\"data row2 col2\" >1.000000</td>\n",
              "    </tr>\n",
              "  </tbody>\n",
              "</table>\n"
            ]
          },
          "metadata": {}
        }
      ]
    },
    {
      "cell_type": "markdown",
      "metadata": {
        "id": "CI_cHwWGzxhK"
      },
      "source": [
        "## Описание задания\n",
        "\n",
        "Рекламодатель Сигма жалуется на постоянный рост CPA по своим рекламным кампаниям в последние 4 месяца (с июня по сент 2022).\n"
      ]
    },
    {
      "cell_type": "markdown",
      "metadata": {
        "id": "YxA7rO2WzxhT"
      },
      "source": [
        "### Задача\n",
        "\n",
        "Проанализировать его размещение с целью:  \n",
        "1) Выяснить причину растущего CPA  \n",
        "2) Дать рекомендации по снижению и стабилизации CPA до целевого значения (380 руб)  "
      ]
    },
    {
      "cell_type": "markdown",
      "metadata": {
        "id": "Sn3GdOZz6j-_"
      },
      "source": [
        "## Вывод"
      ]
    },
    {
      "cell_type": "markdown",
      "metadata": {
        "id": "pDrIXZwN6j-_"
      },
      "source": [
        "Для прогнозирования статуса репетитора добросовестный он или нет разработаны модели, которые по имеющейся информации о репетиторе и проведенных им занятий классифицирует репетиторов.  \n",
        "Оценка качества модели проведена по метрике F1.\n",
        "\n",
        "Применен стек технологий:\n",
        "\n",
        "•\tPython    \n",
        "•\tPandas  \n",
        "•\tNumpy  \n",
        "•\tMatplotlib, seaborn  \n",
        "•\tScikit-learn  \n",
        "•\tDecisionTreeClassifier  \n",
        "•\tGradientBoostingClassifier  \n",
        "•\tXGBClassifier  \n",
        "•\tRandomForestClassifier  \n",
        "\n",
        "Обучены 5 моделей:  \n",
        "-\tXGBClassifier - перобучение\n",
        "-\tGradientBoostingClassifier - перобучение\n",
        "-\tDecisionTreeClassifier - возможно перобучение, как вариант,можно использовать в качестве составляющней ансамблиевого метода.\n",
        "- LogisticRegression - перспективная модель, низкий показатель качества f1 = 0.573\n",
        "-\tRandomForestClassifier - самая перспективная модель f1 = 0.803, возможные пути улучшение критерия качества:\n",
        "    1. генерация новых признаков, основанных не на абсолютных значениях, а на отношении и долях - более стойкая модель на перспективу.\n",
        "    2. оптимизация гиперпараметров\n",
        "    3. удаление признаков на основании анализа Feature importance"
      ]
    }
  ],
  "metadata": {
    "ExecuteTimeLog": [
      {
        "duration": 9724,
        "start_time": "2022-05-22T15:13:50.449Z"
      },
      {
        "duration": 1523,
        "start_time": "2022-05-22T15:28:28.179Z"
      },
      {
        "duration": 56,
        "start_time": "2022-05-22T15:28:59.097Z"
      },
      {
        "duration": 25,
        "start_time": "2022-05-22T15:28:59.370Z"
      },
      {
        "duration": 53,
        "start_time": "2022-05-22T15:28:59.641Z"
      },
      {
        "duration": 20,
        "start_time": "2022-05-22T15:28:59.888Z"
      },
      {
        "duration": 42,
        "start_time": "2022-05-22T15:29:00.184Z"
      },
      {
        "duration": 18,
        "start_time": "2022-05-22T15:29:00.465Z"
      },
      {
        "duration": 66,
        "start_time": "2022-05-22T15:29:03.524Z"
      },
      {
        "duration": 7,
        "start_time": "2022-05-22T15:29:04.132Z"
      },
      {
        "duration": 48,
        "start_time": "2022-05-22T15:29:11.540Z"
      },
      {
        "duration": 17,
        "start_time": "2022-05-22T15:29:14.789Z"
      },
      {
        "duration": 4,
        "start_time": "2022-05-22T15:29:23.506Z"
      },
      {
        "duration": 3,
        "start_time": "2022-05-22T15:29:29.505Z"
      },
      {
        "duration": 4,
        "start_time": "2022-05-22T15:29:29.772Z"
      },
      {
        "duration": 18,
        "start_time": "2022-05-22T15:29:37.819Z"
      },
      {
        "duration": 12,
        "start_time": "2022-05-22T15:29:59.193Z"
      },
      {
        "duration": 10,
        "start_time": "2022-05-22T15:29:59.694Z"
      },
      {
        "duration": 9,
        "start_time": "2022-05-22T15:30:02.168Z"
      },
      {
        "duration": 11,
        "start_time": "2022-05-22T15:30:31.760Z"
      },
      {
        "duration": 30,
        "start_time": "2022-05-22T15:30:32.222Z"
      },
      {
        "duration": 10,
        "start_time": "2022-05-22T15:30:32.618Z"
      },
      {
        "duration": 6,
        "start_time": "2022-05-22T15:30:33.400Z"
      },
      {
        "duration": 16,
        "start_time": "2022-05-22T15:30:41.320Z"
      },
      {
        "duration": 8,
        "start_time": "2022-05-22T15:30:50.277Z"
      },
      {
        "duration": 419,
        "start_time": "2022-05-22T15:30:53.074Z"
      },
      {
        "duration": 8,
        "start_time": "2022-05-22T15:31:02.269Z"
      },
      {
        "duration": 278,
        "start_time": "2022-05-22T15:31:04.497Z"
      },
      {
        "duration": 12,
        "start_time": "2022-05-22T15:32:06.292Z"
      },
      {
        "duration": 9,
        "start_time": "2022-05-22T15:32:09.765Z"
      },
      {
        "duration": 18,
        "start_time": "2022-05-22T15:32:12.823Z"
      },
      {
        "duration": 3,
        "start_time": "2022-05-22T15:32:17.330Z"
      },
      {
        "duration": 39,
        "start_time": "2022-05-22T15:32:19.565Z"
      },
      {
        "duration": 3,
        "start_time": "2022-05-22T15:32:33.698Z"
      },
      {
        "duration": 6,
        "start_time": "2022-05-22T15:32:36.265Z"
      },
      {
        "duration": 7,
        "start_time": "2022-05-22T15:32:41.767Z"
      },
      {
        "duration": 5,
        "start_time": "2022-05-22T15:32:44.968Z"
      },
      {
        "duration": 9,
        "start_time": "2022-05-22T15:32:53.168Z"
      },
      {
        "duration": 5,
        "start_time": "2022-05-22T15:33:28.630Z"
      },
      {
        "duration": 6,
        "start_time": "2022-05-22T15:33:29.086Z"
      },
      {
        "duration": 6,
        "start_time": "2022-05-22T15:33:30.627Z"
      },
      {
        "duration": 4,
        "start_time": "2022-05-22T15:33:31.684Z"
      },
      {
        "duration": 14,
        "start_time": "2022-05-22T15:33:33.660Z"
      },
      {
        "duration": 10,
        "start_time": "2022-05-22T15:33:38.670Z"
      },
      {
        "duration": 280,
        "start_time": "2022-05-22T15:33:40.746Z"
      },
      {
        "duration": 7,
        "start_time": "2022-05-22T15:33:46.569Z"
      },
      {
        "duration": 10,
        "start_time": "2022-05-22T15:33:48.578Z"
      },
      {
        "duration": 260,
        "start_time": "2022-05-22T15:33:51.569Z"
      },
      {
        "duration": 400,
        "start_time": "2022-05-22T15:33:57.928Z"
      },
      {
        "duration": 14,
        "start_time": "2022-05-22T15:34:04.265Z"
      },
      {
        "duration": 6,
        "start_time": "2022-05-22T15:34:37.869Z"
      },
      {
        "duration": 32,
        "start_time": "2022-05-22T15:34:41.204Z"
      },
      {
        "duration": 3,
        "start_time": "2022-05-22T15:34:46.769Z"
      },
      {
        "duration": 3,
        "start_time": "2022-05-22T15:34:47.325Z"
      },
      {
        "duration": 8,
        "start_time": "2022-05-22T15:34:47.828Z"
      },
      {
        "duration": 9,
        "start_time": "2022-05-22T15:34:48.528Z"
      },
      {
        "duration": 22,
        "start_time": "2022-05-22T15:34:57.680Z"
      },
      {
        "duration": 18,
        "start_time": "2022-05-22T15:34:59.602Z"
      },
      {
        "duration": 6,
        "start_time": "2022-05-22T15:35:08.698Z"
      },
      {
        "duration": 5,
        "start_time": "2022-05-22T15:35:12.969Z"
      },
      {
        "duration": 7,
        "start_time": "2022-05-22T15:35:20.714Z"
      },
      {
        "duration": 3,
        "start_time": "2022-05-22T15:35:22.768Z"
      },
      {
        "duration": 4,
        "start_time": "2022-05-22T15:35:26.035Z"
      },
      {
        "duration": 3,
        "start_time": "2022-05-22T15:35:30.107Z"
      },
      {
        "duration": 6812,
        "start_time": "2022-05-22T15:35:52.867Z"
      },
      {
        "duration": 1913,
        "start_time": "2022-05-22T15:35:59.813Z"
      },
      {
        "duration": 119,
        "start_time": "2022-05-22T15:36:08.392Z"
      },
      {
        "duration": 139,
        "start_time": "2022-05-22T15:36:13.788Z"
      },
      {
        "duration": 10,
        "start_time": "2022-05-22T15:36:21.237Z"
      },
      {
        "duration": 10,
        "start_time": "2022-05-22T15:36:21.739Z"
      },
      {
        "duration": 7,
        "start_time": "2022-05-22T15:36:24.704Z"
      },
      {
        "duration": 27649,
        "start_time": "2022-05-22T15:36:30.671Z"
      },
      {
        "duration": 6,
        "start_time": "2022-05-22T15:36:58.322Z"
      },
      {
        "duration": 57,
        "start_time": "2022-05-22T15:36:58.330Z"
      },
      {
        "duration": 886,
        "start_time": "2022-05-22T15:36:58.389Z"
      },
      {
        "duration": 20,
        "start_time": "2022-05-22T15:36:59.350Z"
      },
      {
        "duration": 6,
        "start_time": "2022-05-22T15:36:59.442Z"
      },
      {
        "duration": 10,
        "start_time": "2022-05-22T15:37:04.122Z"
      },
      {
        "duration": 1409,
        "start_time": "2022-05-22T19:02:49.348Z"
      },
      {
        "duration": 94,
        "start_time": "2022-05-22T19:02:53.879Z"
      },
      {
        "duration": 16,
        "start_time": "2022-05-22T19:02:54.092Z"
      },
      {
        "duration": 36,
        "start_time": "2022-05-22T19:02:54.268Z"
      },
      {
        "duration": 10,
        "start_time": "2022-05-22T19:02:54.400Z"
      },
      {
        "duration": 38,
        "start_time": "2022-05-22T19:02:54.591Z"
      },
      {
        "duration": 12,
        "start_time": "2022-05-22T19:02:54.962Z"
      },
      {
        "duration": 43,
        "start_time": "2022-05-22T19:02:55.547Z"
      },
      {
        "duration": 8,
        "start_time": "2022-05-22T19:02:56.550Z"
      },
      {
        "duration": 29,
        "start_time": "2022-05-22T19:02:57.413Z"
      },
      {
        "duration": 19,
        "start_time": "2022-05-22T19:02:57.682Z"
      },
      {
        "duration": 3,
        "start_time": "2022-05-22T19:03:42.863Z"
      },
      {
        "duration": 3,
        "start_time": "2022-05-22T19:03:44.906Z"
      },
      {
        "duration": 3,
        "start_time": "2022-05-22T19:03:45.844Z"
      },
      {
        "duration": 21,
        "start_time": "2022-05-22T19:03:47.599Z"
      },
      {
        "duration": 13,
        "start_time": "2022-05-22T19:04:06.285Z"
      },
      {
        "duration": 10,
        "start_time": "2022-05-22T19:04:07.156Z"
      },
      {
        "duration": 10,
        "start_time": "2022-05-22T19:04:07.850Z"
      },
      {
        "duration": 7,
        "start_time": "2022-05-22T19:04:09.616Z"
      },
      {
        "duration": 22,
        "start_time": "2022-05-22T19:04:09.799Z"
      },
      {
        "duration": 9,
        "start_time": "2022-05-22T19:04:09.992Z"
      },
      {
        "duration": 6,
        "start_time": "2022-05-22T19:04:10.648Z"
      },
      {
        "duration": 16,
        "start_time": "2022-05-22T19:04:13.212Z"
      },
      {
        "duration": 8,
        "start_time": "2022-05-22T19:05:22.610Z"
      },
      {
        "duration": 926,
        "start_time": "2022-05-22T19:05:23.454Z"
      },
      {
        "duration": 9,
        "start_time": "2022-05-22T19:06:41.407Z"
      },
      {
        "duration": 239,
        "start_time": "2022-05-22T19:06:42.147Z"
      },
      {
        "duration": 12,
        "start_time": "2022-05-22T19:07:03.091Z"
      },
      {
        "duration": 10,
        "start_time": "2022-05-22T19:07:04.694Z"
      },
      {
        "duration": 12,
        "start_time": "2022-05-22T19:07:05.145Z"
      },
      {
        "duration": 3,
        "start_time": "2022-05-22T19:07:06.031Z"
      },
      {
        "duration": 35,
        "start_time": "2022-05-22T19:07:06.580Z"
      },
      {
        "duration": 4,
        "start_time": "2022-05-22T19:07:47.659Z"
      },
      {
        "duration": 6,
        "start_time": "2022-05-22T19:07:48.247Z"
      },
      {
        "duration": 7,
        "start_time": "2022-05-22T19:07:54.978Z"
      },
      {
        "duration": 6,
        "start_time": "2022-05-22T19:07:56.075Z"
      },
      {
        "duration": 6,
        "start_time": "2022-05-22T19:08:19.108Z"
      },
      {
        "duration": 4,
        "start_time": "2022-05-22T19:08:20.682Z"
      },
      {
        "duration": 7,
        "start_time": "2022-05-22T19:08:21.274Z"
      },
      {
        "duration": 5,
        "start_time": "2022-05-22T19:08:22.294Z"
      },
      {
        "duration": 4,
        "start_time": "2022-05-22T19:08:22.905Z"
      },
      {
        "duration": 6,
        "start_time": "2022-05-22T19:08:23.118Z"
      },
      {
        "duration": 9,
        "start_time": "2022-05-22T19:08:24.349Z"
      },
      {
        "duration": 218,
        "start_time": "2022-05-22T19:08:24.601Z"
      },
      {
        "duration": 5,
        "start_time": "2022-05-22T19:08:25.253Z"
      },
      {
        "duration": 8,
        "start_time": "2022-05-22T19:08:25.457Z"
      },
      {
        "duration": 210,
        "start_time": "2022-05-22T19:08:25.687Z"
      },
      {
        "duration": 398,
        "start_time": "2022-05-22T19:08:27.391Z"
      },
      {
        "duration": 12,
        "start_time": "2022-05-22T19:08:27.791Z"
      },
      {
        "duration": 5,
        "start_time": "2022-05-22T19:08:38.405Z"
      },
      {
        "duration": 3,
        "start_time": "2022-05-22T19:10:13.693Z"
      },
      {
        "duration": 4,
        "start_time": "2022-05-22T19:10:14.417Z"
      },
      {
        "duration": 9,
        "start_time": "2022-05-22T19:10:15.005Z"
      },
      {
        "duration": 10,
        "start_time": "2022-05-22T19:10:15.768Z"
      },
      {
        "duration": 20,
        "start_time": "2022-05-22T19:10:25.847Z"
      },
      {
        "duration": 15,
        "start_time": "2022-05-22T19:10:26.376Z"
      },
      {
        "duration": 6,
        "start_time": "2022-05-22T19:11:48.609Z"
      },
      {
        "duration": 4,
        "start_time": "2022-05-22T19:11:49.714Z"
      },
      {
        "duration": 4,
        "start_time": "2022-05-22T19:11:51.358Z"
      },
      {
        "duration": 3,
        "start_time": "2022-05-22T19:11:51.967Z"
      },
      {
        "duration": 4,
        "start_time": "2022-05-22T19:11:52.471Z"
      },
      {
        "duration": 3,
        "start_time": "2022-05-22T19:11:53.578Z"
      },
      {
        "duration": 6351,
        "start_time": "2022-05-22T19:12:34.725Z"
      },
      {
        "duration": 1151,
        "start_time": "2022-05-22T19:12:41.096Z"
      },
      {
        "duration": 116,
        "start_time": "2022-05-22T19:12:45.357Z"
      },
      {
        "duration": 5,
        "start_time": "2022-05-22T19:12:46.021Z"
      },
      {
        "duration": 6,
        "start_time": "2022-05-22T19:12:46.752Z"
      },
      {
        "duration": 6,
        "start_time": "2022-05-22T19:12:47.356Z"
      },
      {
        "duration": 24471,
        "start_time": "2022-05-22T19:12:49.415Z"
      },
      {
        "duration": 4,
        "start_time": "2022-05-22T19:13:13.888Z"
      },
      {
        "duration": 7,
        "start_time": "2022-05-22T19:13:13.894Z"
      },
      {
        "duration": 830,
        "start_time": "2022-05-22T19:13:13.903Z"
      },
      {
        "duration": 96,
        "start_time": "2022-05-22T19:13:14.735Z"
      },
      {
        "duration": 95,
        "start_time": "2022-05-22T19:13:14.833Z"
      },
      {
        "duration": 23,
        "start_time": "2022-05-22T19:13:14.930Z"
      },
      {
        "duration": 1586,
        "start_time": "2022-05-23T12:14:58.801Z"
      },
      {
        "duration": 94,
        "start_time": "2022-05-23T12:15:00.389Z"
      },
      {
        "duration": 16,
        "start_time": "2022-05-23T12:15:00.485Z"
      },
      {
        "duration": 38,
        "start_time": "2022-05-23T12:15:00.503Z"
      },
      {
        "duration": 9,
        "start_time": "2022-05-23T12:15:00.543Z"
      },
      {
        "duration": 61,
        "start_time": "2022-05-23T12:15:00.554Z"
      },
      {
        "duration": 12,
        "start_time": "2022-05-23T12:15:00.618Z"
      },
      {
        "duration": 60,
        "start_time": "2022-05-23T12:15:00.632Z"
      },
      {
        "duration": 6,
        "start_time": "2022-05-23T12:15:00.694Z"
      },
      {
        "duration": 48,
        "start_time": "2022-05-23T12:15:00.703Z"
      },
      {
        "duration": 31,
        "start_time": "2022-05-23T12:15:00.752Z"
      },
      {
        "duration": 25,
        "start_time": "2022-05-23T12:15:00.785Z"
      },
      {
        "duration": 24,
        "start_time": "2022-05-23T12:15:00.812Z"
      },
      {
        "duration": 14,
        "start_time": "2022-05-23T12:15:00.838Z"
      },
      {
        "duration": 33,
        "start_time": "2022-05-23T12:15:00.853Z"
      },
      {
        "duration": 20,
        "start_time": "2022-05-23T12:15:00.888Z"
      },
      {
        "duration": 10,
        "start_time": "2022-05-23T12:15:04.501Z"
      },
      {
        "duration": 30,
        "start_time": "2022-05-23T12:15:53.883Z"
      },
      {
        "duration": 10,
        "start_time": "2022-05-23T12:16:51.279Z"
      },
      {
        "duration": 6,
        "start_time": "2022-05-23T12:39:24.645Z"
      },
      {
        "duration": 51,
        "start_time": "2022-05-23T12:39:24.653Z"
      },
      {
        "duration": 11,
        "start_time": "2022-05-23T12:39:24.706Z"
      },
      {
        "duration": 16,
        "start_time": "2022-05-23T12:39:24.720Z"
      },
      {
        "duration": 9,
        "start_time": "2022-05-23T12:39:24.739Z"
      },
      {
        "duration": 27,
        "start_time": "2022-05-23T12:39:24.751Z"
      },
      {
        "duration": 11,
        "start_time": "2022-05-23T12:39:24.782Z"
      },
      {
        "duration": 17,
        "start_time": "2022-05-23T12:39:24.795Z"
      },
      {
        "duration": 8,
        "start_time": "2022-05-23T12:39:24.814Z"
      },
      {
        "duration": 51,
        "start_time": "2022-05-23T12:39:24.823Z"
      },
      {
        "duration": 30,
        "start_time": "2022-05-23T12:39:24.878Z"
      },
      {
        "duration": 6,
        "start_time": "2022-05-23T12:39:24.910Z"
      },
      {
        "duration": 9,
        "start_time": "2022-05-23T12:39:24.918Z"
      },
      {
        "duration": 7,
        "start_time": "2022-05-23T12:39:24.930Z"
      },
      {
        "duration": 61,
        "start_time": "2022-05-23T12:39:24.938Z"
      },
      {
        "duration": 18,
        "start_time": "2022-05-23T12:39:25.001Z"
      },
      {
        "duration": 38,
        "start_time": "2022-05-23T12:39:25.022Z"
      },
      {
        "duration": 16,
        "start_time": "2022-05-23T12:39:25.061Z"
      },
      {
        "duration": 18,
        "start_time": "2022-05-23T12:39:25.079Z"
      },
      {
        "duration": 29,
        "start_time": "2022-05-23T12:39:25.099Z"
      },
      {
        "duration": 12,
        "start_time": "2022-05-23T12:39:25.130Z"
      },
      {
        "duration": 34,
        "start_time": "2022-05-23T12:39:25.144Z"
      },
      {
        "duration": 32,
        "start_time": "2022-05-23T12:39:25.180Z"
      },
      {
        "duration": 12,
        "start_time": "2022-05-23T12:39:25.214Z"
      },
      {
        "duration": 720,
        "start_time": "2022-05-23T12:39:25.229Z"
      },
      {
        "duration": 7,
        "start_time": "2022-05-23T12:40:00.377Z"
      },
      {
        "duration": 56,
        "start_time": "2022-05-23T12:40:00.386Z"
      },
      {
        "duration": 13,
        "start_time": "2022-05-23T12:40:00.444Z"
      },
      {
        "duration": 41,
        "start_time": "2022-05-23T12:40:00.460Z"
      },
      {
        "duration": 11,
        "start_time": "2022-05-23T12:40:00.503Z"
      },
      {
        "duration": 32,
        "start_time": "2022-05-23T12:40:00.516Z"
      },
      {
        "duration": 29,
        "start_time": "2022-05-23T12:40:00.550Z"
      },
      {
        "duration": 42,
        "start_time": "2022-05-23T12:40:00.582Z"
      },
      {
        "duration": 21,
        "start_time": "2022-05-23T12:40:00.627Z"
      },
      {
        "duration": 64,
        "start_time": "2022-05-23T12:40:00.650Z"
      },
      {
        "duration": 24,
        "start_time": "2022-05-23T12:40:00.716Z"
      },
      {
        "duration": 17,
        "start_time": "2022-05-23T12:40:00.742Z"
      },
      {
        "duration": 40,
        "start_time": "2022-05-23T12:40:00.760Z"
      },
      {
        "duration": 33,
        "start_time": "2022-05-23T12:40:00.802Z"
      },
      {
        "duration": 46,
        "start_time": "2022-05-23T12:40:00.837Z"
      },
      {
        "duration": 30,
        "start_time": "2022-05-23T12:40:00.885Z"
      },
      {
        "duration": 74,
        "start_time": "2022-05-23T12:40:00.917Z"
      },
      {
        "duration": 40,
        "start_time": "2022-05-23T12:40:00.993Z"
      },
      {
        "duration": 55,
        "start_time": "2022-05-23T12:40:01.035Z"
      },
      {
        "duration": 41,
        "start_time": "2022-05-23T12:40:01.092Z"
      },
      {
        "duration": 11,
        "start_time": "2022-05-23T12:40:01.135Z"
      },
      {
        "duration": 44,
        "start_time": "2022-05-23T12:40:01.148Z"
      },
      {
        "duration": 38,
        "start_time": "2022-05-23T12:40:01.194Z"
      },
      {
        "duration": 18,
        "start_time": "2022-05-23T12:40:01.238Z"
      },
      {
        "duration": 358,
        "start_time": "2022-05-23T12:40:01.259Z"
      },
      {
        "duration": 11,
        "start_time": "2022-05-23T12:40:01.619Z"
      },
      {
        "duration": 352,
        "start_time": "2022-05-23T12:40:01.632Z"
      },
      {
        "duration": 15,
        "start_time": "2022-05-23T12:40:01.986Z"
      },
      {
        "duration": 12,
        "start_time": "2022-05-23T12:40:02.004Z"
      },
      {
        "duration": 23,
        "start_time": "2022-05-23T12:40:02.018Z"
      },
      {
        "duration": 43,
        "start_time": "2022-05-23T12:40:02.043Z"
      },
      {
        "duration": 59,
        "start_time": "2022-05-23T12:40:02.088Z"
      },
      {
        "duration": 5,
        "start_time": "2022-05-23T12:40:02.149Z"
      },
      {
        "duration": 10,
        "start_time": "2022-05-23T12:40:02.155Z"
      },
      {
        "duration": 31,
        "start_time": "2022-05-23T12:40:02.166Z"
      },
      {
        "duration": 10,
        "start_time": "2022-05-23T12:40:02.199Z"
      },
      {
        "duration": 24,
        "start_time": "2022-05-23T12:40:02.212Z"
      },
      {
        "duration": 22,
        "start_time": "2022-05-23T12:40:02.238Z"
      },
      {
        "duration": 28,
        "start_time": "2022-05-23T12:40:02.262Z"
      },
      {
        "duration": 20,
        "start_time": "2022-05-23T12:40:02.292Z"
      },
      {
        "duration": 10,
        "start_time": "2022-05-23T12:40:02.314Z"
      },
      {
        "duration": 19,
        "start_time": "2022-05-23T12:40:02.326Z"
      },
      {
        "duration": 20,
        "start_time": "2022-05-23T12:40:02.347Z"
      },
      {
        "duration": 327,
        "start_time": "2022-05-23T12:40:02.369Z"
      },
      {
        "duration": 5,
        "start_time": "2022-05-23T12:40:02.698Z"
      },
      {
        "duration": 14,
        "start_time": "2022-05-23T12:40:02.705Z"
      },
      {
        "duration": 298,
        "start_time": "2022-05-23T12:40:02.721Z"
      },
      {
        "duration": 595,
        "start_time": "2022-05-23T12:40:03.021Z"
      },
      {
        "duration": 12,
        "start_time": "2022-05-23T12:40:03.618Z"
      },
      {
        "duration": 6,
        "start_time": "2022-05-23T12:40:03.632Z"
      },
      {
        "duration": 16,
        "start_time": "2022-05-23T12:40:03.639Z"
      },
      {
        "duration": 22,
        "start_time": "2022-05-23T12:40:03.664Z"
      },
      {
        "duration": 26,
        "start_time": "2022-05-23T12:40:03.688Z"
      },
      {
        "duration": 16,
        "start_time": "2022-05-23T12:40:03.716Z"
      },
      {
        "duration": 28,
        "start_time": "2022-05-23T12:40:03.734Z"
      },
      {
        "duration": 26,
        "start_time": "2022-05-23T12:40:03.764Z"
      },
      {
        "duration": 26,
        "start_time": "2022-05-23T12:40:03.792Z"
      },
      {
        "duration": 5,
        "start_time": "2022-05-23T12:40:03.820Z"
      },
      {
        "duration": 10,
        "start_time": "2022-05-23T12:40:03.827Z"
      },
      {
        "duration": 10,
        "start_time": "2022-05-23T12:40:03.839Z"
      },
      {
        "duration": 12,
        "start_time": "2022-05-23T12:40:03.851Z"
      },
      {
        "duration": 20,
        "start_time": "2022-05-23T12:40:03.866Z"
      },
      {
        "duration": 7371,
        "start_time": "2022-05-23T12:40:03.888Z"
      },
      {
        "duration": 1350,
        "start_time": "2022-05-23T12:40:11.261Z"
      },
      {
        "duration": 138,
        "start_time": "2022-05-23T12:40:12.612Z"
      },
      {
        "duration": 12,
        "start_time": "2022-05-23T12:40:12.752Z"
      },
      {
        "duration": 12,
        "start_time": "2022-05-23T12:40:12.771Z"
      },
      {
        "duration": 12,
        "start_time": "2022-05-23T12:40:12.784Z"
      },
      {
        "duration": 29743,
        "start_time": "2022-05-23T12:40:12.801Z"
      },
      {
        "duration": 8,
        "start_time": "2022-05-23T12:40:42.546Z"
      },
      {
        "duration": 10,
        "start_time": "2022-05-23T12:40:42.574Z"
      },
      {
        "duration": 301,
        "start_time": "2022-05-23T12:40:42.587Z"
      },
      {
        "duration": 22,
        "start_time": "2022-05-23T12:40:42.967Z"
      },
      {
        "duration": 19,
        "start_time": "2022-05-23T12:40:43.069Z"
      },
      {
        "duration": 12,
        "start_time": "2022-05-23T12:40:43.090Z"
      },
      {
        "duration": 12,
        "start_time": "2022-05-23T12:44:20.562Z"
      },
      {
        "duration": 3,
        "start_time": "2022-05-23T12:44:21.263Z"
      },
      {
        "duration": 10,
        "start_time": "2022-05-23T12:44:21.787Z"
      },
      {
        "duration": 10,
        "start_time": "2022-05-23T12:44:22.343Z"
      },
      {
        "duration": 1454,
        "start_time": "2022-05-23T12:46:34.126Z"
      },
      {
        "duration": 45,
        "start_time": "2022-05-23T12:46:35.583Z"
      },
      {
        "duration": 17,
        "start_time": "2022-05-23T12:46:35.630Z"
      },
      {
        "duration": 20,
        "start_time": "2022-05-23T12:46:35.650Z"
      },
      {
        "duration": 27,
        "start_time": "2022-05-23T12:46:35.673Z"
      },
      {
        "duration": 30,
        "start_time": "2022-05-23T12:46:35.702Z"
      },
      {
        "duration": 17,
        "start_time": "2022-05-23T12:46:35.734Z"
      },
      {
        "duration": 29,
        "start_time": "2022-05-23T12:46:35.753Z"
      },
      {
        "duration": 13,
        "start_time": "2022-05-23T12:46:35.790Z"
      },
      {
        "duration": 37,
        "start_time": "2022-05-23T12:46:35.806Z"
      },
      {
        "duration": 22,
        "start_time": "2022-05-23T12:46:35.846Z"
      },
      {
        "duration": 28,
        "start_time": "2022-05-23T12:46:35.870Z"
      },
      {
        "duration": 9,
        "start_time": "2022-05-23T12:46:35.900Z"
      },
      {
        "duration": 9,
        "start_time": "2022-05-23T12:46:35.911Z"
      },
      {
        "duration": 27,
        "start_time": "2022-05-23T12:46:35.921Z"
      },
      {
        "duration": 13,
        "start_time": "2022-05-23T12:46:35.950Z"
      },
      {
        "duration": 56,
        "start_time": "2022-05-23T12:46:35.966Z"
      },
      {
        "duration": 11,
        "start_time": "2022-05-23T12:46:36.024Z"
      },
      {
        "duration": 19,
        "start_time": "2022-05-23T12:46:36.037Z"
      },
      {
        "duration": 35,
        "start_time": "2022-05-23T12:46:36.058Z"
      },
      {
        "duration": 16,
        "start_time": "2022-05-23T12:46:36.095Z"
      },
      {
        "duration": 10,
        "start_time": "2022-05-23T12:46:36.113Z"
      },
      {
        "duration": 46,
        "start_time": "2022-05-23T12:46:36.124Z"
      },
      {
        "duration": 12,
        "start_time": "2022-05-23T12:46:36.174Z"
      },
      {
        "duration": 333,
        "start_time": "2022-05-23T12:46:36.188Z"
      },
      {
        "duration": 9,
        "start_time": "2022-05-23T12:46:36.523Z"
      },
      {
        "duration": 357,
        "start_time": "2022-05-23T12:46:36.534Z"
      },
      {
        "duration": 15,
        "start_time": "2022-05-23T12:46:36.895Z"
      },
      {
        "duration": 14,
        "start_time": "2022-05-23T12:46:36.912Z"
      },
      {
        "duration": 52,
        "start_time": "2022-05-23T12:46:36.928Z"
      },
      {
        "duration": 9,
        "start_time": "2022-05-23T12:46:36.982Z"
      },
      {
        "duration": 47,
        "start_time": "2022-05-23T12:46:36.993Z"
      },
      {
        "duration": 3,
        "start_time": "2022-05-23T12:46:37.042Z"
      },
      {
        "duration": 12,
        "start_time": "2022-05-23T12:46:37.070Z"
      },
      {
        "duration": 22,
        "start_time": "2022-05-23T12:46:37.084Z"
      },
      {
        "duration": 8,
        "start_time": "2022-05-23T12:46:37.108Z"
      },
      {
        "duration": 7,
        "start_time": "2022-05-23T12:46:37.118Z"
      },
      {
        "duration": 10,
        "start_time": "2022-05-23T12:46:37.127Z"
      },
      {
        "duration": 10,
        "start_time": "2022-05-23T12:46:37.139Z"
      },
      {
        "duration": 18,
        "start_time": "2022-05-23T12:46:37.151Z"
      },
      {
        "duration": 8,
        "start_time": "2022-05-23T12:46:37.172Z"
      },
      {
        "duration": 8,
        "start_time": "2022-05-23T12:46:37.183Z"
      },
      {
        "duration": 9,
        "start_time": "2022-05-23T12:46:37.193Z"
      },
      {
        "duration": 343,
        "start_time": "2022-05-23T12:46:37.204Z"
      },
      {
        "duration": 5,
        "start_time": "2022-05-23T12:46:37.549Z"
      },
      {
        "duration": 19,
        "start_time": "2022-05-23T12:46:37.555Z"
      },
      {
        "duration": 317,
        "start_time": "2022-05-23T12:46:37.576Z"
      },
      {
        "duration": 401,
        "start_time": "2022-05-23T12:46:37.894Z"
      },
      {
        "duration": 14,
        "start_time": "2022-05-23T12:46:38.297Z"
      },
      {
        "duration": 6,
        "start_time": "2022-05-23T12:46:38.312Z"
      },
      {
        "duration": 169,
        "start_time": "2022-05-23T12:46:38.320Z"
      },
      {
        "duration": 0,
        "start_time": "2022-05-23T12:46:38.491Z"
      },
      {
        "duration": 0,
        "start_time": "2022-05-23T12:46:38.492Z"
      },
      {
        "duration": 0,
        "start_time": "2022-05-23T12:46:38.493Z"
      },
      {
        "duration": 0,
        "start_time": "2022-05-23T12:46:38.495Z"
      },
      {
        "duration": 5,
        "start_time": "2022-05-23T12:49:17.145Z"
      },
      {
        "duration": 50,
        "start_time": "2022-05-23T12:49:17.156Z"
      },
      {
        "duration": 12,
        "start_time": "2022-05-23T12:49:17.208Z"
      },
      {
        "duration": 21,
        "start_time": "2022-05-23T12:49:17.222Z"
      },
      {
        "duration": 9,
        "start_time": "2022-05-23T12:49:17.245Z"
      },
      {
        "duration": 26,
        "start_time": "2022-05-23T12:49:17.257Z"
      },
      {
        "duration": 12,
        "start_time": "2022-05-23T12:49:17.286Z"
      },
      {
        "duration": 18,
        "start_time": "2022-05-23T12:49:17.300Z"
      },
      {
        "duration": 8,
        "start_time": "2022-05-23T12:49:17.319Z"
      },
      {
        "duration": 56,
        "start_time": "2022-05-23T12:49:17.329Z"
      },
      {
        "duration": 20,
        "start_time": "2022-05-23T12:49:17.388Z"
      },
      {
        "duration": 16,
        "start_time": "2022-05-23T12:49:17.410Z"
      },
      {
        "duration": 9,
        "start_time": "2022-05-23T12:49:17.428Z"
      },
      {
        "duration": 11,
        "start_time": "2022-05-23T12:49:17.439Z"
      },
      {
        "duration": 30,
        "start_time": "2022-05-23T12:49:17.468Z"
      },
      {
        "duration": 23,
        "start_time": "2022-05-23T12:49:17.500Z"
      },
      {
        "duration": 64,
        "start_time": "2022-05-23T12:49:17.525Z"
      },
      {
        "duration": 11,
        "start_time": "2022-05-23T12:49:17.590Z"
      },
      {
        "duration": 9,
        "start_time": "2022-05-23T12:49:17.603Z"
      },
      {
        "duration": 27,
        "start_time": "2022-05-23T12:49:17.614Z"
      },
      {
        "duration": 23,
        "start_time": "2022-05-23T12:49:17.643Z"
      },
      {
        "duration": 11,
        "start_time": "2022-05-23T12:49:17.669Z"
      },
      {
        "duration": 22,
        "start_time": "2022-05-23T12:49:17.683Z"
      },
      {
        "duration": 9,
        "start_time": "2022-05-23T12:49:17.706Z"
      },
      {
        "duration": 431,
        "start_time": "2022-05-23T12:49:17.717Z"
      },
      {
        "duration": 16,
        "start_time": "2022-05-23T12:49:18.150Z"
      },
      {
        "duration": 302,
        "start_time": "2022-05-23T12:49:18.168Z"
      },
      {
        "duration": 16,
        "start_time": "2022-05-23T12:49:18.473Z"
      },
      {
        "duration": 11,
        "start_time": "2022-05-23T12:49:18.491Z"
      },
      {
        "duration": 15,
        "start_time": "2022-05-23T12:49:18.504Z"
      },
      {
        "duration": 3,
        "start_time": "2022-05-23T12:49:18.521Z"
      },
      {
        "duration": 102,
        "start_time": "2022-05-23T12:49:18.525Z"
      },
      {
        "duration": 4,
        "start_time": "2022-05-23T12:49:18.629Z"
      },
      {
        "duration": 14,
        "start_time": "2022-05-23T12:49:18.635Z"
      },
      {
        "duration": 15,
        "start_time": "2022-05-23T12:49:18.651Z"
      },
      {
        "duration": 8,
        "start_time": "2022-05-23T12:49:18.668Z"
      },
      {
        "duration": 20,
        "start_time": "2022-05-23T12:49:18.678Z"
      },
      {
        "duration": 5,
        "start_time": "2022-05-23T12:49:18.700Z"
      },
      {
        "duration": 8,
        "start_time": "2022-05-23T12:49:18.707Z"
      },
      {
        "duration": 6,
        "start_time": "2022-05-23T12:49:18.716Z"
      },
      {
        "duration": 7,
        "start_time": "2022-05-23T12:49:18.724Z"
      },
      {
        "duration": 31,
        "start_time": "2022-05-23T12:49:18.734Z"
      },
      {
        "duration": 26,
        "start_time": "2022-05-23T12:49:18.768Z"
      },
      {
        "duration": 334,
        "start_time": "2022-05-23T12:49:18.796Z"
      },
      {
        "duration": 6,
        "start_time": "2022-05-23T12:49:19.133Z"
      },
      {
        "duration": 33,
        "start_time": "2022-05-23T12:49:19.141Z"
      },
      {
        "duration": 346,
        "start_time": "2022-05-23T12:49:19.176Z"
      },
      {
        "duration": 478,
        "start_time": "2022-05-23T12:49:19.523Z"
      },
      {
        "duration": 13,
        "start_time": "2022-05-23T12:49:20.003Z"
      },
      {
        "duration": 5,
        "start_time": "2022-05-23T12:49:20.018Z"
      },
      {
        "duration": 51,
        "start_time": "2022-05-23T12:49:20.025Z"
      },
      {
        "duration": 20,
        "start_time": "2022-05-23T12:49:20.079Z"
      },
      {
        "duration": 9,
        "start_time": "2022-05-23T12:49:20.101Z"
      },
      {
        "duration": 9,
        "start_time": "2022-05-23T12:49:20.112Z"
      },
      {
        "duration": 3,
        "start_time": "2022-05-23T12:50:21.080Z"
      },
      {
        "duration": 3,
        "start_time": "2022-05-23T12:50:21.520Z"
      },
      {
        "duration": 12,
        "start_time": "2022-05-23T12:50:21.982Z"
      },
      {
        "duration": 11,
        "start_time": "2022-05-23T12:50:22.375Z"
      },
      {
        "duration": 38,
        "start_time": "2022-05-23T12:50:22.829Z"
      },
      {
        "duration": 24,
        "start_time": "2022-05-23T12:50:23.288Z"
      },
      {
        "duration": 3,
        "start_time": "2022-05-23T12:53:33.298Z"
      },
      {
        "duration": 3,
        "start_time": "2022-05-23T12:53:33.683Z"
      },
      {
        "duration": 11,
        "start_time": "2022-05-23T12:53:34.057Z"
      },
      {
        "duration": 3,
        "start_time": "2022-05-23T12:54:27.844Z"
      },
      {
        "duration": 4,
        "start_time": "2022-05-23T12:54:28.257Z"
      },
      {
        "duration": 12,
        "start_time": "2022-05-23T12:54:28.679Z"
      },
      {
        "duration": 8,
        "start_time": "2022-05-23T12:54:29.506Z"
      },
      {
        "duration": 5,
        "start_time": "2022-05-23T12:54:42.105Z"
      },
      {
        "duration": 10,
        "start_time": "2022-05-23T12:54:59.819Z"
      },
      {
        "duration": 1543,
        "start_time": "2022-05-23T14:53:08.060Z"
      },
      {
        "duration": 155,
        "start_time": "2022-05-23T14:53:09.606Z"
      },
      {
        "duration": 21,
        "start_time": "2022-05-23T14:53:09.763Z"
      },
      {
        "duration": 109,
        "start_time": "2022-05-23T14:53:09.786Z"
      },
      {
        "duration": 10,
        "start_time": "2022-05-23T14:53:09.898Z"
      },
      {
        "duration": 116,
        "start_time": "2022-05-23T14:53:09.910Z"
      },
      {
        "duration": 11,
        "start_time": "2022-05-23T14:53:10.029Z"
      },
      {
        "duration": 75,
        "start_time": "2022-05-23T14:53:10.042Z"
      },
      {
        "duration": 7,
        "start_time": "2022-05-23T14:53:10.119Z"
      },
      {
        "duration": 39,
        "start_time": "2022-05-23T14:53:10.129Z"
      },
      {
        "duration": 18,
        "start_time": "2022-05-23T14:53:10.169Z"
      },
      {
        "duration": 20,
        "start_time": "2022-05-23T14:53:10.189Z"
      },
      {
        "duration": 8,
        "start_time": "2022-05-23T14:53:10.211Z"
      },
      {
        "duration": 30,
        "start_time": "2022-05-23T14:53:10.221Z"
      },
      {
        "duration": 21,
        "start_time": "2022-05-23T14:53:10.253Z"
      },
      {
        "duration": 15,
        "start_time": "2022-05-23T14:53:10.276Z"
      },
      {
        "duration": 41,
        "start_time": "2022-05-23T14:53:10.293Z"
      },
      {
        "duration": 12,
        "start_time": "2022-05-23T14:53:10.336Z"
      },
      {
        "duration": 24,
        "start_time": "2022-05-23T14:53:10.350Z"
      },
      {
        "duration": 36,
        "start_time": "2022-05-23T14:53:10.376Z"
      },
      {
        "duration": 11,
        "start_time": "2022-05-23T14:53:10.414Z"
      },
      {
        "duration": 22,
        "start_time": "2022-05-23T14:53:10.427Z"
      },
      {
        "duration": 32,
        "start_time": "2022-05-23T14:53:10.451Z"
      },
      {
        "duration": 23,
        "start_time": "2022-05-23T14:53:10.485Z"
      },
      {
        "duration": 273,
        "start_time": "2022-05-23T14:53:10.510Z"
      },
      {
        "duration": 10,
        "start_time": "2022-05-23T14:53:10.785Z"
      },
      {
        "duration": 398,
        "start_time": "2022-05-23T14:53:10.797Z"
      },
      {
        "duration": 14,
        "start_time": "2022-05-23T14:53:11.199Z"
      },
      {
        "duration": 32,
        "start_time": "2022-05-23T14:53:11.214Z"
      },
      {
        "duration": 40,
        "start_time": "2022-05-23T14:53:11.248Z"
      },
      {
        "duration": 31,
        "start_time": "2022-05-23T14:53:11.290Z"
      },
      {
        "duration": 66,
        "start_time": "2022-05-23T14:53:11.323Z"
      },
      {
        "duration": 31,
        "start_time": "2022-05-23T14:53:18.428Z"
      },
      {
        "duration": 5,
        "start_time": "2022-05-23T14:53:24.679Z"
      },
      {
        "duration": 6,
        "start_time": "2022-05-23T14:53:25.467Z"
      },
      {
        "duration": 43,
        "start_time": "2022-05-23T14:53:29.421Z"
      },
      {
        "duration": 8,
        "start_time": "2022-05-23T14:54:02.945Z"
      },
      {
        "duration": 8,
        "start_time": "2022-05-23T14:54:04.986Z"
      },
      {
        "duration": 5,
        "start_time": "2022-05-23T14:58:52.024Z"
      },
      {
        "duration": 78,
        "start_time": "2022-05-23T14:58:52.031Z"
      },
      {
        "duration": 11,
        "start_time": "2022-05-23T14:58:52.111Z"
      },
      {
        "duration": 41,
        "start_time": "2022-05-23T14:58:52.123Z"
      },
      {
        "duration": 19,
        "start_time": "2022-05-23T14:58:52.166Z"
      },
      {
        "duration": 48,
        "start_time": "2022-05-23T14:58:52.186Z"
      },
      {
        "duration": 27,
        "start_time": "2022-05-23T14:58:52.236Z"
      },
      {
        "duration": 45,
        "start_time": "2022-05-23T14:58:52.265Z"
      },
      {
        "duration": 8,
        "start_time": "2022-05-23T14:58:52.312Z"
      },
      {
        "duration": 57,
        "start_time": "2022-05-23T14:58:52.321Z"
      },
      {
        "duration": 20,
        "start_time": "2022-05-23T14:58:52.381Z"
      },
      {
        "duration": 41,
        "start_time": "2022-05-23T14:58:52.403Z"
      },
      {
        "duration": 14,
        "start_time": "2022-05-23T14:58:52.446Z"
      },
      {
        "duration": 44,
        "start_time": "2022-05-23T14:58:52.461Z"
      },
      {
        "duration": 56,
        "start_time": "2022-05-23T14:58:52.507Z"
      },
      {
        "duration": 16,
        "start_time": "2022-05-23T14:58:52.565Z"
      },
      {
        "duration": 58,
        "start_time": "2022-05-23T14:58:52.583Z"
      },
      {
        "duration": 10,
        "start_time": "2022-05-23T14:58:52.643Z"
      },
      {
        "duration": 29,
        "start_time": "2022-05-23T14:58:52.654Z"
      },
      {
        "duration": 45,
        "start_time": "2022-05-23T14:58:52.685Z"
      },
      {
        "duration": 25,
        "start_time": "2022-05-23T14:58:52.732Z"
      },
      {
        "duration": 48,
        "start_time": "2022-05-23T14:58:52.759Z"
      },
      {
        "duration": 38,
        "start_time": "2022-05-23T14:58:52.809Z"
      },
      {
        "duration": 23,
        "start_time": "2022-05-23T14:58:52.849Z"
      },
      {
        "duration": 260,
        "start_time": "2022-05-23T14:58:52.873Z"
      },
      {
        "duration": 9,
        "start_time": "2022-05-23T14:58:53.134Z"
      },
      {
        "duration": 237,
        "start_time": "2022-05-23T14:58:53.144Z"
      },
      {
        "duration": 12,
        "start_time": "2022-05-23T14:58:53.382Z"
      },
      {
        "duration": 14,
        "start_time": "2022-05-23T14:58:53.398Z"
      },
      {
        "duration": 18,
        "start_time": "2022-05-23T14:58:53.414Z"
      },
      {
        "duration": 17,
        "start_time": "2022-05-23T14:58:53.434Z"
      },
      {
        "duration": 56,
        "start_time": "2022-05-23T14:58:53.453Z"
      },
      {
        "duration": 13,
        "start_time": "2022-05-23T14:58:53.510Z"
      },
      {
        "duration": 25,
        "start_time": "2022-05-23T14:58:53.525Z"
      },
      {
        "duration": 24,
        "start_time": "2022-05-23T14:58:53.551Z"
      },
      {
        "duration": 42,
        "start_time": "2022-05-23T14:58:53.577Z"
      },
      {
        "duration": 25,
        "start_time": "2022-05-23T14:58:53.621Z"
      },
      {
        "duration": 21,
        "start_time": "2022-05-23T14:58:53.648Z"
      },
      {
        "duration": 34,
        "start_time": "2022-05-23T14:58:53.670Z"
      },
      {
        "duration": 113,
        "start_time": "2022-05-23T14:58:53.706Z"
      },
      {
        "duration": 29,
        "start_time": "2022-05-23T14:58:53.821Z"
      },
      {
        "duration": 35,
        "start_time": "2022-05-23T14:58:53.851Z"
      },
      {
        "duration": 47,
        "start_time": "2022-05-23T14:58:53.888Z"
      },
      {
        "duration": 248,
        "start_time": "2022-05-23T14:58:53.937Z"
      },
      {
        "duration": 5,
        "start_time": "2022-05-23T14:58:54.187Z"
      },
      {
        "duration": 32,
        "start_time": "2022-05-23T14:58:54.194Z"
      },
      {
        "duration": 224,
        "start_time": "2022-05-23T14:58:54.228Z"
      },
      {
        "duration": 386,
        "start_time": "2022-05-23T14:58:54.453Z"
      },
      {
        "duration": 9,
        "start_time": "2022-05-23T14:58:54.841Z"
      },
      {
        "duration": 9,
        "start_time": "2022-05-23T14:58:54.859Z"
      },
      {
        "duration": 46,
        "start_time": "2022-05-23T14:58:54.870Z"
      },
      {
        "duration": 24,
        "start_time": "2022-05-23T14:58:54.918Z"
      },
      {
        "duration": 25,
        "start_time": "2022-05-23T14:58:54.944Z"
      },
      {
        "duration": 16,
        "start_time": "2022-05-23T14:58:54.970Z"
      },
      {
        "duration": 2,
        "start_time": "2022-05-23T14:58:59.349Z"
      },
      {
        "duration": 2,
        "start_time": "2022-05-23T14:59:00.087Z"
      },
      {
        "duration": 9,
        "start_time": "2022-05-23T14:59:00.615Z"
      },
      {
        "duration": 9,
        "start_time": "2022-05-23T14:59:12.253Z"
      },
      {
        "duration": 6,
        "start_time": "2022-05-23T14:59:13.058Z"
      },
      {
        "duration": 7,
        "start_time": "2022-05-23T14:59:13.589Z"
      },
      {
        "duration": 24,
        "start_time": "2022-05-23T14:59:27.270Z"
      },
      {
        "duration": 1295,
        "start_time": "2022-05-23T15:08:17.858Z"
      },
      {
        "duration": 49,
        "start_time": "2022-05-23T15:08:19.155Z"
      },
      {
        "duration": 14,
        "start_time": "2022-05-23T15:08:19.206Z"
      },
      {
        "duration": 38,
        "start_time": "2022-05-23T15:08:19.222Z"
      },
      {
        "duration": 13,
        "start_time": "2022-05-23T15:08:19.262Z"
      },
      {
        "duration": 35,
        "start_time": "2022-05-23T15:08:19.276Z"
      },
      {
        "duration": 10,
        "start_time": "2022-05-23T15:08:19.312Z"
      },
      {
        "duration": 21,
        "start_time": "2022-05-23T15:08:19.323Z"
      },
      {
        "duration": 6,
        "start_time": "2022-05-23T15:08:19.345Z"
      },
      {
        "duration": 33,
        "start_time": "2022-05-23T15:08:19.354Z"
      },
      {
        "duration": 21,
        "start_time": "2022-05-23T15:08:19.389Z"
      },
      {
        "duration": 17,
        "start_time": "2022-05-23T15:08:19.411Z"
      },
      {
        "duration": 14,
        "start_time": "2022-05-23T15:08:19.430Z"
      },
      {
        "duration": 10,
        "start_time": "2022-05-23T15:08:19.445Z"
      },
      {
        "duration": 29,
        "start_time": "2022-05-23T15:08:19.457Z"
      },
      {
        "duration": 26,
        "start_time": "2022-05-23T15:08:19.487Z"
      },
      {
        "duration": 51,
        "start_time": "2022-05-23T15:08:19.515Z"
      },
      {
        "duration": 12,
        "start_time": "2022-05-23T15:08:19.568Z"
      },
      {
        "duration": 6,
        "start_time": "2022-05-23T15:08:19.581Z"
      },
      {
        "duration": 24,
        "start_time": "2022-05-23T15:08:19.588Z"
      },
      {
        "duration": 21,
        "start_time": "2022-05-23T15:08:19.614Z"
      },
      {
        "duration": 31,
        "start_time": "2022-05-23T15:08:19.637Z"
      },
      {
        "duration": 19,
        "start_time": "2022-05-23T15:08:19.670Z"
      },
      {
        "duration": 9,
        "start_time": "2022-05-23T15:08:19.691Z"
      },
      {
        "duration": 278,
        "start_time": "2022-05-23T15:08:19.702Z"
      },
      {
        "duration": 9,
        "start_time": "2022-05-23T15:08:19.982Z"
      },
      {
        "duration": 275,
        "start_time": "2022-05-23T15:08:19.993Z"
      },
      {
        "duration": 11,
        "start_time": "2022-05-23T15:08:20.272Z"
      },
      {
        "duration": 11,
        "start_time": "2022-05-23T15:08:20.285Z"
      },
      {
        "duration": 14,
        "start_time": "2022-05-23T15:08:20.298Z"
      },
      {
        "duration": 4,
        "start_time": "2022-05-23T15:08:20.313Z"
      },
      {
        "duration": 72,
        "start_time": "2022-05-23T15:08:20.319Z"
      },
      {
        "duration": 3,
        "start_time": "2022-05-23T15:08:20.393Z"
      },
      {
        "duration": 14,
        "start_time": "2022-05-23T15:08:20.398Z"
      },
      {
        "duration": 23,
        "start_time": "2022-05-23T15:08:20.414Z"
      },
      {
        "duration": 14,
        "start_time": "2022-05-23T15:08:20.440Z"
      },
      {
        "duration": 20,
        "start_time": "2022-05-23T15:08:20.456Z"
      },
      {
        "duration": 10,
        "start_time": "2022-05-23T15:08:20.478Z"
      },
      {
        "duration": 32,
        "start_time": "2022-05-23T15:08:20.490Z"
      },
      {
        "duration": 20,
        "start_time": "2022-05-23T15:08:20.524Z"
      },
      {
        "duration": 13,
        "start_time": "2022-05-23T15:08:20.545Z"
      },
      {
        "duration": 15,
        "start_time": "2022-05-23T15:08:20.560Z"
      },
      {
        "duration": 36,
        "start_time": "2022-05-23T15:08:20.577Z"
      },
      {
        "duration": 238,
        "start_time": "2022-05-23T15:08:20.615Z"
      },
      {
        "duration": 9,
        "start_time": "2022-05-23T15:08:20.854Z"
      },
      {
        "duration": 21,
        "start_time": "2022-05-23T15:08:20.864Z"
      },
      {
        "duration": 244,
        "start_time": "2022-05-23T15:08:20.887Z"
      },
      {
        "duration": 402,
        "start_time": "2022-05-23T15:08:21.133Z"
      },
      {
        "duration": 11,
        "start_time": "2022-05-23T15:08:21.537Z"
      },
      {
        "duration": 10,
        "start_time": "2022-05-23T15:08:21.560Z"
      },
      {
        "duration": 38,
        "start_time": "2022-05-23T15:08:21.572Z"
      },
      {
        "duration": 18,
        "start_time": "2022-05-23T15:08:21.612Z"
      },
      {
        "duration": 22,
        "start_time": "2022-05-23T15:08:21.631Z"
      },
      {
        "duration": 50,
        "start_time": "2022-05-23T15:08:21.655Z"
      },
      {
        "duration": 4,
        "start_time": "2022-05-23T15:08:27.702Z"
      },
      {
        "duration": 3,
        "start_time": "2022-05-23T15:08:28.359Z"
      },
      {
        "duration": 13,
        "start_time": "2022-05-23T15:08:29.069Z"
      },
      {
        "duration": 27,
        "start_time": "2022-05-23T15:08:29.666Z"
      },
      {
        "duration": 1358,
        "start_time": "2022-05-23T15:09:05.259Z"
      },
      {
        "duration": 50,
        "start_time": "2022-05-23T15:09:06.619Z"
      },
      {
        "duration": 14,
        "start_time": "2022-05-23T15:09:06.670Z"
      },
      {
        "duration": 20,
        "start_time": "2022-05-23T15:09:06.686Z"
      },
      {
        "duration": 14,
        "start_time": "2022-05-23T15:09:06.708Z"
      },
      {
        "duration": 26,
        "start_time": "2022-05-23T15:09:06.723Z"
      },
      {
        "duration": 12,
        "start_time": "2022-05-23T15:09:06.750Z"
      },
      {
        "duration": 29,
        "start_time": "2022-05-23T15:09:06.765Z"
      },
      {
        "duration": 9,
        "start_time": "2022-05-23T15:09:06.796Z"
      },
      {
        "duration": 31,
        "start_time": "2022-05-23T15:09:06.806Z"
      },
      {
        "duration": 20,
        "start_time": "2022-05-23T15:09:06.839Z"
      },
      {
        "duration": 9,
        "start_time": "2022-05-23T15:09:06.861Z"
      },
      {
        "duration": 7,
        "start_time": "2022-05-23T15:09:06.872Z"
      },
      {
        "duration": 11,
        "start_time": "2022-05-23T15:09:06.882Z"
      },
      {
        "duration": 26,
        "start_time": "2022-05-23T15:09:06.896Z"
      },
      {
        "duration": 13,
        "start_time": "2022-05-23T15:09:06.924Z"
      },
      {
        "duration": 39,
        "start_time": "2022-05-23T15:09:06.939Z"
      },
      {
        "duration": 12,
        "start_time": "2022-05-23T15:09:06.981Z"
      },
      {
        "duration": 9,
        "start_time": "2022-05-23T15:09:06.995Z"
      },
      {
        "duration": 23,
        "start_time": "2022-05-23T15:09:07.006Z"
      },
      {
        "duration": 33,
        "start_time": "2022-05-23T15:09:07.031Z"
      },
      {
        "duration": 7,
        "start_time": "2022-05-23T15:09:07.067Z"
      },
      {
        "duration": 25,
        "start_time": "2022-05-23T15:09:07.075Z"
      },
      {
        "duration": 8,
        "start_time": "2022-05-23T15:09:07.101Z"
      },
      {
        "duration": 292,
        "start_time": "2022-05-23T15:09:07.110Z"
      },
      {
        "duration": 8,
        "start_time": "2022-05-23T15:09:07.403Z"
      },
      {
        "duration": 258,
        "start_time": "2022-05-23T15:09:07.413Z"
      },
      {
        "duration": 13,
        "start_time": "2022-05-23T15:09:07.673Z"
      },
      {
        "duration": 24,
        "start_time": "2022-05-23T15:09:07.688Z"
      },
      {
        "duration": 17,
        "start_time": "2022-05-23T15:09:07.714Z"
      },
      {
        "duration": 5,
        "start_time": "2022-05-23T15:09:07.732Z"
      },
      {
        "duration": 55,
        "start_time": "2022-05-23T15:09:07.738Z"
      },
      {
        "duration": 3,
        "start_time": "2022-05-23T15:09:07.795Z"
      },
      {
        "duration": 24,
        "start_time": "2022-05-23T15:09:07.800Z"
      },
      {
        "duration": 16,
        "start_time": "2022-05-23T15:09:07.827Z"
      },
      {
        "duration": 46,
        "start_time": "2022-05-23T15:09:07.845Z"
      },
      {
        "duration": 24,
        "start_time": "2022-05-23T15:09:07.893Z"
      },
      {
        "duration": 8,
        "start_time": "2022-05-23T15:09:07.919Z"
      },
      {
        "duration": 21,
        "start_time": "2022-05-23T15:09:07.929Z"
      },
      {
        "duration": 15,
        "start_time": "2022-05-23T15:09:07.952Z"
      },
      {
        "duration": 10,
        "start_time": "2022-05-23T15:09:07.972Z"
      },
      {
        "duration": 16,
        "start_time": "2022-05-23T15:09:07.984Z"
      },
      {
        "duration": 23,
        "start_time": "2022-05-23T15:09:08.002Z"
      },
      {
        "duration": 310,
        "start_time": "2022-05-23T15:09:08.027Z"
      },
      {
        "duration": 6,
        "start_time": "2022-05-23T15:09:08.339Z"
      },
      {
        "duration": 22,
        "start_time": "2022-05-23T15:09:08.347Z"
      },
      {
        "duration": 255,
        "start_time": "2022-05-23T15:09:08.370Z"
      },
      {
        "duration": 411,
        "start_time": "2022-05-23T15:09:08.627Z"
      },
      {
        "duration": 19,
        "start_time": "2022-05-23T15:09:09.041Z"
      },
      {
        "duration": 9,
        "start_time": "2022-05-23T15:09:09.062Z"
      },
      {
        "duration": 40,
        "start_time": "2022-05-23T15:09:09.073Z"
      },
      {
        "duration": 16,
        "start_time": "2022-05-23T15:09:09.115Z"
      },
      {
        "duration": 12,
        "start_time": "2022-05-23T15:09:09.133Z"
      },
      {
        "duration": 20,
        "start_time": "2022-05-23T15:09:09.146Z"
      },
      {
        "duration": 29,
        "start_time": "2022-05-23T15:09:12.358Z"
      },
      {
        "duration": 14,
        "start_time": "2022-05-23T15:09:20.611Z"
      },
      {
        "duration": 33,
        "start_time": "2022-05-23T15:09:29.927Z"
      },
      {
        "duration": 8,
        "start_time": "2022-05-23T15:10:15.019Z"
      },
      {
        "duration": 105,
        "start_time": "2022-05-23T15:10:15.029Z"
      },
      {
        "duration": 20,
        "start_time": "2022-05-23T15:10:15.136Z"
      },
      {
        "duration": 40,
        "start_time": "2022-05-23T15:10:15.158Z"
      },
      {
        "duration": 11,
        "start_time": "2022-05-23T15:10:15.202Z"
      },
      {
        "duration": 43,
        "start_time": "2022-05-23T15:10:15.215Z"
      },
      {
        "duration": 26,
        "start_time": "2022-05-23T15:10:15.261Z"
      },
      {
        "duration": 41,
        "start_time": "2022-05-23T15:10:15.289Z"
      },
      {
        "duration": 11,
        "start_time": "2022-05-23T15:10:15.332Z"
      },
      {
        "duration": 52,
        "start_time": "2022-05-23T15:10:15.346Z"
      },
      {
        "duration": 26,
        "start_time": "2022-05-23T15:10:15.400Z"
      },
      {
        "duration": 35,
        "start_time": "2022-05-23T15:10:15.428Z"
      },
      {
        "duration": 36,
        "start_time": "2022-05-23T15:10:15.464Z"
      },
      {
        "duration": 17,
        "start_time": "2022-05-23T15:10:15.504Z"
      },
      {
        "duration": 52,
        "start_time": "2022-05-23T15:10:15.523Z"
      },
      {
        "duration": 28,
        "start_time": "2022-05-23T15:10:15.577Z"
      },
      {
        "duration": 38,
        "start_time": "2022-05-23T15:10:15.608Z"
      },
      {
        "duration": 71,
        "start_time": "2022-05-23T15:10:15.648Z"
      },
      {
        "duration": 28,
        "start_time": "2022-05-23T15:10:15.721Z"
      },
      {
        "duration": 52,
        "start_time": "2022-05-23T15:10:15.751Z"
      },
      {
        "duration": 30,
        "start_time": "2022-05-23T15:10:15.805Z"
      },
      {
        "duration": 33,
        "start_time": "2022-05-23T15:10:15.837Z"
      },
      {
        "duration": 50,
        "start_time": "2022-05-23T15:10:15.873Z"
      },
      {
        "duration": 33,
        "start_time": "2022-05-23T15:10:15.925Z"
      },
      {
        "duration": 407,
        "start_time": "2022-05-23T15:10:15.962Z"
      },
      {
        "duration": 8,
        "start_time": "2022-05-23T15:10:16.371Z"
      },
      {
        "duration": 280,
        "start_time": "2022-05-23T15:10:16.381Z"
      },
      {
        "duration": 15,
        "start_time": "2022-05-23T15:10:16.663Z"
      },
      {
        "duration": 29,
        "start_time": "2022-05-23T15:10:16.680Z"
      },
      {
        "duration": 26,
        "start_time": "2022-05-23T15:10:16.711Z"
      },
      {
        "duration": 18,
        "start_time": "2022-05-23T15:10:16.741Z"
      },
      {
        "duration": 57,
        "start_time": "2022-05-23T15:10:16.761Z"
      },
      {
        "duration": 7,
        "start_time": "2022-05-23T15:10:16.820Z"
      },
      {
        "duration": 22,
        "start_time": "2022-05-23T15:10:16.829Z"
      },
      {
        "duration": 40,
        "start_time": "2022-05-23T15:10:16.853Z"
      },
      {
        "duration": 16,
        "start_time": "2022-05-23T15:10:16.894Z"
      },
      {
        "duration": 29,
        "start_time": "2022-05-23T15:10:16.911Z"
      },
      {
        "duration": 29,
        "start_time": "2022-05-23T15:10:16.941Z"
      },
      {
        "duration": 38,
        "start_time": "2022-05-23T15:10:16.972Z"
      },
      {
        "duration": 16,
        "start_time": "2022-05-23T15:10:17.013Z"
      },
      {
        "duration": 31,
        "start_time": "2022-05-23T15:10:17.032Z"
      },
      {
        "duration": 30,
        "start_time": "2022-05-23T15:10:17.065Z"
      },
      {
        "duration": 13,
        "start_time": "2022-05-23T15:10:17.097Z"
      },
      {
        "duration": 273,
        "start_time": "2022-05-23T15:10:17.113Z"
      },
      {
        "duration": 5,
        "start_time": "2022-05-23T15:10:17.388Z"
      },
      {
        "duration": 26,
        "start_time": "2022-05-23T15:10:17.394Z"
      },
      {
        "duration": 262,
        "start_time": "2022-05-23T15:10:17.422Z"
      },
      {
        "duration": 487,
        "start_time": "2022-05-23T15:10:17.686Z"
      },
      {
        "duration": 14,
        "start_time": "2022-05-23T15:10:18.176Z"
      },
      {
        "duration": 56,
        "start_time": "2022-05-23T15:10:18.192Z"
      },
      {
        "duration": 55,
        "start_time": "2022-05-23T15:10:18.250Z"
      },
      {
        "duration": 21,
        "start_time": "2022-05-23T15:10:18.307Z"
      },
      {
        "duration": 22,
        "start_time": "2022-05-23T15:10:18.330Z"
      },
      {
        "duration": 44,
        "start_time": "2022-05-23T15:10:18.354Z"
      },
      {
        "duration": 1347,
        "start_time": "2022-05-23T15:10:26.177Z"
      },
      {
        "duration": 52,
        "start_time": "2022-05-23T15:10:27.526Z"
      },
      {
        "duration": 17,
        "start_time": "2022-05-23T15:10:27.580Z"
      },
      {
        "duration": 37,
        "start_time": "2022-05-23T15:10:27.598Z"
      },
      {
        "duration": 11,
        "start_time": "2022-05-23T15:10:27.638Z"
      },
      {
        "duration": 44,
        "start_time": "2022-05-23T15:10:27.651Z"
      },
      {
        "duration": 11,
        "start_time": "2022-05-23T15:10:27.696Z"
      },
      {
        "duration": 34,
        "start_time": "2022-05-23T15:10:27.708Z"
      },
      {
        "duration": 7,
        "start_time": "2022-05-23T15:10:27.744Z"
      },
      {
        "duration": 50,
        "start_time": "2022-05-23T15:10:27.753Z"
      },
      {
        "duration": 19,
        "start_time": "2022-05-23T15:10:27.805Z"
      },
      {
        "duration": 40,
        "start_time": "2022-05-23T15:10:27.826Z"
      },
      {
        "duration": 57,
        "start_time": "2022-05-23T15:10:27.868Z"
      },
      {
        "duration": 27,
        "start_time": "2022-05-23T15:10:27.930Z"
      },
      {
        "duration": 56,
        "start_time": "2022-05-23T15:10:27.960Z"
      },
      {
        "duration": 40,
        "start_time": "2022-05-23T15:10:28.018Z"
      },
      {
        "duration": 68,
        "start_time": "2022-05-23T15:10:28.061Z"
      },
      {
        "duration": 23,
        "start_time": "2022-05-23T15:10:28.132Z"
      },
      {
        "duration": 38,
        "start_time": "2022-05-23T15:10:28.157Z"
      },
      {
        "duration": 66,
        "start_time": "2022-05-23T15:10:28.197Z"
      },
      {
        "duration": 102,
        "start_time": "2022-05-23T15:10:28.265Z"
      },
      {
        "duration": 31,
        "start_time": "2022-05-23T15:10:28.369Z"
      },
      {
        "duration": 56,
        "start_time": "2022-05-23T15:10:28.402Z"
      },
      {
        "duration": 26,
        "start_time": "2022-05-23T15:10:28.459Z"
      },
      {
        "duration": 326,
        "start_time": "2022-05-23T15:10:28.487Z"
      },
      {
        "duration": 8,
        "start_time": "2022-05-23T15:10:28.815Z"
      },
      {
        "duration": 274,
        "start_time": "2022-05-23T15:10:28.825Z"
      },
      {
        "duration": 11,
        "start_time": "2022-05-23T15:10:29.101Z"
      },
      {
        "duration": 19,
        "start_time": "2022-05-23T15:10:29.114Z"
      },
      {
        "duration": 42,
        "start_time": "2022-05-23T15:10:29.134Z"
      },
      {
        "duration": 31,
        "start_time": "2022-05-23T15:10:29.178Z"
      },
      {
        "duration": 68,
        "start_time": "2022-05-23T15:10:29.212Z"
      },
      {
        "duration": 3,
        "start_time": "2022-05-23T15:10:29.282Z"
      },
      {
        "duration": 59,
        "start_time": "2022-05-23T15:10:29.287Z"
      },
      {
        "duration": 25,
        "start_time": "2022-05-23T15:10:29.348Z"
      },
      {
        "duration": 49,
        "start_time": "2022-05-23T15:10:29.375Z"
      },
      {
        "duration": 30,
        "start_time": "2022-05-23T15:10:29.426Z"
      },
      {
        "duration": 34,
        "start_time": "2022-05-23T15:10:29.458Z"
      },
      {
        "duration": 30,
        "start_time": "2022-05-23T15:10:29.494Z"
      },
      {
        "duration": 22,
        "start_time": "2022-05-23T15:10:29.526Z"
      },
      {
        "duration": 19,
        "start_time": "2022-05-23T15:10:29.553Z"
      },
      {
        "duration": 28,
        "start_time": "2022-05-23T15:10:29.574Z"
      },
      {
        "duration": 56,
        "start_time": "2022-05-23T15:10:29.604Z"
      },
      {
        "duration": 351,
        "start_time": "2022-05-23T15:10:29.663Z"
      },
      {
        "duration": 5,
        "start_time": "2022-05-23T15:10:30.016Z"
      },
      {
        "duration": 38,
        "start_time": "2022-05-23T15:10:30.023Z"
      },
      {
        "duration": 261,
        "start_time": "2022-05-23T15:10:30.063Z"
      },
      {
        "duration": 427,
        "start_time": "2022-05-23T15:10:30.327Z"
      },
      {
        "duration": 16,
        "start_time": "2022-05-23T15:10:30.755Z"
      },
      {
        "duration": 27,
        "start_time": "2022-05-23T15:10:30.773Z"
      },
      {
        "duration": 49,
        "start_time": "2022-05-23T15:10:30.802Z"
      },
      {
        "duration": 33,
        "start_time": "2022-05-23T15:10:30.853Z"
      },
      {
        "duration": 32,
        "start_time": "2022-05-23T15:10:30.888Z"
      },
      {
        "duration": 28,
        "start_time": "2022-05-23T15:10:30.922Z"
      },
      {
        "duration": 3,
        "start_time": "2022-05-23T15:10:35.897Z"
      },
      {
        "duration": 2,
        "start_time": "2022-05-23T15:10:36.403Z"
      },
      {
        "duration": 10,
        "start_time": "2022-05-23T15:10:36.905Z"
      },
      {
        "duration": 19,
        "start_time": "2022-05-23T15:10:37.656Z"
      },
      {
        "duration": 7,
        "start_time": "2022-05-23T15:10:41.399Z"
      },
      {
        "duration": 19,
        "start_time": "2022-05-23T15:36:24.636Z"
      },
      {
        "duration": 1311,
        "start_time": "2022-05-23T15:37:28.443Z"
      },
      {
        "duration": 123,
        "start_time": "2022-05-23T15:37:29.756Z"
      },
      {
        "duration": 0,
        "start_time": "2022-05-23T15:37:29.883Z"
      },
      {
        "duration": 0,
        "start_time": "2022-05-23T15:37:29.884Z"
      },
      {
        "duration": 0,
        "start_time": "2022-05-23T15:37:29.886Z"
      },
      {
        "duration": 0,
        "start_time": "2022-05-23T15:37:29.887Z"
      },
      {
        "duration": 0,
        "start_time": "2022-05-23T15:37:29.889Z"
      },
      {
        "duration": 0,
        "start_time": "2022-05-23T15:37:29.890Z"
      },
      {
        "duration": 0,
        "start_time": "2022-05-23T15:37:29.891Z"
      },
      {
        "duration": 0,
        "start_time": "2022-05-23T15:37:29.893Z"
      },
      {
        "duration": 0,
        "start_time": "2022-05-23T15:37:29.894Z"
      },
      {
        "duration": 0,
        "start_time": "2022-05-23T15:37:29.896Z"
      },
      {
        "duration": 0,
        "start_time": "2022-05-23T15:37:29.897Z"
      },
      {
        "duration": 0,
        "start_time": "2022-05-23T15:37:29.898Z"
      },
      {
        "duration": 0,
        "start_time": "2022-05-23T15:37:29.899Z"
      },
      {
        "duration": 0,
        "start_time": "2022-05-23T15:37:29.900Z"
      },
      {
        "duration": 0,
        "start_time": "2022-05-23T15:37:29.901Z"
      },
      {
        "duration": 0,
        "start_time": "2022-05-23T15:37:29.902Z"
      },
      {
        "duration": 0,
        "start_time": "2022-05-23T15:37:29.903Z"
      },
      {
        "duration": 0,
        "start_time": "2022-05-23T15:37:29.904Z"
      },
      {
        "duration": 0,
        "start_time": "2022-05-23T15:37:29.905Z"
      },
      {
        "duration": 0,
        "start_time": "2022-05-23T15:37:29.906Z"
      },
      {
        "duration": 0,
        "start_time": "2022-05-23T15:37:29.906Z"
      },
      {
        "duration": 0,
        "start_time": "2022-05-23T15:37:29.909Z"
      },
      {
        "duration": 0,
        "start_time": "2022-05-23T15:37:29.910Z"
      },
      {
        "duration": 0,
        "start_time": "2022-05-23T15:37:29.911Z"
      },
      {
        "duration": 0,
        "start_time": "2022-05-23T15:37:29.960Z"
      },
      {
        "duration": 0,
        "start_time": "2022-05-23T15:37:29.961Z"
      },
      {
        "duration": 0,
        "start_time": "2022-05-23T15:37:29.962Z"
      },
      {
        "duration": 0,
        "start_time": "2022-05-23T15:37:29.963Z"
      },
      {
        "duration": 0,
        "start_time": "2022-05-23T15:37:29.964Z"
      },
      {
        "duration": 0,
        "start_time": "2022-05-23T15:37:29.965Z"
      },
      {
        "duration": 0,
        "start_time": "2022-05-23T15:37:29.966Z"
      },
      {
        "duration": 0,
        "start_time": "2022-05-23T15:37:29.966Z"
      },
      {
        "duration": 0,
        "start_time": "2022-05-23T15:37:29.967Z"
      },
      {
        "duration": 0,
        "start_time": "2022-05-23T15:37:29.969Z"
      },
      {
        "duration": 0,
        "start_time": "2022-05-23T15:37:29.971Z"
      },
      {
        "duration": 0,
        "start_time": "2022-05-23T15:37:29.972Z"
      },
      {
        "duration": 0,
        "start_time": "2022-05-23T15:37:29.973Z"
      },
      {
        "duration": 0,
        "start_time": "2022-05-23T15:37:29.975Z"
      },
      {
        "duration": 0,
        "start_time": "2022-05-23T15:37:29.976Z"
      },
      {
        "duration": 0,
        "start_time": "2022-05-23T15:37:29.977Z"
      },
      {
        "duration": 0,
        "start_time": "2022-05-23T15:37:29.979Z"
      },
      {
        "duration": 0,
        "start_time": "2022-05-23T15:37:29.980Z"
      },
      {
        "duration": 0,
        "start_time": "2022-05-23T15:37:29.982Z"
      },
      {
        "duration": 0,
        "start_time": "2022-05-23T15:37:29.982Z"
      },
      {
        "duration": 0,
        "start_time": "2022-05-23T15:37:29.984Z"
      },
      {
        "duration": 0,
        "start_time": "2022-05-23T15:37:29.985Z"
      },
      {
        "duration": 0,
        "start_time": "2022-05-23T15:37:29.986Z"
      },
      {
        "duration": 0,
        "start_time": "2022-05-23T15:37:29.987Z"
      },
      {
        "duration": 0,
        "start_time": "2022-05-23T15:37:29.988Z"
      },
      {
        "duration": 0,
        "start_time": "2022-05-23T15:37:29.989Z"
      },
      {
        "duration": 0,
        "start_time": "2022-05-23T15:37:29.990Z"
      },
      {
        "duration": 0,
        "start_time": "2022-05-23T15:37:29.991Z"
      },
      {
        "duration": 0,
        "start_time": "2022-05-23T15:37:29.992Z"
      },
      {
        "duration": 0,
        "start_time": "2022-05-23T15:37:29.993Z"
      },
      {
        "duration": 0,
        "start_time": "2022-05-23T15:37:29.994Z"
      },
      {
        "duration": 0,
        "start_time": "2022-05-23T15:37:29.996Z"
      },
      {
        "duration": 0,
        "start_time": "2022-05-23T15:37:29.997Z"
      },
      {
        "duration": 0,
        "start_time": "2022-05-23T15:37:29.998Z"
      },
      {
        "duration": 0,
        "start_time": "2022-05-23T15:37:30.060Z"
      },
      {
        "duration": 0,
        "start_time": "2022-05-23T15:37:30.062Z"
      },
      {
        "duration": 0,
        "start_time": "2022-05-23T15:37:30.063Z"
      },
      {
        "duration": 0,
        "start_time": "2022-05-23T15:37:30.065Z"
      },
      {
        "duration": 0,
        "start_time": "2022-05-23T15:37:30.066Z"
      },
      {
        "duration": 0,
        "start_time": "2022-05-23T15:37:30.067Z"
      },
      {
        "duration": 0,
        "start_time": "2022-05-23T15:37:30.070Z"
      },
      {
        "duration": 0,
        "start_time": "2022-05-23T15:37:30.074Z"
      },
      {
        "duration": 0,
        "start_time": "2022-05-23T15:37:30.077Z"
      },
      {
        "duration": 0,
        "start_time": "2022-05-23T15:37:30.080Z"
      },
      {
        "duration": 0,
        "start_time": "2022-05-23T15:37:30.082Z"
      },
      {
        "duration": 0,
        "start_time": "2022-05-23T15:37:30.084Z"
      },
      {
        "duration": 0,
        "start_time": "2022-05-23T15:37:30.088Z"
      },
      {
        "duration": 0,
        "start_time": "2022-05-23T15:37:30.091Z"
      },
      {
        "duration": 0,
        "start_time": "2022-05-23T15:37:30.095Z"
      },
      {
        "duration": 1453,
        "start_time": "2022-05-23T15:38:03.342Z"
      },
      {
        "duration": 120,
        "start_time": "2022-05-23T15:38:04.797Z"
      },
      {
        "duration": 0,
        "start_time": "2022-05-23T15:38:04.920Z"
      },
      {
        "duration": 0,
        "start_time": "2022-05-23T15:38:04.921Z"
      },
      {
        "duration": 0,
        "start_time": "2022-05-23T15:38:04.922Z"
      },
      {
        "duration": 0,
        "start_time": "2022-05-23T15:38:04.924Z"
      },
      {
        "duration": 0,
        "start_time": "2022-05-23T15:38:04.924Z"
      },
      {
        "duration": 0,
        "start_time": "2022-05-23T15:38:04.925Z"
      },
      {
        "duration": 0,
        "start_time": "2022-05-23T15:38:04.926Z"
      },
      {
        "duration": 0,
        "start_time": "2022-05-23T15:38:04.928Z"
      },
      {
        "duration": 0,
        "start_time": "2022-05-23T15:38:04.928Z"
      },
      {
        "duration": 0,
        "start_time": "2022-05-23T15:38:04.930Z"
      },
      {
        "duration": 0,
        "start_time": "2022-05-23T15:38:04.931Z"
      },
      {
        "duration": 0,
        "start_time": "2022-05-23T15:38:04.932Z"
      },
      {
        "duration": 0,
        "start_time": "2022-05-23T15:38:04.933Z"
      },
      {
        "duration": 0,
        "start_time": "2022-05-23T15:38:04.934Z"
      },
      {
        "duration": 0,
        "start_time": "2022-05-23T15:38:04.959Z"
      },
      {
        "duration": 0,
        "start_time": "2022-05-23T15:38:04.960Z"
      },
      {
        "duration": 0,
        "start_time": "2022-05-23T15:38:04.961Z"
      },
      {
        "duration": 0,
        "start_time": "2022-05-23T15:38:04.962Z"
      },
      {
        "duration": 0,
        "start_time": "2022-05-23T15:38:04.963Z"
      },
      {
        "duration": 0,
        "start_time": "2022-05-23T15:38:04.964Z"
      },
      {
        "duration": 0,
        "start_time": "2022-05-23T15:38:04.964Z"
      },
      {
        "duration": 0,
        "start_time": "2022-05-23T15:38:04.965Z"
      },
      {
        "duration": 0,
        "start_time": "2022-05-23T15:38:04.966Z"
      },
      {
        "duration": 0,
        "start_time": "2022-05-23T15:38:04.969Z"
      },
      {
        "duration": 0,
        "start_time": "2022-05-23T15:38:04.970Z"
      },
      {
        "duration": 0,
        "start_time": "2022-05-23T15:38:04.971Z"
      },
      {
        "duration": 0,
        "start_time": "2022-05-23T15:38:04.972Z"
      },
      {
        "duration": 0,
        "start_time": "2022-05-23T15:38:04.972Z"
      },
      {
        "duration": 0,
        "start_time": "2022-05-23T15:38:04.973Z"
      },
      {
        "duration": 0,
        "start_time": "2022-05-23T15:38:04.974Z"
      },
      {
        "duration": 0,
        "start_time": "2022-05-23T15:38:04.976Z"
      },
      {
        "duration": 0,
        "start_time": "2022-05-23T15:38:04.977Z"
      },
      {
        "duration": 0,
        "start_time": "2022-05-23T15:38:04.978Z"
      },
      {
        "duration": 0,
        "start_time": "2022-05-23T15:38:04.979Z"
      },
      {
        "duration": 0,
        "start_time": "2022-05-23T15:38:04.980Z"
      },
      {
        "duration": 0,
        "start_time": "2022-05-23T15:38:04.980Z"
      },
      {
        "duration": 0,
        "start_time": "2022-05-23T15:38:04.981Z"
      },
      {
        "duration": 0,
        "start_time": "2022-05-23T15:38:04.982Z"
      },
      {
        "duration": 0,
        "start_time": "2022-05-23T15:38:04.983Z"
      },
      {
        "duration": 0,
        "start_time": "2022-05-23T15:38:04.984Z"
      },
      {
        "duration": 0,
        "start_time": "2022-05-23T15:38:04.985Z"
      },
      {
        "duration": 0,
        "start_time": "2022-05-23T15:38:04.986Z"
      },
      {
        "duration": 0,
        "start_time": "2022-05-23T15:38:04.987Z"
      },
      {
        "duration": 0,
        "start_time": "2022-05-23T15:38:04.988Z"
      },
      {
        "duration": 0,
        "start_time": "2022-05-23T15:38:04.989Z"
      },
      {
        "duration": 0,
        "start_time": "2022-05-23T15:38:04.990Z"
      },
      {
        "duration": 0,
        "start_time": "2022-05-23T15:38:04.991Z"
      },
      {
        "duration": 0,
        "start_time": "2022-05-23T15:38:04.992Z"
      },
      {
        "duration": 0,
        "start_time": "2022-05-23T15:38:04.993Z"
      },
      {
        "duration": 0,
        "start_time": "2022-05-23T15:38:04.994Z"
      },
      {
        "duration": 0,
        "start_time": "2022-05-23T15:38:05.059Z"
      },
      {
        "duration": 0,
        "start_time": "2022-05-23T15:38:05.060Z"
      },
      {
        "duration": 0,
        "start_time": "2022-05-23T15:38:05.062Z"
      },
      {
        "duration": 0,
        "start_time": "2022-05-23T15:38:05.063Z"
      },
      {
        "duration": 0,
        "start_time": "2022-05-23T15:38:05.064Z"
      },
      {
        "duration": 0,
        "start_time": "2022-05-23T15:38:05.065Z"
      },
      {
        "duration": 0,
        "start_time": "2022-05-23T15:38:05.065Z"
      },
      {
        "duration": 0,
        "start_time": "2022-05-23T15:38:05.066Z"
      },
      {
        "duration": 0,
        "start_time": "2022-05-23T15:38:05.068Z"
      },
      {
        "duration": 0,
        "start_time": "2022-05-23T15:38:05.069Z"
      },
      {
        "duration": 0,
        "start_time": "2022-05-23T15:38:05.070Z"
      },
      {
        "duration": 0,
        "start_time": "2022-05-23T15:38:05.071Z"
      },
      {
        "duration": 0,
        "start_time": "2022-05-23T15:38:05.073Z"
      },
      {
        "duration": 0,
        "start_time": "2022-05-23T15:38:05.074Z"
      },
      {
        "duration": 0,
        "start_time": "2022-05-23T15:38:05.076Z"
      },
      {
        "duration": 0,
        "start_time": "2022-05-23T15:38:05.077Z"
      },
      {
        "duration": 0,
        "start_time": "2022-05-23T15:38:05.079Z"
      },
      {
        "duration": 0,
        "start_time": "2022-05-23T15:38:05.080Z"
      },
      {
        "duration": 0,
        "start_time": "2022-05-23T15:38:05.081Z"
      },
      {
        "duration": 0,
        "start_time": "2022-05-23T15:38:05.083Z"
      },
      {
        "duration": 0,
        "start_time": "2022-05-23T15:38:05.084Z"
      },
      {
        "duration": 0,
        "start_time": "2022-05-23T15:38:05.085Z"
      },
      {
        "duration": 0,
        "start_time": "2022-05-23T15:38:05.087Z"
      },
      {
        "duration": 70,
        "start_time": "2022-05-23T17:06:11.269Z"
      },
      {
        "duration": 1721,
        "start_time": "2022-05-23T17:06:15.048Z"
      },
      {
        "duration": 141,
        "start_time": "2022-05-23T17:06:19.384Z"
      },
      {
        "duration": 1324,
        "start_time": "2022-05-23T17:07:56.076Z"
      },
      {
        "duration": 47,
        "start_time": "2022-05-23T17:07:57.402Z"
      },
      {
        "duration": 14,
        "start_time": "2022-05-23T17:07:57.451Z"
      },
      {
        "duration": 44,
        "start_time": "2022-05-23T17:07:57.467Z"
      },
      {
        "duration": 8,
        "start_time": "2022-05-23T17:07:57.512Z"
      },
      {
        "duration": 93,
        "start_time": "2022-05-23T17:07:57.521Z"
      },
      {
        "duration": 9,
        "start_time": "2022-05-23T17:07:57.616Z"
      },
      {
        "duration": 39,
        "start_time": "2022-05-23T17:07:57.627Z"
      },
      {
        "duration": 7,
        "start_time": "2022-05-23T17:07:57.668Z"
      },
      {
        "duration": 27,
        "start_time": "2022-05-23T17:07:57.677Z"
      },
      {
        "duration": 15,
        "start_time": "2022-05-23T17:07:57.706Z"
      },
      {
        "duration": 6,
        "start_time": "2022-05-23T17:07:57.722Z"
      },
      {
        "duration": 5,
        "start_time": "2022-05-23T17:07:57.729Z"
      },
      {
        "duration": 4,
        "start_time": "2022-05-23T17:07:57.736Z"
      },
      {
        "duration": 20,
        "start_time": "2022-05-23T17:07:57.741Z"
      },
      {
        "duration": 11,
        "start_time": "2022-05-23T17:07:57.763Z"
      },
      {
        "duration": 51,
        "start_time": "2022-05-23T17:07:57.775Z"
      },
      {
        "duration": 8,
        "start_time": "2022-05-23T17:07:57.827Z"
      },
      {
        "duration": 7,
        "start_time": "2022-05-23T17:07:57.836Z"
      },
      {
        "duration": 21,
        "start_time": "2022-05-23T17:07:57.844Z"
      },
      {
        "duration": 12,
        "start_time": "2022-05-23T17:07:57.866Z"
      },
      {
        "duration": 23,
        "start_time": "2022-05-23T17:07:57.880Z"
      },
      {
        "duration": 17,
        "start_time": "2022-05-23T17:07:57.905Z"
      },
      {
        "duration": 9,
        "start_time": "2022-05-23T17:07:57.923Z"
      },
      {
        "duration": 296,
        "start_time": "2022-05-23T17:07:57.933Z"
      },
      {
        "duration": 8,
        "start_time": "2022-05-23T17:07:58.230Z"
      },
      {
        "duration": 278,
        "start_time": "2022-05-23T17:07:58.239Z"
      },
      {
        "duration": 10,
        "start_time": "2022-05-23T17:07:58.520Z"
      },
      {
        "duration": 8,
        "start_time": "2022-05-23T17:07:58.532Z"
      },
      {
        "duration": 12,
        "start_time": "2022-05-23T17:07:58.542Z"
      },
      {
        "duration": 3,
        "start_time": "2022-05-23T17:07:58.556Z"
      },
      {
        "duration": 68,
        "start_time": "2022-05-23T17:07:58.560Z"
      },
      {
        "duration": 3,
        "start_time": "2022-05-23T17:07:58.629Z"
      },
      {
        "duration": 10,
        "start_time": "2022-05-23T17:07:58.633Z"
      },
      {
        "duration": 12,
        "start_time": "2022-05-23T17:07:58.645Z"
      },
      {
        "duration": 5,
        "start_time": "2022-05-23T17:07:58.659Z"
      },
      {
        "duration": 9,
        "start_time": "2022-05-23T17:07:58.666Z"
      },
      {
        "duration": 10,
        "start_time": "2022-05-23T17:07:58.676Z"
      },
      {
        "duration": 14,
        "start_time": "2022-05-23T17:07:58.688Z"
      },
      {
        "duration": 9,
        "start_time": "2022-05-23T17:07:58.704Z"
      },
      {
        "duration": 9,
        "start_time": "2022-05-23T17:07:58.714Z"
      },
      {
        "duration": 8,
        "start_time": "2022-05-23T17:07:58.724Z"
      },
      {
        "duration": 8,
        "start_time": "2022-05-23T17:07:58.733Z"
      },
      {
        "duration": 269,
        "start_time": "2022-05-23T17:07:58.742Z"
      },
      {
        "duration": 5,
        "start_time": "2022-05-23T17:07:59.013Z"
      },
      {
        "duration": 13,
        "start_time": "2022-05-23T17:07:59.019Z"
      },
      {
        "duration": 253,
        "start_time": "2022-05-23T17:07:59.033Z"
      },
      {
        "duration": 395,
        "start_time": "2022-05-23T17:07:59.288Z"
      },
      {
        "duration": 24,
        "start_time": "2022-05-23T17:07:59.685Z"
      },
      {
        "duration": 5,
        "start_time": "2022-05-23T17:07:59.711Z"
      },
      {
        "duration": 25,
        "start_time": "2022-05-23T17:07:59.718Z"
      },
      {
        "duration": 17,
        "start_time": "2022-05-23T17:07:59.744Z"
      },
      {
        "duration": 6,
        "start_time": "2022-05-23T17:07:59.763Z"
      },
      {
        "duration": 10,
        "start_time": "2022-05-23T17:07:59.771Z"
      },
      {
        "duration": 3,
        "start_time": "2022-05-23T17:08:08.769Z"
      },
      {
        "duration": 2,
        "start_time": "2022-05-23T17:08:09.600Z"
      },
      {
        "duration": 13,
        "start_time": "2022-05-23T17:08:10.258Z"
      },
      {
        "duration": 9,
        "start_time": "2022-05-23T17:08:22.776Z"
      },
      {
        "duration": 18,
        "start_time": "2022-05-23T17:08:31.775Z"
      },
      {
        "duration": 8,
        "start_time": "2022-05-23T17:08:53.191Z"
      },
      {
        "duration": 5,
        "start_time": "2022-05-23T17:08:53.927Z"
      },
      {
        "duration": 3,
        "start_time": "2022-05-23T17:08:54.505Z"
      },
      {
        "duration": 4,
        "start_time": "2022-05-23T17:08:55.355Z"
      },
      {
        "duration": 3,
        "start_time": "2022-05-23T17:08:55.950Z"
      },
      {
        "duration": 5956,
        "start_time": "2022-05-23T17:09:02.728Z"
      },
      {
        "duration": 1248,
        "start_time": "2022-05-23T17:09:15.562Z"
      },
      {
        "duration": 107,
        "start_time": "2022-05-23T17:09:23.868Z"
      },
      {
        "duration": 6,
        "start_time": "2022-05-23T17:09:31.829Z"
      },
      {
        "duration": 6,
        "start_time": "2022-05-23T17:09:32.288Z"
      },
      {
        "duration": 5,
        "start_time": "2022-05-23T17:09:32.801Z"
      },
      {
        "duration": 24749,
        "start_time": "2022-05-23T17:09:37.300Z"
      },
      {
        "duration": 5,
        "start_time": "2022-05-23T17:10:02.050Z"
      },
      {
        "duration": 24,
        "start_time": "2022-05-23T17:10:02.057Z"
      },
      {
        "duration": 427,
        "start_time": "2022-05-23T17:10:02.082Z"
      },
      {
        "duration": 92,
        "start_time": "2022-05-23T17:10:02.511Z"
      },
      {
        "duration": 98,
        "start_time": "2022-05-23T17:10:02.610Z"
      },
      {
        "duration": 2,
        "start_time": "2022-05-23T17:21:03.139Z"
      },
      {
        "duration": 2,
        "start_time": "2022-05-23T17:21:03.590Z"
      },
      {
        "duration": 10,
        "start_time": "2022-05-23T17:21:03.949Z"
      },
      {
        "duration": 6,
        "start_time": "2022-05-23T17:21:04.227Z"
      },
      {
        "duration": 9,
        "start_time": "2022-05-23T17:21:19.959Z"
      },
      {
        "duration": 118,
        "start_time": "2022-05-23T17:22:03.479Z"
      },
      {
        "duration": 10,
        "start_time": "2022-05-23T17:22:34.961Z"
      },
      {
        "duration": 11,
        "start_time": "2022-05-23T17:31:53.201Z"
      },
      {
        "duration": 6273,
        "start_time": "2022-05-23T17:33:20.374Z"
      },
      {
        "duration": 11,
        "start_time": "2022-05-23T17:33:29.204Z"
      },
      {
        "duration": 18,
        "start_time": "2022-05-23T17:33:41.496Z"
      },
      {
        "duration": 1343,
        "start_time": "2022-05-23T17:34:53.978Z"
      },
      {
        "duration": 47,
        "start_time": "2022-05-23T17:34:55.322Z"
      },
      {
        "duration": 14,
        "start_time": "2022-05-23T17:34:55.370Z"
      },
      {
        "duration": 20,
        "start_time": "2022-05-23T17:34:55.386Z"
      },
      {
        "duration": 8,
        "start_time": "2022-05-23T17:34:55.407Z"
      },
      {
        "duration": 23,
        "start_time": "2022-05-23T17:34:55.416Z"
      },
      {
        "duration": 10,
        "start_time": "2022-05-23T17:34:55.441Z"
      },
      {
        "duration": 21,
        "start_time": "2022-05-23T17:34:55.454Z"
      },
      {
        "duration": 11,
        "start_time": "2022-05-23T17:34:55.477Z"
      },
      {
        "duration": 30,
        "start_time": "2022-05-23T17:34:55.490Z"
      },
      {
        "duration": 16,
        "start_time": "2022-05-23T17:34:55.522Z"
      },
      {
        "duration": 6,
        "start_time": "2022-05-23T17:34:55.540Z"
      },
      {
        "duration": 7,
        "start_time": "2022-05-23T17:34:55.547Z"
      },
      {
        "duration": 5,
        "start_time": "2022-05-23T17:34:55.556Z"
      },
      {
        "duration": 40,
        "start_time": "2022-05-23T17:34:55.562Z"
      },
      {
        "duration": 12,
        "start_time": "2022-05-23T17:34:55.604Z"
      },
      {
        "duration": 26,
        "start_time": "2022-05-23T17:34:55.618Z"
      },
      {
        "duration": 8,
        "start_time": "2022-05-23T17:34:55.646Z"
      },
      {
        "duration": 5,
        "start_time": "2022-05-23T17:34:55.656Z"
      },
      {
        "duration": 51,
        "start_time": "2022-05-23T17:34:55.663Z"
      },
      {
        "duration": 10,
        "start_time": "2022-05-23T17:34:55.716Z"
      },
      {
        "duration": 19,
        "start_time": "2022-05-23T17:34:55.728Z"
      },
      {
        "duration": 23,
        "start_time": "2022-05-23T17:34:55.748Z"
      },
      {
        "duration": 8,
        "start_time": "2022-05-23T17:34:55.773Z"
      },
      {
        "duration": 268,
        "start_time": "2022-05-23T17:34:55.783Z"
      },
      {
        "duration": 8,
        "start_time": "2022-05-23T17:34:56.053Z"
      },
      {
        "duration": 243,
        "start_time": "2022-05-23T17:34:56.063Z"
      },
      {
        "duration": 10,
        "start_time": "2022-05-23T17:34:56.310Z"
      },
      {
        "duration": 10,
        "start_time": "2022-05-23T17:34:56.322Z"
      },
      {
        "duration": 11,
        "start_time": "2022-05-23T17:34:56.333Z"
      },
      {
        "duration": 2,
        "start_time": "2022-05-23T17:34:56.345Z"
      },
      {
        "duration": 63,
        "start_time": "2022-05-23T17:34:56.349Z"
      },
      {
        "duration": 3,
        "start_time": "2022-05-23T17:34:56.413Z"
      },
      {
        "duration": 7,
        "start_time": "2022-05-23T17:34:56.417Z"
      },
      {
        "duration": 9,
        "start_time": "2022-05-23T17:34:56.426Z"
      },
      {
        "duration": 6,
        "start_time": "2022-05-23T17:34:56.436Z"
      },
      {
        "duration": 6,
        "start_time": "2022-05-23T17:34:56.443Z"
      },
      {
        "duration": 5,
        "start_time": "2022-05-23T17:34:56.451Z"
      },
      {
        "duration": 7,
        "start_time": "2022-05-23T17:34:56.457Z"
      },
      {
        "duration": 6,
        "start_time": "2022-05-23T17:34:56.465Z"
      },
      {
        "duration": 5,
        "start_time": "2022-05-23T17:34:56.501Z"
      },
      {
        "duration": 7,
        "start_time": "2022-05-23T17:34:56.507Z"
      },
      {
        "duration": 8,
        "start_time": "2022-05-23T17:34:56.516Z"
      },
      {
        "duration": 260,
        "start_time": "2022-05-23T17:34:56.526Z"
      },
      {
        "duration": 14,
        "start_time": "2022-05-23T17:34:56.788Z"
      },
      {
        "duration": 12,
        "start_time": "2022-05-23T17:34:56.804Z"
      },
      {
        "duration": 234,
        "start_time": "2022-05-23T17:34:56.818Z"
      },
      {
        "duration": 404,
        "start_time": "2022-05-23T17:34:57.053Z"
      },
      {
        "duration": 10,
        "start_time": "2022-05-23T17:34:57.458Z"
      },
      {
        "duration": 5,
        "start_time": "2022-05-23T17:34:57.469Z"
      },
      {
        "duration": 47,
        "start_time": "2022-05-23T17:34:57.475Z"
      },
      {
        "duration": 18,
        "start_time": "2022-05-23T17:34:57.524Z"
      },
      {
        "duration": 5,
        "start_time": "2022-05-23T17:34:57.544Z"
      },
      {
        "duration": 7,
        "start_time": "2022-05-23T17:34:57.550Z"
      },
      {
        "duration": 6,
        "start_time": "2022-05-23T17:34:57.559Z"
      },
      {
        "duration": 4,
        "start_time": "2022-05-23T17:34:57.567Z"
      },
      {
        "duration": 29,
        "start_time": "2022-05-23T17:34:57.573Z"
      },
      {
        "duration": 7,
        "start_time": "2022-05-23T17:34:57.603Z"
      },
      {
        "duration": 7,
        "start_time": "2022-05-23T17:34:57.611Z"
      },
      {
        "duration": 5,
        "start_time": "2022-05-23T17:34:57.619Z"
      },
      {
        "duration": 6,
        "start_time": "2022-05-23T17:34:57.625Z"
      },
      {
        "duration": 5,
        "start_time": "2022-05-23T17:34:57.632Z"
      },
      {
        "duration": 6192,
        "start_time": "2022-05-23T17:34:57.638Z"
      },
      {
        "duration": 135,
        "start_time": "2022-05-23T17:35:05.799Z"
      },
      {
        "duration": 9,
        "start_time": "2022-05-23T17:35:27.599Z"
      },
      {
        "duration": 2296,
        "start_time": "2022-05-23T17:35:33.892Z"
      },
      {
        "duration": 19,
        "start_time": "2022-05-23T17:35:45.198Z"
      },
      {
        "duration": 116,
        "start_time": "2022-05-23T17:36:46.808Z"
      },
      {
        "duration": 6,
        "start_time": "2022-05-23T17:36:48.044Z"
      },
      {
        "duration": 5,
        "start_time": "2022-05-23T17:36:48.813Z"
      },
      {
        "duration": 6,
        "start_time": "2022-05-23T17:36:49.468Z"
      },
      {
        "duration": 13,
        "start_time": "2022-05-23T17:36:50.452Z"
      },
      {
        "duration": 13,
        "start_time": "2022-05-23T17:38:59.593Z"
      },
      {
        "duration": 10,
        "start_time": "2022-05-23T17:39:09.740Z"
      },
      {
        "duration": 10,
        "start_time": "2022-05-23T17:39:59.587Z"
      },
      {
        "duration": 1392,
        "start_time": "2022-05-23T17:42:00.944Z"
      },
      {
        "duration": 11,
        "start_time": "2022-05-23T17:42:12.068Z"
      },
      {
        "duration": 11,
        "start_time": "2022-05-23T17:42:34.270Z"
      },
      {
        "duration": 11,
        "start_time": "2022-05-23T17:42:37.858Z"
      },
      {
        "duration": 12,
        "start_time": "2022-05-23T17:42:38.481Z"
      },
      {
        "duration": 11,
        "start_time": "2022-05-23T17:44:02.521Z"
      },
      {
        "duration": 11,
        "start_time": "2022-05-23T17:48:51.862Z"
      },
      {
        "duration": 1413,
        "start_time": "2022-05-23T17:49:23.309Z"
      },
      {
        "duration": 51,
        "start_time": "2022-05-23T17:49:24.724Z"
      },
      {
        "duration": 16,
        "start_time": "2022-05-23T17:49:24.777Z"
      },
      {
        "duration": 21,
        "start_time": "2022-05-23T17:49:24.796Z"
      },
      {
        "duration": 9,
        "start_time": "2022-05-23T17:49:24.819Z"
      },
      {
        "duration": 23,
        "start_time": "2022-05-23T17:49:24.829Z"
      },
      {
        "duration": 12,
        "start_time": "2022-05-23T17:49:24.853Z"
      },
      {
        "duration": 24,
        "start_time": "2022-05-23T17:49:24.866Z"
      },
      {
        "duration": 7,
        "start_time": "2022-05-23T17:49:24.892Z"
      },
      {
        "duration": 28,
        "start_time": "2022-05-23T17:49:24.904Z"
      },
      {
        "duration": 19,
        "start_time": "2022-05-23T17:49:24.934Z"
      },
      {
        "duration": 6,
        "start_time": "2022-05-23T17:49:24.955Z"
      },
      {
        "duration": 8,
        "start_time": "2022-05-23T17:49:24.962Z"
      },
      {
        "duration": 30,
        "start_time": "2022-05-23T17:49:24.972Z"
      },
      {
        "duration": 18,
        "start_time": "2022-05-23T17:49:25.004Z"
      },
      {
        "duration": 11,
        "start_time": "2022-05-23T17:49:25.024Z"
      },
      {
        "duration": 31,
        "start_time": "2022-05-23T17:49:25.036Z"
      },
      {
        "duration": 36,
        "start_time": "2022-05-23T17:49:25.069Z"
      },
      {
        "duration": 6,
        "start_time": "2022-05-23T17:49:25.107Z"
      },
      {
        "duration": 24,
        "start_time": "2022-05-23T17:49:25.114Z"
      },
      {
        "duration": 10,
        "start_time": "2022-05-23T17:49:25.140Z"
      },
      {
        "duration": 7,
        "start_time": "2022-05-23T17:49:25.152Z"
      },
      {
        "duration": 47,
        "start_time": "2022-05-23T17:49:25.161Z"
      },
      {
        "duration": 9,
        "start_time": "2022-05-23T17:49:25.209Z"
      },
      {
        "duration": 298,
        "start_time": "2022-05-23T17:49:25.219Z"
      },
      {
        "duration": 8,
        "start_time": "2022-05-23T17:49:25.519Z"
      },
      {
        "duration": 270,
        "start_time": "2022-05-23T17:49:25.529Z"
      },
      {
        "duration": 10,
        "start_time": "2022-05-23T17:49:25.803Z"
      },
      {
        "duration": 10,
        "start_time": "2022-05-23T17:49:25.815Z"
      },
      {
        "duration": 13,
        "start_time": "2022-05-23T17:49:25.826Z"
      },
      {
        "duration": 2,
        "start_time": "2022-05-23T17:49:25.841Z"
      },
      {
        "duration": 74,
        "start_time": "2022-05-23T17:49:25.845Z"
      },
      {
        "duration": 3,
        "start_time": "2022-05-23T17:49:25.921Z"
      },
      {
        "duration": 8,
        "start_time": "2022-05-23T17:49:25.925Z"
      },
      {
        "duration": 10,
        "start_time": "2022-05-23T17:49:25.935Z"
      },
      {
        "duration": 6,
        "start_time": "2022-05-23T17:49:25.947Z"
      },
      {
        "duration": 6,
        "start_time": "2022-05-23T17:49:25.955Z"
      },
      {
        "duration": 4,
        "start_time": "2022-05-23T17:49:25.963Z"
      },
      {
        "duration": 33,
        "start_time": "2022-05-23T17:49:25.969Z"
      },
      {
        "duration": 11,
        "start_time": "2022-05-23T17:49:26.004Z"
      },
      {
        "duration": 16,
        "start_time": "2022-05-23T17:49:26.017Z"
      },
      {
        "duration": 18,
        "start_time": "2022-05-23T17:49:26.035Z"
      },
      {
        "duration": 9,
        "start_time": "2022-05-23T17:49:26.054Z"
      },
      {
        "duration": 251,
        "start_time": "2022-05-23T17:49:26.065Z"
      },
      {
        "duration": 6,
        "start_time": "2022-05-23T17:49:26.318Z"
      },
      {
        "duration": 8,
        "start_time": "2022-05-23T17:49:26.326Z"
      },
      {
        "duration": 281,
        "start_time": "2022-05-23T17:49:26.336Z"
      },
      {
        "duration": 372,
        "start_time": "2022-05-23T17:49:26.618Z"
      },
      {
        "duration": 17,
        "start_time": "2022-05-23T17:49:26.992Z"
      },
      {
        "duration": 5,
        "start_time": "2022-05-23T17:49:27.011Z"
      },
      {
        "duration": 24,
        "start_time": "2022-05-23T17:49:27.017Z"
      },
      {
        "duration": 27,
        "start_time": "2022-05-23T17:49:27.043Z"
      },
      {
        "duration": 6,
        "start_time": "2022-05-23T17:49:27.072Z"
      },
      {
        "duration": 28,
        "start_time": "2022-05-23T17:49:27.079Z"
      },
      {
        "duration": 4,
        "start_time": "2022-05-23T17:49:27.109Z"
      },
      {
        "duration": 4,
        "start_time": "2022-05-23T17:49:27.115Z"
      },
      {
        "duration": 11,
        "start_time": "2022-05-23T17:49:27.121Z"
      },
      {
        "duration": 7,
        "start_time": "2022-05-23T17:49:27.133Z"
      },
      {
        "duration": 8,
        "start_time": "2022-05-23T17:49:27.141Z"
      },
      {
        "duration": 4,
        "start_time": "2022-05-23T17:49:27.150Z"
      },
      {
        "duration": 4,
        "start_time": "2022-05-23T17:49:27.156Z"
      },
      {
        "duration": 4,
        "start_time": "2022-05-23T17:49:27.162Z"
      },
      {
        "duration": 6618,
        "start_time": "2022-05-23T17:49:27.167Z"
      },
      {
        "duration": 1114,
        "start_time": "2022-05-23T17:49:33.787Z"
      },
      {
        "duration": 127,
        "start_time": "2022-05-23T17:49:34.903Z"
      },
      {
        "duration": 4,
        "start_time": "2022-05-23T17:49:35.032Z"
      },
      {
        "duration": 14,
        "start_time": "2022-05-23T17:49:35.038Z"
      },
      {
        "duration": 13,
        "start_time": "2022-05-23T17:49:35.053Z"
      },
      {
        "duration": 27187,
        "start_time": "2022-05-23T17:49:35.067Z"
      },
      {
        "duration": 6,
        "start_time": "2022-05-23T17:50:02.255Z"
      },
      {
        "duration": 8,
        "start_time": "2022-05-23T17:50:02.263Z"
      },
      {
        "duration": 1030,
        "start_time": "2022-05-23T17:50:02.273Z"
      },
      {
        "duration": 92,
        "start_time": "2022-05-23T17:50:03.314Z"
      },
      {
        "duration": 10,
        "start_time": "2022-05-23T17:50:03.408Z"
      },
      {
        "duration": 4,
        "start_time": "2022-05-23T17:53:56.670Z"
      },
      {
        "duration": 143,
        "start_time": "2022-05-23T17:54:08.315Z"
      },
      {
        "duration": 11,
        "start_time": "2022-05-23T17:54:57.076Z"
      },
      {
        "duration": 12,
        "start_time": "2022-05-23T17:55:18.964Z"
      },
      {
        "duration": 11,
        "start_time": "2022-05-23T17:58:20.694Z"
      },
      {
        "duration": 14,
        "start_time": "2022-05-23T17:59:16.822Z"
      },
      {
        "duration": 4,
        "start_time": "2022-05-23T17:59:49.150Z"
      },
      {
        "duration": 3,
        "start_time": "2022-05-23T17:59:49.871Z"
      },
      {
        "duration": 11,
        "start_time": "2022-05-23T17:59:50.397Z"
      },
      {
        "duration": 12,
        "start_time": "2022-05-23T17:59:50.850Z"
      },
      {
        "duration": 17,
        "start_time": "2022-05-23T18:00:34.011Z"
      },
      {
        "duration": 13,
        "start_time": "2022-05-23T18:01:19.001Z"
      },
      {
        "duration": 16,
        "start_time": "2022-05-23T18:01:35.797Z"
      },
      {
        "duration": 10,
        "start_time": "2022-05-23T18:02:39.428Z"
      },
      {
        "duration": 12,
        "start_time": "2022-05-23T18:03:56.793Z"
      },
      {
        "duration": 1536,
        "start_time": "2022-05-23T18:06:25.721Z"
      },
      {
        "duration": 52,
        "start_time": "2022-05-23T18:06:27.259Z"
      },
      {
        "duration": 17,
        "start_time": "2022-05-23T18:06:27.313Z"
      },
      {
        "duration": 20,
        "start_time": "2022-05-23T18:06:27.332Z"
      },
      {
        "duration": 8,
        "start_time": "2022-05-23T18:06:27.354Z"
      },
      {
        "duration": 23,
        "start_time": "2022-05-23T18:06:27.364Z"
      },
      {
        "duration": 21,
        "start_time": "2022-05-23T18:06:27.388Z"
      },
      {
        "duration": 31,
        "start_time": "2022-05-23T18:06:27.411Z"
      },
      {
        "duration": 7,
        "start_time": "2022-05-23T18:06:27.444Z"
      },
      {
        "duration": 31,
        "start_time": "2022-05-23T18:06:27.454Z"
      },
      {
        "duration": 26,
        "start_time": "2022-05-23T18:06:27.487Z"
      },
      {
        "duration": 6,
        "start_time": "2022-05-23T18:06:27.517Z"
      },
      {
        "duration": 6,
        "start_time": "2022-05-23T18:06:27.525Z"
      },
      {
        "duration": 6,
        "start_time": "2022-05-23T18:06:27.533Z"
      },
      {
        "duration": 22,
        "start_time": "2022-05-23T18:06:27.541Z"
      },
      {
        "duration": 12,
        "start_time": "2022-05-23T18:06:27.564Z"
      },
      {
        "duration": 55,
        "start_time": "2022-05-23T18:06:27.577Z"
      },
      {
        "duration": 10,
        "start_time": "2022-05-23T18:06:27.633Z"
      },
      {
        "duration": 7,
        "start_time": "2022-05-23T18:06:27.644Z"
      },
      {
        "duration": 50,
        "start_time": "2022-05-23T18:06:27.653Z"
      },
      {
        "duration": 16,
        "start_time": "2022-05-23T18:06:27.705Z"
      },
      {
        "duration": 8,
        "start_time": "2022-05-23T18:06:27.724Z"
      },
      {
        "duration": 20,
        "start_time": "2022-05-23T18:06:27.733Z"
      },
      {
        "duration": 8,
        "start_time": "2022-05-23T18:06:27.754Z"
      },
      {
        "duration": 325,
        "start_time": "2022-05-23T18:06:27.764Z"
      },
      {
        "duration": 12,
        "start_time": "2022-05-23T18:06:28.091Z"
      },
      {
        "duration": 305,
        "start_time": "2022-05-23T18:06:28.106Z"
      },
      {
        "duration": 14,
        "start_time": "2022-05-23T18:06:28.419Z"
      },
      {
        "duration": 10,
        "start_time": "2022-05-23T18:06:28.435Z"
      },
      {
        "duration": 23,
        "start_time": "2022-05-23T18:06:28.448Z"
      },
      {
        "duration": 23,
        "start_time": "2022-05-23T18:06:28.474Z"
      },
      {
        "duration": 52,
        "start_time": "2022-05-23T18:06:28.502Z"
      },
      {
        "duration": 3,
        "start_time": "2022-05-23T18:06:28.556Z"
      },
      {
        "duration": 13,
        "start_time": "2022-05-23T18:06:28.561Z"
      },
      {
        "duration": 28,
        "start_time": "2022-05-23T18:06:28.576Z"
      },
      {
        "duration": 12,
        "start_time": "2022-05-23T18:06:28.605Z"
      },
      {
        "duration": 19,
        "start_time": "2022-05-23T18:06:28.620Z"
      },
      {
        "duration": 8,
        "start_time": "2022-05-23T18:06:28.641Z"
      },
      {
        "duration": 11,
        "start_time": "2022-05-23T18:06:28.650Z"
      },
      {
        "duration": 7,
        "start_time": "2022-05-23T18:06:28.663Z"
      },
      {
        "duration": 7,
        "start_time": "2022-05-23T18:06:28.672Z"
      },
      {
        "duration": 21,
        "start_time": "2022-05-23T18:06:28.681Z"
      },
      {
        "duration": 11,
        "start_time": "2022-05-23T18:06:28.705Z"
      },
      {
        "duration": 278,
        "start_time": "2022-05-23T18:06:28.719Z"
      },
      {
        "duration": 5,
        "start_time": "2022-05-23T18:06:29.002Z"
      },
      {
        "duration": 28,
        "start_time": "2022-05-23T18:06:29.010Z"
      },
      {
        "duration": 246,
        "start_time": "2022-05-23T18:06:29.040Z"
      },
      {
        "duration": 404,
        "start_time": "2022-05-23T18:06:29.288Z"
      },
      {
        "duration": 24,
        "start_time": "2022-05-23T18:06:29.693Z"
      },
      {
        "duration": 7,
        "start_time": "2022-05-23T18:06:29.719Z"
      },
      {
        "duration": 25,
        "start_time": "2022-05-23T18:06:29.728Z"
      },
      {
        "duration": 18,
        "start_time": "2022-05-23T18:06:29.755Z"
      },
      {
        "duration": 36,
        "start_time": "2022-05-23T18:06:29.775Z"
      },
      {
        "duration": 12,
        "start_time": "2022-05-23T18:06:29.813Z"
      },
      {
        "duration": 7,
        "start_time": "2022-05-23T18:06:29.827Z"
      },
      {
        "duration": 6,
        "start_time": "2022-05-23T18:06:29.835Z"
      },
      {
        "duration": 12,
        "start_time": "2022-05-23T18:06:29.842Z"
      },
      {
        "duration": 7,
        "start_time": "2022-05-23T18:06:29.856Z"
      },
      {
        "duration": 4,
        "start_time": "2022-05-23T18:06:29.865Z"
      },
      {
        "duration": 4,
        "start_time": "2022-05-23T18:06:29.871Z"
      },
      {
        "duration": 6,
        "start_time": "2022-05-23T18:06:29.902Z"
      },
      {
        "duration": 14,
        "start_time": "2022-05-23T18:06:29.912Z"
      },
      {
        "duration": 7019,
        "start_time": "2022-05-23T18:06:29.927Z"
      },
      {
        "duration": 1236,
        "start_time": "2022-05-23T18:06:36.948Z"
      },
      {
        "duration": 137,
        "start_time": "2022-05-23T18:06:38.186Z"
      },
      {
        "duration": 6,
        "start_time": "2022-05-23T18:06:38.325Z"
      },
      {
        "duration": 7,
        "start_time": "2022-05-23T18:06:38.332Z"
      },
      {
        "duration": 11,
        "start_time": "2022-05-23T18:06:38.341Z"
      },
      {
        "duration": 28386,
        "start_time": "2022-05-23T18:06:38.353Z"
      },
      {
        "duration": 7,
        "start_time": "2022-05-23T18:07:06.741Z"
      },
      {
        "duration": 7,
        "start_time": "2022-05-23T18:07:06.749Z"
      },
      {
        "duration": 353,
        "start_time": "2022-05-23T18:07:06.758Z"
      },
      {
        "duration": 88,
        "start_time": "2022-05-23T18:07:07.114Z"
      },
      {
        "duration": 8,
        "start_time": "2022-05-23T18:07:07.205Z"
      },
      {
        "duration": 123,
        "start_time": "2022-05-23T18:24:06.252Z"
      },
      {
        "duration": 14,
        "start_time": "2022-05-23T18:24:10.227Z"
      },
      {
        "duration": 8,
        "start_time": "2022-05-23T18:25:48.405Z"
      },
      {
        "duration": 11,
        "start_time": "2022-05-23T18:26:10.250Z"
      },
      {
        "duration": 150,
        "start_time": "2022-05-23T18:41:56.858Z"
      },
      {
        "duration": 257,
        "start_time": "2022-05-23T18:42:16.162Z"
      },
      {
        "duration": 228,
        "start_time": "2022-05-23T18:42:30.094Z"
      },
      {
        "duration": 11,
        "start_time": "2022-05-23T18:43:08.759Z"
      },
      {
        "duration": 13,
        "start_time": "2022-05-23T18:55:56.765Z"
      },
      {
        "duration": 46,
        "start_time": "2022-05-23T19:01:03.268Z"
      },
      {
        "duration": 259,
        "start_time": "2022-05-23T19:03:58.269Z"
      },
      {
        "duration": 241,
        "start_time": "2022-05-23T19:04:51.665Z"
      },
      {
        "duration": 452,
        "start_time": "2022-05-23T19:04:56.487Z"
      },
      {
        "duration": 233,
        "start_time": "2022-05-23T19:05:04.055Z"
      },
      {
        "duration": 222,
        "start_time": "2022-05-23T19:05:09.421Z"
      },
      {
        "duration": 148,
        "start_time": "2022-05-23T19:05:37.998Z"
      },
      {
        "duration": 124,
        "start_time": "2022-05-23T19:06:13.517Z"
      },
      {
        "duration": 219,
        "start_time": "2022-05-23T19:06:19.054Z"
      },
      {
        "duration": 221,
        "start_time": "2022-05-23T19:07:12.066Z"
      },
      {
        "duration": 111,
        "start_time": "2022-05-23T19:07:22.095Z"
      },
      {
        "duration": 234,
        "start_time": "2022-05-23T19:07:55.597Z"
      },
      {
        "duration": 46,
        "start_time": "2022-05-23T19:08:22.692Z"
      },
      {
        "duration": 264,
        "start_time": "2022-05-23T19:08:28.471Z"
      },
      {
        "duration": 27,
        "start_time": "2022-05-23T19:09:19.857Z"
      },
      {
        "duration": 30,
        "start_time": "2022-05-23T19:09:45.821Z"
      },
      {
        "duration": 155,
        "start_time": "2022-05-23T19:10:07.778Z"
      },
      {
        "duration": 262,
        "start_time": "2022-05-23T19:10:31.914Z"
      },
      {
        "duration": 223,
        "start_time": "2022-05-23T19:10:43.864Z"
      },
      {
        "duration": 151,
        "start_time": "2022-05-23T19:11:54.567Z"
      },
      {
        "duration": 168,
        "start_time": "2022-05-23T19:12:31.393Z"
      },
      {
        "duration": 150,
        "start_time": "2022-05-23T19:12:58.994Z"
      },
      {
        "duration": 150,
        "start_time": "2022-05-23T19:13:10.572Z"
      },
      {
        "duration": 266,
        "start_time": "2022-05-23T19:14:24.901Z"
      },
      {
        "duration": 175,
        "start_time": "2022-05-23T19:14:45.609Z"
      },
      {
        "duration": 11,
        "start_time": "2022-05-23T19:17:02.288Z"
      },
      {
        "duration": 6,
        "start_time": "2022-05-23T19:17:08.563Z"
      },
      {
        "duration": 345,
        "start_time": "2022-05-23T19:17:09.801Z"
      },
      {
        "duration": 11,
        "start_time": "2022-05-23T19:34:18.463Z"
      },
      {
        "duration": 231,
        "start_time": "2022-05-23T19:36:06.782Z"
      },
      {
        "duration": 498,
        "start_time": "2022-05-23T19:39:08.165Z"
      },
      {
        "duration": 423,
        "start_time": "2022-05-23T19:39:25.457Z"
      },
      {
        "duration": 183,
        "start_time": "2022-05-23T19:40:54.170Z"
      },
      {
        "duration": 142,
        "start_time": "2022-05-23T19:41:16.865Z"
      },
      {
        "duration": 6,
        "start_time": "2022-05-23T19:41:45.803Z"
      },
      {
        "duration": 156,
        "start_time": "2022-05-23T19:42:47.678Z"
      },
      {
        "duration": 4,
        "start_time": "2022-05-23T19:43:18.557Z"
      },
      {
        "duration": 195,
        "start_time": "2022-05-23T19:44:09.183Z"
      },
      {
        "duration": 161,
        "start_time": "2022-05-23T19:44:15.764Z"
      },
      {
        "duration": 151,
        "start_time": "2022-05-23T19:44:23.063Z"
      },
      {
        "duration": 4,
        "start_time": "2022-05-23T19:44:53.136Z"
      },
      {
        "duration": 4,
        "start_time": "2022-05-23T19:45:00.656Z"
      },
      {
        "duration": 385,
        "start_time": "2022-05-23T19:45:01.313Z"
      },
      {
        "duration": 15,
        "start_time": "2022-05-23T19:45:47.677Z"
      },
      {
        "duration": 384,
        "start_time": "2022-05-23T19:45:50.705Z"
      },
      {
        "duration": 353,
        "start_time": "2022-05-23T19:46:39.158Z"
      },
      {
        "duration": 3,
        "start_time": "2022-05-23T19:47:11.424Z"
      },
      {
        "duration": 3,
        "start_time": "2022-05-23T19:47:21.558Z"
      },
      {
        "duration": 388,
        "start_time": "2022-05-23T19:47:22.954Z"
      },
      {
        "duration": 3,
        "start_time": "2022-05-23T19:51:06.127Z"
      },
      {
        "duration": 503,
        "start_time": "2022-05-23T19:51:08.967Z"
      },
      {
        "duration": 354,
        "start_time": "2022-05-23T19:51:39.567Z"
      },
      {
        "duration": 11,
        "start_time": "2022-05-23T19:53:16.987Z"
      },
      {
        "duration": 3,
        "start_time": "2022-05-23T19:53:19.678Z"
      },
      {
        "duration": 12,
        "start_time": "2022-05-23T19:53:31.464Z"
      },
      {
        "duration": 357,
        "start_time": "2022-05-23T19:53:38.177Z"
      },
      {
        "duration": 348,
        "start_time": "2022-05-23T19:53:55.887Z"
      },
      {
        "duration": 3,
        "start_time": "2022-05-23T19:54:05.202Z"
      },
      {
        "duration": 349,
        "start_time": "2022-05-23T19:54:06.064Z"
      },
      {
        "duration": 3,
        "start_time": "2022-05-23T19:54:17.195Z"
      },
      {
        "duration": 343,
        "start_time": "2022-05-23T19:54:17.868Z"
      },
      {
        "duration": 360,
        "start_time": "2022-05-23T19:54:53.159Z"
      },
      {
        "duration": 372,
        "start_time": "2022-05-23T19:55:52.358Z"
      },
      {
        "duration": 385,
        "start_time": "2022-05-23T19:55:58.425Z"
      },
      {
        "duration": 5,
        "start_time": "2022-05-23T20:01:24.228Z"
      },
      {
        "duration": 1368,
        "start_time": "2022-05-23T20:06:34.870Z"
      },
      {
        "duration": 133,
        "start_time": "2022-05-23T20:06:36.241Z"
      },
      {
        "duration": 14,
        "start_time": "2022-05-23T20:06:36.376Z"
      },
      {
        "duration": 42,
        "start_time": "2022-05-23T20:06:36.392Z"
      },
      {
        "duration": 9,
        "start_time": "2022-05-23T20:06:36.435Z"
      },
      {
        "duration": 92,
        "start_time": "2022-05-23T20:06:36.445Z"
      },
      {
        "duration": 10,
        "start_time": "2022-05-23T20:06:36.539Z"
      },
      {
        "duration": 40,
        "start_time": "2022-05-23T20:06:36.551Z"
      },
      {
        "duration": 6,
        "start_time": "2022-05-23T20:06:36.593Z"
      },
      {
        "duration": 26,
        "start_time": "2022-05-23T20:06:36.602Z"
      },
      {
        "duration": 19,
        "start_time": "2022-05-23T20:06:36.629Z"
      },
      {
        "duration": 6,
        "start_time": "2022-05-23T20:06:36.650Z"
      },
      {
        "duration": 7,
        "start_time": "2022-05-23T20:06:36.658Z"
      },
      {
        "duration": 6,
        "start_time": "2022-05-23T20:06:36.666Z"
      },
      {
        "duration": 39,
        "start_time": "2022-05-23T20:06:36.674Z"
      },
      {
        "duration": 12,
        "start_time": "2022-05-23T20:06:36.714Z"
      },
      {
        "duration": 31,
        "start_time": "2022-05-23T20:06:36.728Z"
      },
      {
        "duration": 10,
        "start_time": "2022-05-23T20:06:36.761Z"
      },
      {
        "duration": 32,
        "start_time": "2022-05-23T20:06:36.773Z"
      },
      {
        "duration": 24,
        "start_time": "2022-05-23T20:06:36.807Z"
      },
      {
        "duration": 11,
        "start_time": "2022-05-23T20:06:36.833Z"
      },
      {
        "duration": 8,
        "start_time": "2022-05-23T20:06:36.846Z"
      },
      {
        "duration": 47,
        "start_time": "2022-05-23T20:06:36.855Z"
      },
      {
        "duration": 10,
        "start_time": "2022-05-23T20:06:36.904Z"
      },
      {
        "duration": 278,
        "start_time": "2022-05-23T20:06:36.916Z"
      },
      {
        "duration": 10,
        "start_time": "2022-05-23T20:06:37.201Z"
      },
      {
        "duration": 257,
        "start_time": "2022-05-23T20:06:37.213Z"
      },
      {
        "duration": 11,
        "start_time": "2022-05-23T20:06:37.474Z"
      },
      {
        "duration": 20,
        "start_time": "2022-05-23T20:06:37.487Z"
      },
      {
        "duration": 13,
        "start_time": "2022-05-23T20:06:37.508Z"
      },
      {
        "duration": 3,
        "start_time": "2022-05-23T20:06:37.523Z"
      },
      {
        "duration": 37,
        "start_time": "2022-05-23T20:06:37.528Z"
      },
      {
        "duration": 3,
        "start_time": "2022-05-23T20:06:37.567Z"
      },
      {
        "duration": 36,
        "start_time": "2022-05-23T20:06:37.572Z"
      },
      {
        "duration": 11,
        "start_time": "2022-05-23T20:06:37.609Z"
      },
      {
        "duration": 13,
        "start_time": "2022-05-23T20:06:37.622Z"
      },
      {
        "duration": 7,
        "start_time": "2022-05-23T20:06:37.636Z"
      },
      {
        "duration": 5,
        "start_time": "2022-05-23T20:06:37.645Z"
      },
      {
        "duration": 7,
        "start_time": "2022-05-23T20:06:37.651Z"
      },
      {
        "duration": 5,
        "start_time": "2022-05-23T20:06:37.659Z"
      },
      {
        "duration": 4,
        "start_time": "2022-05-23T20:06:37.666Z"
      },
      {
        "duration": 32,
        "start_time": "2022-05-23T20:06:37.672Z"
      },
      {
        "duration": 8,
        "start_time": "2022-05-23T20:06:37.706Z"
      },
      {
        "duration": 254,
        "start_time": "2022-05-23T20:06:37.715Z"
      },
      {
        "duration": 5,
        "start_time": "2022-05-23T20:06:37.971Z"
      },
      {
        "duration": 12,
        "start_time": "2022-05-23T20:06:37.977Z"
      },
      {
        "duration": 245,
        "start_time": "2022-05-23T20:06:37.990Z"
      },
      {
        "duration": 357,
        "start_time": "2022-05-23T20:06:38.237Z"
      },
      {
        "duration": 21,
        "start_time": "2022-05-23T20:06:38.595Z"
      },
      {
        "duration": 6,
        "start_time": "2022-05-23T20:06:38.618Z"
      },
      {
        "duration": 23,
        "start_time": "2022-05-23T20:06:38.626Z"
      },
      {
        "duration": 16,
        "start_time": "2022-05-23T20:06:38.650Z"
      },
      {
        "duration": 34,
        "start_time": "2022-05-23T20:06:38.668Z"
      },
      {
        "duration": 3,
        "start_time": "2022-05-23T20:06:38.704Z"
      },
      {
        "duration": 7,
        "start_time": "2022-05-23T20:06:38.709Z"
      },
      {
        "duration": 5,
        "start_time": "2022-05-23T20:06:38.717Z"
      },
      {
        "duration": 12,
        "start_time": "2022-05-23T20:06:38.724Z"
      },
      {
        "duration": 7,
        "start_time": "2022-05-23T20:06:38.738Z"
      },
      {
        "duration": 4,
        "start_time": "2022-05-23T20:06:38.746Z"
      },
      {
        "duration": 5,
        "start_time": "2022-05-23T20:06:38.752Z"
      },
      {
        "duration": 5,
        "start_time": "2022-05-23T20:06:38.759Z"
      },
      {
        "duration": 6,
        "start_time": "2022-05-23T20:06:38.765Z"
      },
      {
        "duration": 6029,
        "start_time": "2022-05-23T20:06:38.773Z"
      },
      {
        "duration": 1419,
        "start_time": "2022-05-23T20:06:44.803Z"
      },
      {
        "duration": 117,
        "start_time": "2022-05-23T20:06:46.224Z"
      },
      {
        "duration": 5,
        "start_time": "2022-05-23T20:06:46.343Z"
      },
      {
        "duration": 7,
        "start_time": "2022-05-23T20:06:46.349Z"
      },
      {
        "duration": 8,
        "start_time": "2022-05-23T20:06:46.358Z"
      },
      {
        "duration": 25351,
        "start_time": "2022-05-23T20:06:46.367Z"
      },
      {
        "duration": 6,
        "start_time": "2022-05-23T20:07:11.720Z"
      },
      {
        "duration": 7,
        "start_time": "2022-05-23T20:07:11.727Z"
      },
      {
        "duration": 180,
        "start_time": "2022-05-23T20:07:11.736Z"
      },
      {
        "duration": 10,
        "start_time": "2022-05-23T20:07:12.003Z"
      },
      {
        "duration": 92,
        "start_time": "2022-05-23T20:07:12.016Z"
      },
      {
        "duration": 11,
        "start_time": "2022-05-23T20:07:12.110Z"
      },
      {
        "duration": 8,
        "start_time": "2022-05-23T20:07:12.122Z"
      },
      {
        "duration": 408,
        "start_time": "2022-05-23T20:07:12.131Z"
      },
      {
        "duration": 649,
        "start_time": "2022-05-23T20:11:23.351Z"
      },
      {
        "duration": 4,
        "start_time": "2022-05-23T20:11:33.408Z"
      },
      {
        "duration": 290,
        "start_time": "2022-05-23T20:11:36.163Z"
      },
      {
        "duration": 10,
        "start_time": "2022-05-23T20:13:07.237Z"
      },
      {
        "duration": 1536,
        "start_time": "2022-05-26T08:46:47.616Z"
      },
      {
        "duration": 147,
        "start_time": "2022-05-26T08:46:49.154Z"
      },
      {
        "duration": 16,
        "start_time": "2022-05-26T08:46:49.302Z"
      },
      {
        "duration": 46,
        "start_time": "2022-05-26T08:46:49.320Z"
      },
      {
        "duration": 10,
        "start_time": "2022-05-26T08:46:49.368Z"
      },
      {
        "duration": 107,
        "start_time": "2022-05-26T08:46:49.380Z"
      },
      {
        "duration": 10,
        "start_time": "2022-05-26T08:46:49.489Z"
      },
      {
        "duration": 49,
        "start_time": "2022-05-26T08:46:49.500Z"
      },
      {
        "duration": 6,
        "start_time": "2022-05-26T08:46:49.551Z"
      },
      {
        "duration": 31,
        "start_time": "2022-05-26T08:46:49.560Z"
      },
      {
        "duration": 19,
        "start_time": "2022-05-26T08:46:49.593Z"
      },
      {
        "duration": 5,
        "start_time": "2022-05-26T08:46:51.121Z"
      },
      {
        "duration": 24,
        "start_time": "2022-05-26T08:47:09.900Z"
      },
      {
        "duration": 6,
        "start_time": "2022-05-26T08:50:23.880Z"
      },
      {
        "duration": 54,
        "start_time": "2022-05-26T08:50:23.888Z"
      },
      {
        "duration": 11,
        "start_time": "2022-05-26T08:50:23.944Z"
      },
      {
        "duration": 24,
        "start_time": "2022-05-26T08:50:23.957Z"
      },
      {
        "duration": 8,
        "start_time": "2022-05-26T08:50:23.984Z"
      },
      {
        "duration": 26,
        "start_time": "2022-05-26T08:50:23.993Z"
      },
      {
        "duration": 10,
        "start_time": "2022-05-26T08:50:24.020Z"
      },
      {
        "duration": 19,
        "start_time": "2022-05-26T08:50:24.032Z"
      },
      {
        "duration": 7,
        "start_time": "2022-05-26T08:50:24.053Z"
      },
      {
        "duration": 28,
        "start_time": "2022-05-26T08:50:24.062Z"
      },
      {
        "duration": 19,
        "start_time": "2022-05-26T08:50:24.103Z"
      },
      {
        "duration": 9,
        "start_time": "2022-05-26T08:50:24.124Z"
      },
      {
        "duration": 28,
        "start_time": "2022-05-26T08:50:24.134Z"
      },
      {
        "duration": 3,
        "start_time": "2022-05-26T08:50:24.164Z"
      },
      {
        "duration": 34,
        "start_time": "2022-05-26T08:50:24.168Z"
      },
      {
        "duration": 20,
        "start_time": "2022-05-26T08:50:24.204Z"
      },
      {
        "duration": 12,
        "start_time": "2022-05-26T08:50:24.225Z"
      },
      {
        "duration": 31,
        "start_time": "2022-05-26T08:50:24.239Z"
      },
      {
        "duration": 39,
        "start_time": "2022-05-26T08:50:24.271Z"
      },
      {
        "duration": 5,
        "start_time": "2022-05-26T08:50:24.311Z"
      },
      {
        "duration": 24,
        "start_time": "2022-05-26T08:50:24.318Z"
      },
      {
        "duration": 11,
        "start_time": "2022-05-26T08:50:24.344Z"
      },
      {
        "duration": 6,
        "start_time": "2022-05-26T08:50:24.357Z"
      },
      {
        "duration": 18,
        "start_time": "2022-05-26T08:50:24.402Z"
      },
      {
        "duration": 8,
        "start_time": "2022-05-26T08:50:24.422Z"
      },
      {
        "duration": 431,
        "start_time": "2022-05-26T08:50:24.432Z"
      },
      {
        "duration": 9,
        "start_time": "2022-05-26T08:50:24.865Z"
      },
      {
        "duration": 287,
        "start_time": "2022-05-26T08:50:24.876Z"
      },
      {
        "duration": 12,
        "start_time": "2022-05-26T08:50:25.167Z"
      },
      {
        "duration": 26,
        "start_time": "2022-05-26T08:50:25.180Z"
      },
      {
        "duration": 15,
        "start_time": "2022-05-26T08:50:25.208Z"
      },
      {
        "duration": 3,
        "start_time": "2022-05-26T08:50:25.225Z"
      },
      {
        "duration": 40,
        "start_time": "2022-05-26T08:50:25.230Z"
      },
      {
        "duration": 3,
        "start_time": "2022-05-26T08:50:25.302Z"
      },
      {
        "duration": 8,
        "start_time": "2022-05-26T08:50:25.307Z"
      },
      {
        "duration": 11,
        "start_time": "2022-05-26T08:50:25.317Z"
      },
      {
        "duration": 9,
        "start_time": "2022-05-26T08:50:25.330Z"
      },
      {
        "duration": 8,
        "start_time": "2022-05-26T08:50:25.340Z"
      },
      {
        "duration": 5,
        "start_time": "2022-05-26T08:50:25.350Z"
      },
      {
        "duration": 9,
        "start_time": "2022-05-26T08:50:25.356Z"
      },
      {
        "duration": 7,
        "start_time": "2022-05-26T08:50:25.367Z"
      },
      {
        "duration": 28,
        "start_time": "2022-05-26T08:50:25.375Z"
      },
      {
        "duration": 6,
        "start_time": "2022-05-26T08:50:25.405Z"
      },
      {
        "duration": 12,
        "start_time": "2022-05-26T08:50:25.414Z"
      },
      {
        "duration": 276,
        "start_time": "2022-05-26T08:50:25.428Z"
      },
      {
        "duration": 4,
        "start_time": "2022-05-26T08:50:25.706Z"
      },
      {
        "duration": 10,
        "start_time": "2022-05-26T08:50:25.712Z"
      },
      {
        "duration": 272,
        "start_time": "2022-05-26T08:50:25.724Z"
      },
      {
        "duration": 426,
        "start_time": "2022-05-26T08:50:26.001Z"
      },
      {
        "duration": 12,
        "start_time": "2022-05-26T08:50:26.429Z"
      },
      {
        "duration": 5,
        "start_time": "2022-05-26T08:50:26.443Z"
      },
      {
        "duration": 28,
        "start_time": "2022-05-26T08:50:26.450Z"
      },
      {
        "duration": 37,
        "start_time": "2022-05-26T08:50:26.479Z"
      },
      {
        "duration": 5,
        "start_time": "2022-05-26T08:50:26.518Z"
      },
      {
        "duration": 8,
        "start_time": "2022-05-26T08:50:26.525Z"
      },
      {
        "duration": 7,
        "start_time": "2022-05-26T08:50:26.535Z"
      },
      {
        "duration": 5,
        "start_time": "2022-05-26T08:50:26.544Z"
      },
      {
        "duration": 12,
        "start_time": "2022-05-26T08:50:26.551Z"
      },
      {
        "duration": 7,
        "start_time": "2022-05-26T08:50:26.565Z"
      },
      {
        "duration": 30,
        "start_time": "2022-05-26T08:50:26.573Z"
      },
      {
        "duration": 2,
        "start_time": "2022-05-26T08:50:26.605Z"
      },
      {
        "duration": 6,
        "start_time": "2022-05-26T08:50:26.609Z"
      },
      {
        "duration": 6,
        "start_time": "2022-05-26T08:50:26.617Z"
      },
      {
        "duration": 6634,
        "start_time": "2022-05-26T08:50:26.625Z"
      },
      {
        "duration": 1103,
        "start_time": "2022-05-26T08:50:33.261Z"
      },
      {
        "duration": 131,
        "start_time": "2022-05-26T08:50:34.366Z"
      },
      {
        "duration": 6,
        "start_time": "2022-05-26T08:50:34.501Z"
      },
      {
        "duration": 8,
        "start_time": "2022-05-26T08:50:34.508Z"
      },
      {
        "duration": 7,
        "start_time": "2022-05-26T08:50:34.518Z"
      },
      {
        "duration": 26981,
        "start_time": "2022-05-26T08:50:34.526Z"
      },
      {
        "duration": 5,
        "start_time": "2022-05-26T08:51:01.509Z"
      },
      {
        "duration": 14,
        "start_time": "2022-05-26T08:51:01.516Z"
      },
      {
        "duration": 475,
        "start_time": "2022-05-26T08:51:01.532Z"
      },
      {
        "duration": 94,
        "start_time": "2022-05-26T08:51:02.009Z"
      },
      {
        "duration": 98,
        "start_time": "2022-05-26T08:51:02.106Z"
      },
      {
        "duration": 19,
        "start_time": "2022-05-26T08:51:02.206Z"
      },
      {
        "duration": 390,
        "start_time": "2022-05-26T08:51:02.227Z"
      },
      {
        "duration": 781,
        "start_time": "2022-05-26T08:52:52.426Z"
      },
      {
        "duration": 11,
        "start_time": "2022-05-26T08:53:46.617Z"
      },
      {
        "duration": 10,
        "start_time": "2022-05-26T08:54:09.366Z"
      },
      {
        "duration": 18,
        "start_time": "2022-05-26T08:57:55.175Z"
      },
      {
        "duration": 15,
        "start_time": "2022-05-26T08:58:47.270Z"
      },
      {
        "duration": 1375,
        "start_time": "2022-05-26T08:59:33.474Z"
      },
      {
        "duration": 51,
        "start_time": "2022-05-26T08:59:34.852Z"
      },
      {
        "duration": 14,
        "start_time": "2022-05-26T08:59:34.905Z"
      },
      {
        "duration": 25,
        "start_time": "2022-05-26T08:59:34.922Z"
      },
      {
        "duration": 9,
        "start_time": "2022-05-26T08:59:34.948Z"
      },
      {
        "duration": 25,
        "start_time": "2022-05-26T08:59:34.958Z"
      },
      {
        "duration": 11,
        "start_time": "2022-05-26T08:59:34.985Z"
      },
      {
        "duration": 22,
        "start_time": "2022-05-26T08:59:34.997Z"
      },
      {
        "duration": 7,
        "start_time": "2022-05-26T08:59:35.021Z"
      },
      {
        "duration": 29,
        "start_time": "2022-05-26T08:59:35.031Z"
      },
      {
        "duration": 18,
        "start_time": "2022-05-26T08:59:35.062Z"
      },
      {
        "duration": 21,
        "start_time": "2022-05-26T08:59:35.082Z"
      },
      {
        "duration": 25,
        "start_time": "2022-05-26T08:59:35.105Z"
      },
      {
        "duration": 4,
        "start_time": "2022-05-26T08:59:35.131Z"
      },
      {
        "duration": 13,
        "start_time": "2022-05-26T08:59:35.137Z"
      },
      {
        "duration": 31,
        "start_time": "2022-05-26T08:59:35.152Z"
      },
      {
        "duration": 24,
        "start_time": "2022-05-26T08:59:35.185Z"
      },
      {
        "duration": 32,
        "start_time": "2022-05-26T08:59:35.211Z"
      },
      {
        "duration": 11,
        "start_time": "2022-05-26T08:59:35.244Z"
      },
      {
        "duration": 8,
        "start_time": "2022-05-26T08:59:35.257Z"
      },
      {
        "duration": 53,
        "start_time": "2022-05-26T08:59:35.266Z"
      },
      {
        "duration": 11,
        "start_time": "2022-05-26T08:59:35.321Z"
      },
      {
        "duration": 10,
        "start_time": "2022-05-26T08:59:35.333Z"
      },
      {
        "duration": 18,
        "start_time": "2022-05-26T08:59:35.344Z"
      },
      {
        "duration": 8,
        "start_time": "2022-05-26T08:59:35.364Z"
      },
      {
        "duration": 324,
        "start_time": "2022-05-26T08:59:35.374Z"
      },
      {
        "duration": 9,
        "start_time": "2022-05-26T08:59:35.702Z"
      },
      {
        "duration": 298,
        "start_time": "2022-05-26T08:59:35.715Z"
      },
      {
        "duration": 11,
        "start_time": "2022-05-26T08:59:36.016Z"
      },
      {
        "duration": 10,
        "start_time": "2022-05-26T08:59:36.029Z"
      },
      {
        "duration": 13,
        "start_time": "2022-05-26T08:59:36.040Z"
      },
      {
        "duration": 3,
        "start_time": "2022-05-26T08:59:36.056Z"
      },
      {
        "duration": 75,
        "start_time": "2022-05-26T08:59:36.061Z"
      },
      {
        "duration": 3,
        "start_time": "2022-05-26T08:59:36.137Z"
      },
      {
        "duration": 8,
        "start_time": "2022-05-26T08:59:36.142Z"
      },
      {
        "duration": 8,
        "start_time": "2022-05-26T08:59:36.151Z"
      },
      {
        "duration": 7,
        "start_time": "2022-05-26T08:59:36.161Z"
      },
      {
        "duration": 41,
        "start_time": "2022-05-26T08:59:36.169Z"
      },
      {
        "duration": 6,
        "start_time": "2022-05-26T08:59:36.212Z"
      },
      {
        "duration": 8,
        "start_time": "2022-05-26T08:59:36.220Z"
      },
      {
        "duration": 7,
        "start_time": "2022-05-26T08:59:36.230Z"
      },
      {
        "duration": 6,
        "start_time": "2022-05-26T08:59:36.239Z"
      },
      {
        "duration": 10,
        "start_time": "2022-05-26T08:59:36.246Z"
      },
      {
        "duration": 8,
        "start_time": "2022-05-26T08:59:36.258Z"
      },
      {
        "duration": 288,
        "start_time": "2022-05-26T08:59:36.267Z"
      },
      {
        "duration": 5,
        "start_time": "2022-05-26T08:59:36.557Z"
      },
      {
        "duration": 14,
        "start_time": "2022-05-26T08:59:36.563Z"
      },
      {
        "duration": 279,
        "start_time": "2022-05-26T08:59:36.578Z"
      },
      {
        "duration": 418,
        "start_time": "2022-05-26T08:59:36.859Z"
      },
      {
        "duration": 11,
        "start_time": "2022-05-26T08:59:37.279Z"
      },
      {
        "duration": 5,
        "start_time": "2022-05-26T08:59:37.301Z"
      },
      {
        "duration": 25,
        "start_time": "2022-05-26T08:59:37.308Z"
      },
      {
        "duration": 19,
        "start_time": "2022-05-26T08:59:37.335Z"
      },
      {
        "duration": 5,
        "start_time": "2022-05-26T08:59:37.356Z"
      },
      {
        "duration": 5,
        "start_time": "2022-05-26T08:59:37.363Z"
      },
      {
        "duration": 4,
        "start_time": "2022-05-26T08:59:37.369Z"
      },
      {
        "duration": 5,
        "start_time": "2022-05-26T08:59:37.403Z"
      },
      {
        "duration": 12,
        "start_time": "2022-05-26T08:59:37.410Z"
      },
      {
        "duration": 8,
        "start_time": "2022-05-26T08:59:37.424Z"
      },
      {
        "duration": 9,
        "start_time": "2022-05-26T08:59:37.433Z"
      },
      {
        "duration": 5,
        "start_time": "2022-05-26T08:59:37.443Z"
      },
      {
        "duration": 6,
        "start_time": "2022-05-26T08:59:37.449Z"
      },
      {
        "duration": 4,
        "start_time": "2022-05-26T08:59:37.457Z"
      },
      {
        "duration": 6840,
        "start_time": "2022-05-26T08:59:37.463Z"
      },
      {
        "duration": 1108,
        "start_time": "2022-05-26T08:59:44.305Z"
      },
      {
        "duration": 127,
        "start_time": "2022-05-26T08:59:45.415Z"
      },
      {
        "duration": 5,
        "start_time": "2022-05-26T08:59:45.544Z"
      },
      {
        "duration": 10,
        "start_time": "2022-05-26T08:59:45.551Z"
      },
      {
        "duration": 7,
        "start_time": "2022-05-26T08:59:45.562Z"
      },
      {
        "duration": 27451,
        "start_time": "2022-05-26T08:59:45.571Z"
      },
      {
        "duration": 5,
        "start_time": "2022-05-26T09:00:13.024Z"
      },
      {
        "duration": 8,
        "start_time": "2022-05-26T09:00:13.031Z"
      },
      {
        "duration": 371,
        "start_time": "2022-05-26T09:00:13.041Z"
      },
      {
        "duration": 94,
        "start_time": "2022-05-26T09:00:13.509Z"
      },
      {
        "duration": 12,
        "start_time": "2022-05-26T09:00:13.604Z"
      },
      {
        "duration": 21,
        "start_time": "2022-05-26T09:00:13.617Z"
      },
      {
        "duration": 390,
        "start_time": "2022-05-26T09:00:14.057Z"
      },
      {
        "duration": 14,
        "start_time": "2022-05-26T09:00:14.449Z"
      },
      {
        "duration": 128,
        "start_time": "2022-05-26T09:54:02.758Z"
      },
      {
        "duration": 1420,
        "start_time": "2022-05-26T09:54:14.342Z"
      },
      {
        "duration": 49,
        "start_time": "2022-05-26T09:54:15.764Z"
      },
      {
        "duration": 18,
        "start_time": "2022-05-26T09:54:15.815Z"
      },
      {
        "duration": 21,
        "start_time": "2022-05-26T09:54:15.835Z"
      },
      {
        "duration": 9,
        "start_time": "2022-05-26T09:54:15.857Z"
      },
      {
        "duration": 29,
        "start_time": "2022-05-26T09:54:15.867Z"
      },
      {
        "duration": 13,
        "start_time": "2022-05-26T09:54:15.898Z"
      },
      {
        "duration": 20,
        "start_time": "2022-05-26T09:54:15.913Z"
      },
      {
        "duration": 8,
        "start_time": "2022-05-26T09:54:15.934Z"
      },
      {
        "duration": 27,
        "start_time": "2022-05-26T09:54:15.944Z"
      },
      {
        "duration": 31,
        "start_time": "2022-05-26T09:54:15.973Z"
      },
      {
        "duration": 7,
        "start_time": "2022-05-26T09:54:16.005Z"
      },
      {
        "duration": 26,
        "start_time": "2022-05-26T09:54:16.014Z"
      },
      {
        "duration": 3,
        "start_time": "2022-05-26T09:54:16.041Z"
      },
      {
        "duration": 5,
        "start_time": "2022-05-26T09:54:16.046Z"
      },
      {
        "duration": 21,
        "start_time": "2022-05-26T09:54:16.053Z"
      },
      {
        "duration": 17,
        "start_time": "2022-05-26T09:54:16.102Z"
      },
      {
        "duration": 37,
        "start_time": "2022-05-26T09:54:16.120Z"
      },
      {
        "duration": 8,
        "start_time": "2022-05-26T09:54:16.159Z"
      },
      {
        "duration": 6,
        "start_time": "2022-05-26T09:54:16.169Z"
      },
      {
        "duration": 45,
        "start_time": "2022-05-26T09:54:16.176Z"
      },
      {
        "duration": 10,
        "start_time": "2022-05-26T09:54:16.223Z"
      },
      {
        "duration": 10,
        "start_time": "2022-05-26T09:54:16.234Z"
      },
      {
        "duration": 23,
        "start_time": "2022-05-26T09:54:16.245Z"
      },
      {
        "duration": 9,
        "start_time": "2022-05-26T09:54:16.269Z"
      },
      {
        "duration": 288,
        "start_time": "2022-05-26T09:54:16.302Z"
      },
      {
        "duration": 16,
        "start_time": "2022-05-26T09:54:16.592Z"
      },
      {
        "duration": 274,
        "start_time": "2022-05-26T09:54:16.612Z"
      },
      {
        "duration": 21,
        "start_time": "2022-05-26T09:54:16.887Z"
      },
      {
        "duration": 29,
        "start_time": "2022-05-26T09:54:16.910Z"
      },
      {
        "duration": 18,
        "start_time": "2022-05-26T09:54:16.940Z"
      },
      {
        "duration": 4,
        "start_time": "2022-05-26T09:54:16.960Z"
      },
      {
        "duration": 47,
        "start_time": "2022-05-26T09:54:16.966Z"
      },
      {
        "duration": 3,
        "start_time": "2022-05-26T09:54:17.014Z"
      },
      {
        "duration": 15,
        "start_time": "2022-05-26T09:54:17.018Z"
      },
      {
        "duration": 13,
        "start_time": "2022-05-26T09:54:17.034Z"
      },
      {
        "duration": 17,
        "start_time": "2022-05-26T09:54:17.048Z"
      },
      {
        "duration": 12,
        "start_time": "2022-05-26T09:54:17.066Z"
      },
      {
        "duration": 13,
        "start_time": "2022-05-26T09:54:17.080Z"
      },
      {
        "duration": 18,
        "start_time": "2022-05-26T09:54:17.094Z"
      },
      {
        "duration": 10,
        "start_time": "2022-05-26T09:54:17.114Z"
      },
      {
        "duration": 25,
        "start_time": "2022-05-26T09:54:17.125Z"
      },
      {
        "duration": 7,
        "start_time": "2022-05-26T09:54:17.152Z"
      },
      {
        "duration": 11,
        "start_time": "2022-05-26T09:54:17.160Z"
      },
      {
        "duration": 250,
        "start_time": "2022-05-26T09:54:17.173Z"
      },
      {
        "duration": 5,
        "start_time": "2022-05-26T09:54:17.425Z"
      },
      {
        "duration": 9,
        "start_time": "2022-05-26T09:54:17.432Z"
      },
      {
        "duration": 289,
        "start_time": "2022-05-26T09:54:17.443Z"
      },
      {
        "duration": 415,
        "start_time": "2022-05-26T09:54:17.734Z"
      },
      {
        "duration": 12,
        "start_time": "2022-05-26T09:54:18.151Z"
      },
      {
        "duration": 8,
        "start_time": "2022-05-26T09:54:18.165Z"
      },
      {
        "duration": 39,
        "start_time": "2022-05-26T09:54:18.174Z"
      },
      {
        "duration": 17,
        "start_time": "2022-05-26T09:54:18.215Z"
      },
      {
        "duration": 6,
        "start_time": "2022-05-26T09:54:18.234Z"
      },
      {
        "duration": 5,
        "start_time": "2022-05-26T09:54:18.241Z"
      },
      {
        "duration": 4,
        "start_time": "2022-05-26T09:54:18.247Z"
      },
      {
        "duration": 6,
        "start_time": "2022-05-26T09:54:18.252Z"
      },
      {
        "duration": 43,
        "start_time": "2022-05-26T09:54:18.259Z"
      },
      {
        "duration": 7,
        "start_time": "2022-05-26T09:54:18.304Z"
      },
      {
        "duration": 6,
        "start_time": "2022-05-26T09:54:18.313Z"
      },
      {
        "duration": 5,
        "start_time": "2022-05-26T09:54:18.321Z"
      },
      {
        "duration": 6,
        "start_time": "2022-05-26T09:54:18.327Z"
      },
      {
        "duration": 4,
        "start_time": "2022-05-26T09:54:18.335Z"
      },
      {
        "duration": 8183,
        "start_time": "2022-05-26T09:54:18.341Z"
      },
      {
        "duration": 1104,
        "start_time": "2022-05-26T09:54:26.526Z"
      },
      {
        "duration": 122,
        "start_time": "2022-05-26T09:54:27.632Z"
      },
      {
        "duration": 5,
        "start_time": "2022-05-26T09:54:27.756Z"
      },
      {
        "duration": 8,
        "start_time": "2022-05-26T09:54:27.762Z"
      },
      {
        "duration": 7,
        "start_time": "2022-05-26T09:54:27.772Z"
      },
      {
        "duration": 1459,
        "start_time": "2022-05-27T08:13:50.306Z"
      },
      {
        "duration": 114,
        "start_time": "2022-05-27T08:13:51.768Z"
      },
      {
        "duration": 14,
        "start_time": "2022-05-27T08:13:51.884Z"
      },
      {
        "duration": 90,
        "start_time": "2022-05-27T08:13:51.900Z"
      },
      {
        "duration": 8,
        "start_time": "2022-05-27T08:13:51.991Z"
      },
      {
        "duration": 49,
        "start_time": "2022-05-27T08:13:52.001Z"
      },
      {
        "duration": 9,
        "start_time": "2022-05-27T08:13:52.052Z"
      },
      {
        "duration": 50,
        "start_time": "2022-05-27T08:13:52.063Z"
      },
      {
        "duration": 6,
        "start_time": "2022-05-27T08:13:52.114Z"
      },
      {
        "duration": 24,
        "start_time": "2022-05-27T08:13:52.122Z"
      },
      {
        "duration": 15,
        "start_time": "2022-05-27T08:13:52.147Z"
      },
      {
        "duration": 6,
        "start_time": "2022-05-27T08:13:52.164Z"
      },
      {
        "duration": 22,
        "start_time": "2022-05-27T08:13:52.171Z"
      },
      {
        "duration": 4,
        "start_time": "2022-05-27T08:13:52.194Z"
      },
      {
        "duration": 7,
        "start_time": "2022-05-27T08:13:52.199Z"
      },
      {
        "duration": 17,
        "start_time": "2022-05-27T08:13:52.226Z"
      },
      {
        "duration": 12,
        "start_time": "2022-05-27T08:13:52.245Z"
      },
      {
        "duration": 26,
        "start_time": "2022-05-27T08:13:52.258Z"
      },
      {
        "duration": 9,
        "start_time": "2022-05-27T08:13:52.286Z"
      },
      {
        "duration": 5,
        "start_time": "2022-05-27T08:13:52.327Z"
      },
      {
        "duration": 21,
        "start_time": "2022-05-27T08:13:52.333Z"
      },
      {
        "duration": 10,
        "start_time": "2022-05-27T08:13:52.355Z"
      },
      {
        "duration": 7,
        "start_time": "2022-05-27T08:13:52.366Z"
      },
      {
        "duration": 14,
        "start_time": "2022-05-27T08:13:52.375Z"
      },
      {
        "duration": 37,
        "start_time": "2022-05-27T08:13:52.390Z"
      },
      {
        "duration": 273,
        "start_time": "2022-05-27T08:13:52.428Z"
      },
      {
        "duration": 8,
        "start_time": "2022-05-27T08:13:52.703Z"
      },
      {
        "duration": 250,
        "start_time": "2022-05-27T08:13:52.715Z"
      },
      {
        "duration": 11,
        "start_time": "2022-05-27T08:13:52.966Z"
      },
      {
        "duration": 9,
        "start_time": "2022-05-27T08:13:52.978Z"
      },
      {
        "duration": 11,
        "start_time": "2022-05-27T08:13:52.988Z"
      },
      {
        "duration": 27,
        "start_time": "2022-05-27T08:13:53.000Z"
      },
      {
        "duration": 44,
        "start_time": "2022-05-27T08:13:53.029Z"
      },
      {
        "duration": 2,
        "start_time": "2022-05-27T08:13:53.075Z"
      },
      {
        "duration": 9,
        "start_time": "2022-05-27T08:13:53.079Z"
      },
      {
        "duration": 10,
        "start_time": "2022-05-27T08:13:53.090Z"
      },
      {
        "duration": 6,
        "start_time": "2022-05-27T08:13:53.101Z"
      },
      {
        "duration": 23,
        "start_time": "2022-05-27T08:13:53.108Z"
      },
      {
        "duration": 9,
        "start_time": "2022-05-27T08:13:53.132Z"
      },
      {
        "duration": 9,
        "start_time": "2022-05-27T08:13:53.142Z"
      },
      {
        "duration": 7,
        "start_time": "2022-05-27T08:13:53.152Z"
      },
      {
        "duration": 6,
        "start_time": "2022-05-27T08:13:53.160Z"
      },
      {
        "duration": 5,
        "start_time": "2022-05-27T08:13:53.167Z"
      },
      {
        "duration": 7,
        "start_time": "2022-05-27T08:13:53.174Z"
      },
      {
        "duration": 251,
        "start_time": "2022-05-27T08:13:53.183Z"
      },
      {
        "duration": 5,
        "start_time": "2022-05-27T08:13:53.435Z"
      },
      {
        "duration": 10,
        "start_time": "2022-05-27T08:13:53.441Z"
      },
      {
        "duration": 239,
        "start_time": "2022-05-27T08:13:53.453Z"
      },
      {
        "duration": 417,
        "start_time": "2022-05-27T08:13:53.694Z"
      },
      {
        "duration": 16,
        "start_time": "2022-05-27T08:13:54.113Z"
      },
      {
        "duration": 4,
        "start_time": "2022-05-27T08:13:54.130Z"
      },
      {
        "duration": 23,
        "start_time": "2022-05-27T08:13:54.135Z"
      },
      {
        "duration": 14,
        "start_time": "2022-05-27T08:13:54.160Z"
      },
      {
        "duration": 4,
        "start_time": "2022-05-27T08:13:54.176Z"
      },
      {
        "duration": 15,
        "start_time": "2022-05-27T08:13:54.181Z"
      },
      {
        "duration": 10,
        "start_time": "2022-05-27T08:13:54.197Z"
      },
      {
        "duration": 6,
        "start_time": "2022-05-27T08:13:54.209Z"
      },
      {
        "duration": 22,
        "start_time": "2022-05-27T08:13:54.227Z"
      },
      {
        "duration": 81,
        "start_time": "2022-05-27T08:13:54.251Z"
      },
      {
        "duration": 4,
        "start_time": "2022-05-27T08:13:54.334Z"
      },
      {
        "duration": 5,
        "start_time": "2022-05-27T08:13:54.340Z"
      },
      {
        "duration": 6,
        "start_time": "2022-05-27T08:13:54.346Z"
      },
      {
        "duration": 9,
        "start_time": "2022-05-27T08:13:54.353Z"
      },
      {
        "duration": 5821,
        "start_time": "2022-05-27T08:13:54.364Z"
      },
      {
        "duration": 1035,
        "start_time": "2022-05-27T08:14:00.187Z"
      },
      {
        "duration": 116,
        "start_time": "2022-05-27T08:14:01.223Z"
      },
      {
        "duration": 4,
        "start_time": "2022-05-27T08:14:01.341Z"
      },
      {
        "duration": 26,
        "start_time": "2022-05-27T08:14:01.346Z"
      },
      {
        "duration": 97,
        "start_time": "2022-05-27T08:14:01.373Z"
      },
      {
        "duration": 23409,
        "start_time": "2022-05-27T08:14:01.474Z"
      },
      {
        "duration": 5,
        "start_time": "2022-05-27T08:14:24.885Z"
      },
      {
        "duration": 8,
        "start_time": "2022-05-27T08:14:24.891Z"
      },
      {
        "duration": 335,
        "start_time": "2022-05-27T08:14:24.901Z"
      },
      {
        "duration": 8,
        "start_time": "2022-05-27T08:14:25.328Z"
      },
      {
        "duration": 3,
        "start_time": "2022-05-27T08:14:25.428Z"
      },
      {
        "duration": 14,
        "start_time": "2022-05-27T08:14:25.432Z"
      },
      {
        "duration": 371,
        "start_time": "2022-05-27T08:14:25.447Z"
      },
      {
        "duration": 12,
        "start_time": "2022-05-27T08:14:25.826Z"
      },
      {
        "duration": 126,
        "start_time": "2022-05-27T08:14:25.839Z"
      },
      {
        "duration": 0,
        "start_time": "2022-05-27T08:14:25.967Z"
      },
      {
        "duration": 0,
        "start_time": "2022-05-27T08:14:25.968Z"
      },
      {
        "duration": 9,
        "start_time": "2022-05-27T08:36:42.271Z"
      },
      {
        "duration": 789,
        "start_time": "2022-05-27T08:36:59.954Z"
      },
      {
        "duration": 18,
        "start_time": "2022-05-27T08:37:33.928Z"
      },
      {
        "duration": 1284,
        "start_time": "2022-05-27T08:39:56.804Z"
      },
      {
        "duration": 48,
        "start_time": "2022-05-27T08:39:58.090Z"
      },
      {
        "duration": 12,
        "start_time": "2022-05-27T08:39:58.140Z"
      },
      {
        "duration": 21,
        "start_time": "2022-05-27T08:39:58.154Z"
      },
      {
        "duration": 8,
        "start_time": "2022-05-27T08:39:58.176Z"
      },
      {
        "duration": 28,
        "start_time": "2022-05-27T08:39:58.185Z"
      },
      {
        "duration": 9,
        "start_time": "2022-05-27T08:39:58.214Z"
      },
      {
        "duration": 20,
        "start_time": "2022-05-27T08:39:58.226Z"
      },
      {
        "duration": 6,
        "start_time": "2022-05-27T08:39:58.247Z"
      },
      {
        "duration": 25,
        "start_time": "2022-05-27T08:39:58.255Z"
      },
      {
        "duration": 15,
        "start_time": "2022-05-27T08:39:58.281Z"
      },
      {
        "duration": 5,
        "start_time": "2022-05-27T08:39:58.297Z"
      },
      {
        "duration": 6,
        "start_time": "2022-05-27T08:39:58.303Z"
      },
      {
        "duration": 30,
        "start_time": "2022-05-27T08:39:58.310Z"
      },
      {
        "duration": 2,
        "start_time": "2022-05-27T08:39:58.342Z"
      },
      {
        "duration": 6,
        "start_time": "2022-05-27T08:39:58.345Z"
      },
      {
        "duration": 19,
        "start_time": "2022-05-27T08:39:58.352Z"
      },
      {
        "duration": 10,
        "start_time": "2022-05-27T08:39:58.372Z"
      },
      {
        "duration": 44,
        "start_time": "2022-05-27T08:39:58.384Z"
      },
      {
        "duration": 9,
        "start_time": "2022-05-27T08:39:58.430Z"
      },
      {
        "duration": 6,
        "start_time": "2022-05-27T08:39:58.441Z"
      },
      {
        "duration": 24,
        "start_time": "2022-05-27T08:39:58.449Z"
      },
      {
        "duration": 9,
        "start_time": "2022-05-27T08:39:58.475Z"
      },
      {
        "duration": 5,
        "start_time": "2022-05-27T08:39:58.486Z"
      },
      {
        "duration": 43,
        "start_time": "2022-05-27T08:39:58.493Z"
      },
      {
        "duration": 8,
        "start_time": "2022-05-27T08:39:58.538Z"
      },
      {
        "duration": 261,
        "start_time": "2022-05-27T08:39:58.547Z"
      },
      {
        "duration": 15,
        "start_time": "2022-05-27T08:39:58.812Z"
      },
      {
        "duration": 238,
        "start_time": "2022-05-27T08:39:58.828Z"
      },
      {
        "duration": 11,
        "start_time": "2022-05-27T08:39:59.067Z"
      },
      {
        "duration": 9,
        "start_time": "2022-05-27T08:39:59.080Z"
      },
      {
        "duration": 11,
        "start_time": "2022-05-27T08:39:59.091Z"
      },
      {
        "duration": 23,
        "start_time": "2022-05-27T08:39:59.104Z"
      },
      {
        "duration": 43,
        "start_time": "2022-05-27T08:39:59.128Z"
      },
      {
        "duration": 2,
        "start_time": "2022-05-27T08:39:59.173Z"
      },
      {
        "duration": 9,
        "start_time": "2022-05-27T08:39:59.177Z"
      },
      {
        "duration": 7,
        "start_time": "2022-05-27T08:39:59.187Z"
      },
      {
        "duration": 5,
        "start_time": "2022-05-27T08:39:59.196Z"
      },
      {
        "duration": 6,
        "start_time": "2022-05-27T08:39:59.203Z"
      },
      {
        "duration": 4,
        "start_time": "2022-05-27T08:39:59.226Z"
      },
      {
        "duration": 10,
        "start_time": "2022-05-27T08:39:59.232Z"
      },
      {
        "duration": 11,
        "start_time": "2022-05-27T08:39:59.244Z"
      },
      {
        "duration": 7,
        "start_time": "2022-05-27T08:39:59.257Z"
      },
      {
        "duration": 7,
        "start_time": "2022-05-27T08:39:59.265Z"
      },
      {
        "duration": 12,
        "start_time": "2022-05-27T08:39:59.273Z"
      },
      {
        "duration": 253,
        "start_time": "2022-05-27T08:39:59.286Z"
      },
      {
        "duration": 5,
        "start_time": "2022-05-27T08:39:59.541Z"
      },
      {
        "duration": 11,
        "start_time": "2022-05-27T08:39:59.548Z"
      },
      {
        "duration": 231,
        "start_time": "2022-05-27T08:39:59.561Z"
      },
      {
        "duration": 377,
        "start_time": "2022-05-27T08:39:59.794Z"
      },
      {
        "duration": 10,
        "start_time": "2022-05-27T08:40:00.173Z"
      },
      {
        "duration": 4,
        "start_time": "2022-05-27T08:40:00.184Z"
      },
      {
        "duration": 37,
        "start_time": "2022-05-27T08:40:00.189Z"
      },
      {
        "duration": 15,
        "start_time": "2022-05-27T08:40:00.228Z"
      },
      {
        "duration": 4,
        "start_time": "2022-05-27T08:40:00.245Z"
      },
      {
        "duration": 10,
        "start_time": "2022-05-27T08:40:00.250Z"
      },
      {
        "duration": 11,
        "start_time": "2022-05-27T08:40:00.261Z"
      },
      {
        "duration": 13,
        "start_time": "2022-05-27T08:40:00.274Z"
      },
      {
        "duration": 28,
        "start_time": "2022-05-27T08:40:00.288Z"
      },
      {
        "duration": 13,
        "start_time": "2022-05-27T08:40:00.317Z"
      },
      {
        "duration": 22,
        "start_time": "2022-05-27T08:40:00.332Z"
      },
      {
        "duration": 21,
        "start_time": "2022-05-27T08:40:00.356Z"
      },
      {
        "duration": 16,
        "start_time": "2022-05-27T08:40:00.379Z"
      },
      {
        "duration": 19,
        "start_time": "2022-05-27T08:40:00.396Z"
      },
      {
        "duration": 5891,
        "start_time": "2022-05-27T08:40:00.416Z"
      },
      {
        "duration": 1034,
        "start_time": "2022-05-27T08:40:06.308Z"
      },
      {
        "duration": 119,
        "start_time": "2022-05-27T08:40:07.343Z"
      },
      {
        "duration": 4,
        "start_time": "2022-05-27T08:40:07.463Z"
      },
      {
        "duration": 22,
        "start_time": "2022-05-27T08:40:07.468Z"
      },
      {
        "duration": 28,
        "start_time": "2022-05-27T08:40:07.492Z"
      },
      {
        "duration": 23719,
        "start_time": "2022-05-27T08:40:07.521Z"
      },
      {
        "duration": 5,
        "start_time": "2022-05-27T08:40:31.241Z"
      },
      {
        "duration": 21,
        "start_time": "2022-05-27T08:40:31.248Z"
      },
      {
        "duration": 366,
        "start_time": "2022-05-27T08:40:31.270Z"
      },
      {
        "duration": 8,
        "start_time": "2022-05-27T08:40:31.728Z"
      },
      {
        "duration": 20,
        "start_time": "2022-05-27T08:40:31.827Z"
      },
      {
        "duration": 29,
        "start_time": "2022-05-27T08:40:31.849Z"
      },
      {
        "duration": 388,
        "start_time": "2022-05-27T08:40:31.880Z"
      },
      {
        "duration": 12,
        "start_time": "2022-05-27T08:40:32.270Z"
      },
      {
        "duration": 27,
        "start_time": "2022-05-27T08:40:32.284Z"
      },
      {
        "duration": 54,
        "start_time": "2022-05-27T08:40:32.312Z"
      },
      {
        "duration": 18,
        "start_time": "2022-05-27T08:40:48.134Z"
      },
      {
        "duration": 7,
        "start_time": "2022-05-27T08:40:48.907Z"
      },
      {
        "duration": 3,
        "start_time": "2022-05-27T08:40:51.784Z"
      },
      {
        "duration": 13,
        "start_time": "2022-05-27T08:47:10.985Z"
      },
      {
        "duration": 121,
        "start_time": "2022-05-27T08:48:51.586Z"
      },
      {
        "duration": 17,
        "start_time": "2022-05-27T09:00:55.924Z"
      },
      {
        "duration": 7,
        "start_time": "2022-05-27T09:03:43.687Z"
      },
      {
        "duration": 8,
        "start_time": "2022-05-27T09:03:51.030Z"
      },
      {
        "duration": 16,
        "start_time": "2022-05-27T09:04:23.587Z"
      },
      {
        "duration": 8,
        "start_time": "2022-05-27T09:04:55.067Z"
      },
      {
        "duration": 8,
        "start_time": "2022-05-27T09:05:11.936Z"
      },
      {
        "duration": 9,
        "start_time": "2022-05-27T09:05:32.873Z"
      },
      {
        "duration": 13,
        "start_time": "2022-05-27T09:06:46.643Z"
      },
      {
        "duration": 14,
        "start_time": "2022-05-27T09:06:59.628Z"
      },
      {
        "duration": 7,
        "start_time": "2022-05-27T09:07:20.562Z"
      },
      {
        "duration": 17,
        "start_time": "2022-05-27T09:07:49.598Z"
      },
      {
        "duration": 7,
        "start_time": "2022-05-27T09:08:05.565Z"
      },
      {
        "duration": 9,
        "start_time": "2022-05-27T09:10:40.561Z"
      },
      {
        "duration": 13,
        "start_time": "2022-05-27T09:12:11.961Z"
      },
      {
        "duration": 10,
        "start_time": "2022-05-27T09:19:40.062Z"
      },
      {
        "duration": 9,
        "start_time": "2022-05-27T09:19:47.972Z"
      },
      {
        "duration": 10,
        "start_time": "2022-05-27T09:19:53.500Z"
      },
      {
        "duration": 9,
        "start_time": "2022-05-27T09:21:38.819Z"
      },
      {
        "duration": 8,
        "start_time": "2022-05-27T09:21:58.302Z"
      },
      {
        "duration": 15,
        "start_time": "2022-05-27T09:22:15.598Z"
      },
      {
        "duration": 9,
        "start_time": "2022-05-27T09:23:04.654Z"
      },
      {
        "duration": 10,
        "start_time": "2022-05-27T09:23:31.309Z"
      },
      {
        "duration": 5,
        "start_time": "2022-05-27T09:23:42.002Z"
      },
      {
        "duration": 6,
        "start_time": "2022-05-27T09:23:42.403Z"
      },
      {
        "duration": 10,
        "start_time": "2022-05-27T09:24:01.987Z"
      },
      {
        "duration": 55,
        "start_time": "2022-05-27T09:24:55.038Z"
      },
      {
        "duration": 9,
        "start_time": "2022-05-27T09:25:02.215Z"
      },
      {
        "duration": 9,
        "start_time": "2022-05-27T09:25:10.689Z"
      },
      {
        "duration": 11,
        "start_time": "2022-05-27T09:25:16.266Z"
      },
      {
        "duration": 10,
        "start_time": "2022-05-27T09:27:18.777Z"
      },
      {
        "duration": 7,
        "start_time": "2022-05-27T09:27:34.693Z"
      },
      {
        "duration": 6,
        "start_time": "2022-05-27T09:27:51.012Z"
      },
      {
        "duration": 8,
        "start_time": "2022-05-27T09:27:51.561Z"
      },
      {
        "duration": 5,
        "start_time": "2022-05-27T10:08:28.253Z"
      },
      {
        "duration": 8,
        "start_time": "2022-05-27T10:08:35.956Z"
      },
      {
        "duration": 9,
        "start_time": "2022-05-27T10:09:28.764Z"
      },
      {
        "duration": 5,
        "start_time": "2022-05-27T10:10:01.699Z"
      },
      {
        "duration": 15,
        "start_time": "2022-05-27T10:10:11.680Z"
      },
      {
        "duration": 9,
        "start_time": "2022-05-27T10:10:46.061Z"
      },
      {
        "duration": 8,
        "start_time": "2022-05-27T10:10:58.265Z"
      },
      {
        "duration": 10,
        "start_time": "2022-05-27T10:11:12.369Z"
      },
      {
        "duration": 6,
        "start_time": "2022-05-27T10:12:57.282Z"
      },
      {
        "duration": 6,
        "start_time": "2022-05-27T10:13:23.466Z"
      },
      {
        "duration": 6,
        "start_time": "2022-05-27T10:13:23.930Z"
      },
      {
        "duration": 8,
        "start_time": "2022-05-27T10:13:37.602Z"
      },
      {
        "duration": 9,
        "start_time": "2022-05-27T10:14:23.612Z"
      },
      {
        "duration": 15,
        "start_time": "2022-05-27T10:14:39.467Z"
      },
      {
        "duration": 10,
        "start_time": "2022-05-27T10:17:50.503Z"
      },
      {
        "duration": 40,
        "start_time": "2022-05-27T10:18:25.376Z"
      },
      {
        "duration": 11,
        "start_time": "2022-05-27T10:24:25.635Z"
      },
      {
        "duration": 11,
        "start_time": "2022-05-27T10:24:48.039Z"
      },
      {
        "duration": 15,
        "start_time": "2022-05-27T10:24:53.463Z"
      },
      {
        "duration": 9,
        "start_time": "2022-05-27T10:25:09.382Z"
      },
      {
        "duration": 10,
        "start_time": "2022-05-27T10:25:29.054Z"
      },
      {
        "duration": 9,
        "start_time": "2022-05-27T10:26:49.705Z"
      },
      {
        "duration": 10,
        "start_time": "2022-05-27T10:26:59.157Z"
      },
      {
        "duration": 9,
        "start_time": "2022-05-27T10:27:24.537Z"
      },
      {
        "duration": 10,
        "start_time": "2022-05-27T10:27:31.473Z"
      },
      {
        "duration": 9,
        "start_time": "2022-05-27T10:27:36.158Z"
      },
      {
        "duration": 10,
        "start_time": "2022-05-27T10:27:42.690Z"
      },
      {
        "duration": 10,
        "start_time": "2022-05-27T10:28:06.938Z"
      },
      {
        "duration": 9,
        "start_time": "2022-05-27T10:28:25.016Z"
      },
      {
        "duration": 16,
        "start_time": "2022-05-27T10:29:03.420Z"
      },
      {
        "duration": 4,
        "start_time": "2022-05-27T10:29:53.386Z"
      },
      {
        "duration": 7,
        "start_time": "2022-05-27T10:30:09.108Z"
      },
      {
        "duration": 9,
        "start_time": "2022-05-27T10:30:33.525Z"
      },
      {
        "duration": 7,
        "start_time": "2022-05-27T10:30:45.597Z"
      },
      {
        "duration": 7,
        "start_time": "2022-05-27T10:33:40.918Z"
      },
      {
        "duration": 6,
        "start_time": "2022-05-27T10:33:41.432Z"
      },
      {
        "duration": 9,
        "start_time": "2022-05-27T10:36:24.291Z"
      },
      {
        "duration": 9,
        "start_time": "2022-05-27T10:37:21.306Z"
      },
      {
        "duration": 8,
        "start_time": "2022-05-27T10:37:43.757Z"
      },
      {
        "duration": 9,
        "start_time": "2022-05-27T10:38:00.904Z"
      },
      {
        "duration": 9,
        "start_time": "2022-05-27T10:38:10.774Z"
      },
      {
        "duration": 8,
        "start_time": "2022-05-27T10:38:21.838Z"
      },
      {
        "duration": 1259,
        "start_time": "2022-05-27T10:38:40.038Z"
      },
      {
        "duration": 49,
        "start_time": "2022-05-27T10:38:41.299Z"
      },
      {
        "duration": 15,
        "start_time": "2022-05-27T10:38:41.350Z"
      },
      {
        "duration": 22,
        "start_time": "2022-05-27T10:38:41.367Z"
      },
      {
        "duration": 7,
        "start_time": "2022-05-27T10:38:41.391Z"
      },
      {
        "duration": 24,
        "start_time": "2022-05-27T10:38:41.400Z"
      },
      {
        "duration": 13,
        "start_time": "2022-05-27T10:38:41.425Z"
      },
      {
        "duration": 35,
        "start_time": "2022-05-27T10:38:41.440Z"
      },
      {
        "duration": 8,
        "start_time": "2022-05-27T10:38:41.477Z"
      },
      {
        "duration": 36,
        "start_time": "2022-05-27T10:38:41.487Z"
      },
      {
        "duration": 20,
        "start_time": "2022-05-27T10:38:41.525Z"
      },
      {
        "duration": 2,
        "start_time": "2022-05-27T10:38:41.547Z"
      },
      {
        "duration": 11,
        "start_time": "2022-05-27T10:38:41.551Z"
      },
      {
        "duration": 35,
        "start_time": "2022-05-27T10:38:41.564Z"
      },
      {
        "duration": 3,
        "start_time": "2022-05-27T10:38:41.600Z"
      },
      {
        "duration": 8,
        "start_time": "2022-05-27T10:38:41.604Z"
      },
      {
        "duration": 16,
        "start_time": "2022-05-27T10:38:41.627Z"
      },
      {
        "duration": 12,
        "start_time": "2022-05-27T10:38:41.645Z"
      },
      {
        "duration": 31,
        "start_time": "2022-05-27T10:38:41.658Z"
      },
      {
        "duration": 8,
        "start_time": "2022-05-27T10:38:41.691Z"
      },
      {
        "duration": 25,
        "start_time": "2022-05-27T10:38:41.701Z"
      },
      {
        "duration": 21,
        "start_time": "2022-05-27T10:38:41.728Z"
      },
      {
        "duration": 9,
        "start_time": "2022-05-27T10:38:41.751Z"
      },
      {
        "duration": 5,
        "start_time": "2022-05-27T10:38:41.761Z"
      },
      {
        "duration": 20,
        "start_time": "2022-05-27T10:38:41.767Z"
      },
      {
        "duration": 8,
        "start_time": "2022-05-27T10:38:41.788Z"
      },
      {
        "duration": 272,
        "start_time": "2022-05-27T10:38:41.797Z"
      },
      {
        "duration": 8,
        "start_time": "2022-05-27T10:38:42.073Z"
      },
      {
        "duration": 248,
        "start_time": "2022-05-27T10:38:42.083Z"
      },
      {
        "duration": 9,
        "start_time": "2022-05-27T10:38:42.333Z"
      },
      {
        "duration": 9,
        "start_time": "2022-05-27T10:38:42.343Z"
      },
      {
        "duration": 10,
        "start_time": "2022-05-27T10:38:42.354Z"
      },
      {
        "duration": 3,
        "start_time": "2022-05-27T10:38:42.366Z"
      },
      {
        "duration": 63,
        "start_time": "2022-05-27T10:38:42.370Z"
      },
      {
        "duration": 3,
        "start_time": "2022-05-27T10:38:42.435Z"
      },
      {
        "duration": 7,
        "start_time": "2022-05-27T10:38:42.440Z"
      },
      {
        "duration": 11,
        "start_time": "2022-05-27T10:38:42.448Z"
      },
      {
        "duration": 5,
        "start_time": "2022-05-27T10:38:42.460Z"
      },
      {
        "duration": 6,
        "start_time": "2022-05-27T10:38:42.466Z"
      },
      {
        "duration": 5,
        "start_time": "2022-05-27T10:38:42.473Z"
      },
      {
        "duration": 7,
        "start_time": "2022-05-27T10:38:42.479Z"
      },
      {
        "duration": 6,
        "start_time": "2022-05-27T10:38:42.487Z"
      },
      {
        "duration": 33,
        "start_time": "2022-05-27T10:38:42.494Z"
      },
      {
        "duration": 4,
        "start_time": "2022-05-27T10:38:42.529Z"
      },
      {
        "duration": 8,
        "start_time": "2022-05-27T10:38:42.535Z"
      },
      {
        "duration": 241,
        "start_time": "2022-05-27T10:38:42.544Z"
      },
      {
        "duration": 5,
        "start_time": "2022-05-27T10:38:42.786Z"
      },
      {
        "duration": 12,
        "start_time": "2022-05-27T10:38:42.792Z"
      },
      {
        "duration": 230,
        "start_time": "2022-05-27T10:38:42.806Z"
      },
      {
        "duration": 344,
        "start_time": "2022-05-27T10:38:43.038Z"
      },
      {
        "duration": 11,
        "start_time": "2022-05-27T10:38:43.384Z"
      },
      {
        "duration": 4,
        "start_time": "2022-05-27T10:38:43.397Z"
      },
      {
        "duration": 42,
        "start_time": "2022-05-27T10:38:43.403Z"
      },
      {
        "duration": 15,
        "start_time": "2022-05-27T10:38:43.447Z"
      },
      {
        "duration": 5,
        "start_time": "2022-05-27T10:38:43.464Z"
      },
      {
        "duration": 25,
        "start_time": "2022-05-27T10:38:43.470Z"
      },
      {
        "duration": 13,
        "start_time": "2022-05-27T10:38:43.496Z"
      },
      {
        "duration": 7,
        "start_time": "2022-05-27T10:38:43.510Z"
      },
      {
        "duration": 13,
        "start_time": "2022-05-27T10:38:43.519Z"
      },
      {
        "duration": 5,
        "start_time": "2022-05-27T10:38:43.534Z"
      },
      {
        "duration": 7,
        "start_time": "2022-05-27T10:38:43.540Z"
      },
      {
        "duration": 8,
        "start_time": "2022-05-27T10:38:43.548Z"
      },
      {
        "duration": 6,
        "start_time": "2022-05-27T10:38:43.558Z"
      },
      {
        "duration": 6,
        "start_time": "2022-05-27T10:38:43.565Z"
      },
      {
        "duration": 5744,
        "start_time": "2022-05-27T10:38:43.573Z"
      },
      {
        "duration": 994,
        "start_time": "2022-05-27T10:38:49.319Z"
      },
      {
        "duration": 110,
        "start_time": "2022-05-27T10:38:50.314Z"
      },
      {
        "duration": 5,
        "start_time": "2022-05-27T10:38:50.425Z"
      },
      {
        "duration": 7,
        "start_time": "2022-05-27T10:38:50.431Z"
      },
      {
        "duration": 7,
        "start_time": "2022-05-27T10:38:50.439Z"
      },
      {
        "duration": 23431,
        "start_time": "2022-05-27T10:38:50.448Z"
      },
      {
        "duration": 5,
        "start_time": "2022-05-27T10:39:13.881Z"
      },
      {
        "duration": 14,
        "start_time": "2022-05-27T10:39:13.887Z"
      },
      {
        "duration": 333,
        "start_time": "2022-05-27T10:39:13.903Z"
      },
      {
        "duration": 6,
        "start_time": "2022-05-27T10:39:14.328Z"
      },
      {
        "duration": 99,
        "start_time": "2022-05-27T10:39:14.336Z"
      },
      {
        "duration": 20,
        "start_time": "2022-05-27T10:39:14.437Z"
      },
      {
        "duration": 367,
        "start_time": "2022-05-27T10:39:14.459Z"
      },
      {
        "duration": 13,
        "start_time": "2022-05-27T10:39:14.828Z"
      },
      {
        "duration": 16,
        "start_time": "2022-05-27T10:39:14.842Z"
      },
      {
        "duration": 20,
        "start_time": "2022-05-27T10:39:14.860Z"
      },
      {
        "duration": 11,
        "start_time": "2022-05-27T10:39:14.885Z"
      },
      {
        "duration": 24,
        "start_time": "2022-05-27T10:39:14.898Z"
      },
      {
        "duration": 7,
        "start_time": "2022-05-27T10:39:23.135Z"
      },
      {
        "duration": 109,
        "start_time": "2022-05-27T10:39:40.072Z"
      },
      {
        "duration": 7,
        "start_time": "2022-05-27T10:40:00.936Z"
      },
      {
        "duration": 5,
        "start_time": "2022-05-27T10:40:24.041Z"
      },
      {
        "duration": 9,
        "start_time": "2022-05-27T10:40:35.495Z"
      },
      {
        "duration": 7,
        "start_time": "2022-05-27T10:40:49.504Z"
      },
      {
        "duration": 8,
        "start_time": "2022-05-27T10:41:45.764Z"
      },
      {
        "duration": 6,
        "start_time": "2022-05-27T10:41:50.455Z"
      },
      {
        "duration": 5,
        "start_time": "2022-05-27T10:41:50.962Z"
      },
      {
        "duration": 13,
        "start_time": "2022-05-27T10:41:51.514Z"
      },
      {
        "duration": 76,
        "start_time": "2022-05-27T10:44:16.582Z"
      },
      {
        "duration": 24,
        "start_time": "2022-05-27T10:44:37.790Z"
      },
      {
        "duration": 8,
        "start_time": "2022-05-27T10:44:46.518Z"
      },
      {
        "duration": 12,
        "start_time": "2022-05-27T10:46:22.064Z"
      },
      {
        "duration": 50,
        "start_time": "2022-05-27T10:46:59.191Z"
      },
      {
        "duration": 9,
        "start_time": "2022-05-27T10:47:07.362Z"
      },
      {
        "duration": 13,
        "start_time": "2022-05-27T10:47:20.710Z"
      },
      {
        "duration": 10,
        "start_time": "2022-05-27T10:47:26.838Z"
      },
      {
        "duration": 14,
        "start_time": "2022-05-27T10:50:03.238Z"
      },
      {
        "duration": 90,
        "start_time": "2022-05-27T10:50:37.989Z"
      },
      {
        "duration": 7,
        "start_time": "2022-05-27T10:50:54.326Z"
      },
      {
        "duration": 6,
        "start_time": "2022-05-27T10:50:55.109Z"
      },
      {
        "duration": 23,
        "start_time": "2022-05-27T10:50:55.640Z"
      },
      {
        "duration": 8,
        "start_time": "2022-05-27T10:51:01.582Z"
      },
      {
        "duration": 7,
        "start_time": "2022-05-27T10:51:01.957Z"
      },
      {
        "duration": 6,
        "start_time": "2022-05-27T10:51:02.371Z"
      },
      {
        "duration": 18,
        "start_time": "2022-05-27T10:51:02.820Z"
      }
    ],
    "colab": {
      "provenance": []
    },
    "kernelspec": {
      "display_name": "Python 3",
      "name": "python3"
    },
    "language_info": {
      "codemirror_mode": {
        "name": "ipython",
        "version": 3
      },
      "file_extension": ".py",
      "mimetype": "text/x-python",
      "name": "python",
      "nbconvert_exporter": "python",
      "pygments_lexer": "ipython3",
      "version": "3.9.12"
    },
    "toc": {
      "base_numbering": 1,
      "nav_menu": {},
      "number_sections": true,
      "sideBar": true,
      "skip_h1_title": true,
      "title_cell": "Table of Contents",
      "title_sidebar": "Contents",
      "toc_cell": false,
      "toc_position": {},
      "toc_section_display": true,
      "toc_window_display": false
    }
  },
  "nbformat": 4,
  "nbformat_minor": 0
}